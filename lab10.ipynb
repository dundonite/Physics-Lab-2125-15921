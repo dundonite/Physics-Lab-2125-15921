{
 "cells": [
  {
   "cell_type": "code",
   "execution_count": 1,
   "id": "7823e550-cb35-4870-af86-7f2dd13e3fbc",
   "metadata": {
    "editable": true,
    "slideshow": {
     "slide_type": ""
    },
    "tags": [
     "remove-cell"
    ]
   },
   "outputs": [
    {
     "data": {
      "application/mercury+json": "{\n    \"widget\": \"App\",\n    \"title\": \"Lab 8 - Hooke's Law With Multiple Springs\",\n    \"description\": \"Lab report for PHYS 2125 (15921) Spring 2025 Lab 8.\",\n    \"show_code\": false,\n    \"show_prompt\": false,\n    \"output\": \"app\",\n    \"schedule\": \"\",\n    \"notify\": \"{}\",\n    \"continuous_update\": true,\n    \"static_notebook\": false,\n    \"show_sidebar\": true,\n    \"full_screen\": true,\n    \"allow_download\": true,\n    \"allow_share\": true,\n    \"stop_on_error\": false,\n    \"model_id\": \"mercury-app\",\n    \"code_uid\": \"App.0.50.110.44-rand31efbbdc\"\n}",
      "text/html": [
       "<h3>Mercury Application</h3><small>This output won't appear in the web app.</small>"
      ],
      "text/plain": [
       "mercury.App"
      ]
     },
     "metadata": {},
     "output_type": "display_data"
    },
    {
     "data": {
      "application/mercury+json": "{\n    \"widget\": \"Text\",\n    \"value\": \"Hooke's Law With Multiple Springs\",\n    \"sanitize\": true,\n    \"rows\": 1,\n    \"label\": \"What is your name?\",\n    \"model_id\": \"68f615e9f01b4127991cc41e0227d6b6\",\n    \"code_uid\": \"Text.0.50.78.45-randb734c4a1\",\n    \"url_key\": \"\",\n    \"disabled\": false,\n    \"hidden\": false\n}",
      "application/vnd.jupyter.widget-view+json": {
       "model_id": "68f615e9f01b4127991cc41e0227d6b6",
       "version_major": 2,
       "version_minor": 0
      },
      "text/plain": [
       "mercury.Text"
      ]
     },
     "metadata": {},
     "output_type": "display_data"
    },
    {
     "data": {
      "application/mercury+json": "{\n    \"widget\": \"Text\",\n    \"value\": \"PHYS 2125 (15921)\",\n    \"sanitize\": true,\n    \"rows\": 1,\n    \"label\": \"What class are you in?\",\n    \"model_id\": \"5e65f3abad3345c3ad6d52f8d544ff43\",\n    \"code_uid\": \"Text.0.50.78.46-rand38e6bc07\",\n    \"url_key\": \"\",\n    \"disabled\": false,\n    \"hidden\": false\n}",
      "application/vnd.jupyter.widget-view+json": {
       "model_id": "5e65f3abad3345c3ad6d52f8d544ff43",
       "version_major": 2,
       "version_minor": 0
      },
      "text/plain": [
       "mercury.Text"
      ]
     },
     "metadata": {},
     "output_type": "display_data"
    },
    {
     "data": {
      "application/mercury+json": "{\n    \"widget\": \"Text\",\n    \"value\": \"2025-03-07\",\n    \"sanitize\": true,\n    \"rows\": 1,\n    \"label\": \"Lab Date\",\n    \"model_id\": \"fb124ce031f4412296385762d9994d2d\",\n    \"code_uid\": \"Text.0.50.78.47-randf453e727\",\n    \"url_key\": \"\",\n    \"disabled\": false,\n    \"hidden\": false\n}",
      "application/vnd.jupyter.widget-view+json": {
       "model_id": "fb124ce031f4412296385762d9994d2d",
       "version_major": 2,
       "version_minor": 0
      },
      "text/plain": [
       "mercury.Text"
      ]
     },
     "metadata": {},
     "output_type": "display_data"
    },
    {
     "data": {
      "application/mercury+json": "{\n    \"widget\": \"Text\",\n    \"value\": \"8\",\n    \"sanitize\": true,\n    \"rows\": 1,\n    \"label\": \"Lab Number\",\n    \"model_id\": \"227eb2d00fe74f58810ecd77828c00e6\",\n    \"code_uid\": \"Text.0.50.78.48-randbb1c0535\",\n    \"url_key\": \"\",\n    \"disabled\": false,\n    \"hidden\": false\n}",
      "application/vnd.jupyter.widget-view+json": {
       "model_id": "227eb2d00fe74f58810ecd77828c00e6",
       "version_major": 2,
       "version_minor": 0
      },
      "text/plain": [
       "mercury.Text"
      ]
     },
     "metadata": {},
     "output_type": "display_data"
    },
    {
     "data": {
      "application/mercury+json": "{\n    \"widget\": \"Text\",\n    \"value\": \"Hooke's Law With Multiple Springs\",\n    \"sanitize\": true,\n    \"rows\": 1,\n    \"label\": \"Lab Name\",\n    \"model_id\": \"f245af394df642d997d5e008adc0def8\",\n    \"code_uid\": \"Text.0.50.78.49-randb1a728af\",\n    \"url_key\": \"\",\n    \"disabled\": false,\n    \"hidden\": false\n}",
      "application/vnd.jupyter.widget-view+json": {
       "model_id": "f245af394df642d997d5e008adc0def8",
       "version_major": 2,
       "version_minor": 0
      },
      "text/plain": [
       "mercury.Text"
      ]
     },
     "metadata": {},
     "output_type": "display_data"
    },
    {
     "data": {
      "application/mercury+json": "{\n    \"widget\": \"Text\",\n    \"value\": \"To determine the validity of net spring constant of experimental values with the theoretical values.\",\n    \"sanitize\": true,\n    \"rows\": 3,\n    \"label\": \"Objective\",\n    \"model_id\": \"e392f5a1ba84449083fcd8491e596eca\",\n    \"code_uid\": \"Text.0.50.78.50-rand60812e75\",\n    \"url_key\": \"\",\n    \"disabled\": false,\n    \"hidden\": false\n}",
      "application/vnd.jupyter.widget-view+json": {
       "model_id": "e392f5a1ba84449083fcd8491e596eca",
       "version_major": 2,
       "version_minor": 0
      },
      "text/plain": [
       "mercury.Text"
      ]
     },
     "metadata": {},
     "output_type": "display_data"
    },
    {
     "data": {
      "application/mercury+json": "{\n    \"widget\": \"Text\",\n    \"value\": \"Discussion\",\n    \"sanitize\": true,\n    \"rows\": 5,\n    \"label\": \"Discuss\",\n    \"model_id\": \"7298ea9642054390a375a35f4d96da99\",\n    \"code_uid\": \"Text.0.50.78.56-randee07b802\",\n    \"url_key\": \"\",\n    \"disabled\": false,\n    \"hidden\": false\n}",
      "application/vnd.jupyter.widget-view+json": {
       "model_id": "7298ea9642054390a375a35f4d96da99",
       "version_major": 2,
       "version_minor": 0
      },
      "text/plain": [
       "mercury.Text"
      ]
     },
     "metadata": {},
     "output_type": "display_data"
    },
    {
     "data": {
      "application/mercury+json": "{\n    \"widget\": \"File\",\n    \"max_file_size\": \"10MB\",\n    \"label\": \"Data file upload\",\n    \"model_id\": \"87cb2bfe05a74490abc94c53006a1aa1\",\n    \"code_uid\": \"File.0.50.74.57-rand11d4ff8e\",\n    \"disabled\": false,\n    \"hidden\": false\n}",
      "application/vnd.jupyter.widget-view+json": {
       "model_id": "87cb2bfe05a74490abc94c53006a1aa1",
       "version_major": 2,
       "version_minor": 0
      },
      "text/plain": [
       "mercury.File"
      ]
     },
     "metadata": {},
     "output_type": "display_data"
    }
   ],
   "source": [
    "# Import libraries\n",
    "%reload_ext autoreload\n",
    "%autoreload 2\n",
    "\n",
    "import math\n",
    "import matplotlib.pyplot as plt\n",
    "import numpy as np\n",
    "import pandas as pd\n",
    "import re\n",
    "from IPython.display import display, HTML, Latex, Image, Video\n",
    "from IPython.display import Markdown as md\n",
    "from IPython.core.magic import register_cell_magic\n",
    "from tabulate import tabulate\n",
    "from sklearn.linear_model import LinearRegression\n",
    "import mercury as mr\n",
    "import datetime\n",
    "\n",
    "# Allow for markdown code cells\n",
    "@register_cell_magic\n",
    "def markdown(line, cell):\n",
    "    return md(cell.format(**globals()))\n",
    "\n",
    "# When was last Friday?\n",
    "last_friday = datetime.date.today() - pd.offsets.Week(weekday=4)\n",
    "\n",
    "# Lab Information\n",
    "defName   = \"Your Name\"\n",
    "defCourse = \"PHYS 2125 (15921)\"\n",
    "defSem    = \"Spring 2025\"\n",
    "defDate   = last_friday.strftime(\"%Y-%m-%d\")\n",
    "defNum    = \"10\"\n",
    "defName   = \"Waves\"\n",
    "defObj    = \"To determine the speed of a wave on string.\"\n",
    "#defQ1     = \"Question 1? (5 pts)\"\n",
    "#defQ2     = \"Question 2? (5 pts)\"\n",
    "#defG_X    = '$M_b\\; (g)$'\n",
    "#defG_Y    = '$M_H\\; (g)$'\n",
    "#defG_T    = '$\\mu_k$ as mass of block $M_b$ vs mass of hanging weight $M_H$'\n",
    "columns   = [\"Springs\", \"$M_a$ (kg)\", \"$x$ (m)\", \"$M_H$ (kg)\", \"$k_e$ (N/m)\", \"$k_e$ calculated (N/m)\"];\n",
    "colIdx    = 0\n",
    "fileName  = 'lab10.csv'\n",
    "\n",
    "# Mercury App\n",
    "app       = mr.App(title=\"Lab \" + defNum + \" - \" + defName, description=\"Lab report for \" + defCourse + \" \" + defSem + \" Lab \" + defNum + \".\")\n",
    "name      = mr.Text(label=\"What is your name?\",     value=defName, rows=1)\n",
    "course    = mr.Text(label=\"What class are you in?\", value=defCourse, rows=1)\n",
    "date      = mr.Text(label=\"Lab Date\",               value=defDate, rows=1)\n",
    "labNum    = mr.Text(label=\"Lab Number\",             value=defNum, rows=1)\n",
    "labName   = mr.Text(label=\"Lab Name\",               value=defName, rows=1)\n",
    "labObj    = mr.Text(label=\"Objective\",              value=defObj, rows=3)\n",
    "#q1        = mr.Text(value=\"Question 1 Answer\",      label=defQ1, rows=5)\n",
    "#q2        = mr.Text(value=\"Question 2 Answer\",      label=defQ2, rows=5)\n",
    "#g_xaxis   = mr.Text(label=\"X-axis label\",           value=defG_X, rows=1)\n",
    "#g_yaxis   = mr.Text(label=\"Y-axis label\",           value=defG_Y, rows=1)\n",
    "#g_title   = mr.Text(label=\"Graph title\",            value=defG_T, rows=1)\n",
    "discuss   = mr.Text(value=\"Discussion\",             label=\"Discuss\", rows=5)\n",
    "file      = mr.File(label=\"Data file upload\",       max_file_size=\"10MB\")"
   ]
  },
  {
   "cell_type": "code",
   "execution_count": 2,
   "id": "646a93e2-9575-41f7-8a9e-4e4307dced61",
   "metadata": {},
   "outputs": [],
   "source": [
    "%autoreload 2\n",
    "\n",
    "if file.filepath is not None:\n",
    "    df = pd.read_csv(file.filepath, names=columns, header=0).set_index(columns[colIdx])\n",
    "else:\n",
    "    df = pd.read_csv(fileName, names=columns, header=0).set_index(columns[colIdx])\n",
    "\n",
    "\n",
    "df['error'] = df.apply(lambda row: abs(row[columns[4]] - row[columns[5]]) / row[columns[5]] * 100 \n",
    "                          if df.index.get_loc(row.name) >= len(df) - 4 else np.nan, axis=1)\n",
    "\n",
    "# Formatting\n",
    "df[columns[2]] = df.apply(lambda row: f\"{row[columns[2]]:.4f}\", axis=1)\n",
    "df[columns[3]] = df.apply(lambda row: f\"{row[columns[3]]:.3f}\", axis=1)\n",
    "df[columns[4]] = df.apply(lambda row: f\"{row[columns[4]]:.3f}\", axis=1)\n",
    "df[columns[5]] = df.apply(lambda row: f\"{row[columns[5]]:.3f}\", axis=1)\n",
    "\n",
    "df = df.rename(columns={'error': 'Error $\\%$'})\n",
    "\n",
    "# Save this for the table\n",
    "df_table = df.fillna('');"
   ]
  },
  {
   "cell_type": "code",
   "execution_count": 3,
   "id": "3da618d7-974a-467a-ab8c-86773d8ccd5a",
   "metadata": {
    "editable": true,
    "slideshow": {
     "slide_type": ""
    },
    "tags": [
     "remove-cell"
    ]
   },
   "outputs": [
    {
     "data": {
      "text/markdown": [
       "\n",
       "# Lab 8: Hooke's Law With Multiple Springs\n",
       "Name: **Hooke's Law With Multiple Springs** \\\n",
       "Class: **PHYS 2125 (15921)** \\\n",
       "Date: **2025-03-07**\n",
       "\n",
       "<p style=\"page-break-after:always;\"></p>\n",
       "\n",
       "## Objective\n",
       "\n",
       "To determine the validity of net spring constant of experimental values with the theoretical values.\n"
      ],
      "text/plain": [
       "<IPython.core.display.Markdown object>"
      ]
     },
     "execution_count": 3,
     "metadata": {},
     "output_type": "execute_result"
    }
   ],
   "source": [
    "%%markdown\n",
    "\n",
    "# Lab {labNum.value}: {labName.value}\n",
    "Name: **{name.value}** \\\n",
    "Class: **{course.value}** \\\n",
    "Date: **{date.value}**\n",
    "\n",
    "<p style=\"page-break-after:always;\"></p>\n",
    "\n",
    "## Objective\n",
    "\n",
    "{labObj.value}"
   ]
  },
  {
   "cell_type": "markdown",
   "id": "09294620-7f56-4ab3-b5e1-ab29092e2152",
   "metadata": {},
   "source": [
    "## Equipment\n",
    "\n",
    "- (1) small A-base\n",
    "- (1) long metal rod\n",
    "- (1) clamp\n",
    "- (1) short rod\n",
    "- (1) spring set\n",
    "  - (3) spring with unknown $k$ value\n",
    "  - (1) 5g hook\n",
    "- (1) 40g weight\n",
    "- (1) 1 meter ruler\n",
    "\n",
    "<p style=\"page-break-after:always;\"></p>\n",
    "\n",
    "## Theory\n",
    "\n",
    "$F_a = M_H \\cdot g$\n",
    "\n",
    "$F_s = -kx$\n",
    "\n",
    "$M_H g = kx$\n",
    "\n",
    "$K = \\frac{M_H g}{x}$\n",
    "\n",
    "where\n",
    "\n",
    "$g$ is the gravitational constant ($9.8 m/s$).\n",
    "\n",
    "$F_a$ is the force of acceleration\n",
    "\n",
    "$F_s$ is the spring force\n",
    "\n",
    "$k$ is the spring constant\n",
    "\n",
    "$x$ is the displacement of the hanging weight.\n",
    "\n",
    "$M_h$ is the mass of the hook ($5g$)\n",
    "\n",
    "$M_a$ is the mass added to the hook with each trial.\n",
    "\n",
    "$M_H$ is the total mass of hanging block including the hook and added weight ($M_H = M_h + M_a$)\n",
    "\n",
    "*Critically*, when two multiple springs are connected in series then the effective spring constant is the reciprocal of the sum of the reciprocals, e.g. with springs $k_1$ and $k_2$ in series the $k_{effective} = (1/k_1 + 1/k_2)^-1$."
   ]
  },
  {
   "cell_type": "code",
   "execution_count": 4,
   "id": "f395bf80-6d20-45ce-b696-34d8daffd136",
   "metadata": {},
   "outputs": [
    {
     "data": {
      "text/html": [
       "<img src=\"https://raw.githubusercontent.com/dundonite/Physics-Lab-2125-15921/refs/heads/main/lab4.png\" width=\"500\"/>"
      ],
      "text/plain": [
       "<IPython.core.display.Image object>"
      ]
     },
     "metadata": {},
     "output_type": "display_data"
    }
   ],
   "source": [
    "display(Image(url='https://raw.githubusercontent.com/dundonite/Physics-Lab-2125-15921/refs/heads/main/lab4.png', width=500))"
   ]
  },
  {
   "cell_type": "markdown",
   "id": "d6319ba7-cc77-4222-9003-6178f43d6a06",
   "metadata": {},
   "source": [
    "<p style=\"page-break-after:always;\"></p>\n",
    "\n",
    "## Procedure\n",
    "\n",
    "The following procedure was followed.\n",
    "\n",
    "### Initial Setup\n",
    "\n",
    "The pendulum was constructed as follows.\n",
    "\n",
    "1. A small cast iron A-base was placed on the table.\n",
    "1. A 45cm steel rod was secured into the A-frame, raised up as much as possible to maximize the height.\n",
    "1. The vertical mounting side of a steel clamp was secured at the very top of the rod.\n",
    "1. A 15cm rod was attached to the horizontal side of the same steel clamp, to the far end of the smaller rod.\n",
    "1. Three different springs were selected and labeled for later identification.\n",
    "\n",
    "### Trial (completed for every combination of springs)\n",
    "\n",
    "1. The spring(s) were suspended from the rod.\n",
    "2. The 5g hook was suspended from the bottom spring.\n",
    "3. A 40g weight was added to the hook, and $x$ was recorded."
   ]
  },
  {
   "cell_type": "markdown",
   "id": "0b7dec1f-09ab-4b62-94f0-cb71b15ef156",
   "metadata": {},
   "source": [
    "<p style=\"page-break-after:always;\"></p>\n",
    "\n",
    "## Data"
   ]
  },
  {
   "cell_type": "code",
   "execution_count": 5,
   "id": "88de4dc9-a29b-4652-9a4c-c8bb9c17a1a7",
   "metadata": {
    "editable": true,
    "slideshow": {
     "slide_type": ""
    },
    "tags": []
   },
   "outputs": [
    {
     "data": {
      "text/html": [
       "<table id=\"itables_deb3af8b_c20a_4936_b3c4_f1df5f4fbc19\" class=\"display cell-border\" data-quarto-disable-processing=\"true\" style=\"table-layout:auto;width:auto;margin:auto;caption-side:bottom\">\n",
       "<thead>\n",
       "    <tr style=\"text-align: right;\">\n",
       "      <th></th>\n",
       "      <th>$M_a$ (kg)</th>\n",
       "      <th>$x$ (m)</th>\n",
       "      <th>$M_H$ (kg)</th>\n",
       "      <th>$k_e$ (N/m)</th>\n",
       "      <th>$k_e$ calculated (N/m)</th>\n",
       "      <th>Error $\\%$</th>\n",
       "    </tr>\n",
       "    <tr>\n",
       "      <th>Springs</th>\n",
       "      <th></th>\n",
       "      <th></th>\n",
       "      <th></th>\n",
       "      <th></th>\n",
       "      <th></th>\n",
       "      <th></th>\n",
       "    </tr>\n",
       "  </thead><tbody><tr>\n",
       "<td style=\"vertical-align:middle; text-align:left\">\n",
       "<a href=https://mwouts.github.io/itables/><svg class=\"main-svg\" xmlns=\"http://www.w3.org/2000/svg\" xmlns:xlink=\"http://www.w3.org/1999/xlink\"\n",
       "width=\"64\" viewBox=\"0 0 500 400\" style=\"font-family: 'Droid Sans', sans-serif;\">\n",
       "    <g style=\"fill:#d9d7fc\">\n",
       "        <path d=\"M100,400H500V357H100Z\" />\n",
       "        <path d=\"M100,300H400V257H100Z\" />\n",
       "        <path d=\"M0,200H400V157H0Z\" />\n",
       "        <path d=\"M100,100H500V57H100Z\" />\n",
       "        <path d=\"M100,350H500V307H100Z\" />\n",
       "        <path d=\"M100,250H400V207H100Z\" />\n",
       "        <path d=\"M0,150H400V107H0Z\" />\n",
       "        <path d=\"M100,50H500V7H100Z\" />\n",
       "    </g>\n",
       "    <g style=\"fill:#1a1366;stroke:#1a1366;\">\n",
       "   <rect x=\"100\" y=\"7\" width=\"400\" height=\"43\">\n",
       "    <animate\n",
       "      attributeName=\"width\"\n",
       "      values=\"0;400;0\"\n",
       "      dur=\"5s\"\n",
       "      repeatCount=\"indefinite\" />\n",
       "      <animate\n",
       "      attributeName=\"x\"\n",
       "      values=\"100;100;500\"\n",
       "      dur=\"5s\"\n",
       "      repeatCount=\"indefinite\" />\n",
       "  </rect>\n",
       "        <rect x=\"0\" y=\"107\" width=\"400\" height=\"43\">\n",
       "    <animate\n",
       "      attributeName=\"width\"\n",
       "      values=\"0;400;0\"\n",
       "      dur=\"3.5s\"\n",
       "      repeatCount=\"indefinite\" />\n",
       "    <animate\n",
       "      attributeName=\"x\"\n",
       "      values=\"0;0;400\"\n",
       "      dur=\"3.5s\"\n",
       "      repeatCount=\"indefinite\" />\n",
       "  </rect>\n",
       "        <rect x=\"100\" y=\"207\" width=\"300\" height=\"43\">\n",
       "    <animate\n",
       "      attributeName=\"width\"\n",
       "      values=\"0;300;0\"\n",
       "      dur=\"3s\"\n",
       "      repeatCount=\"indefinite\" />\n",
       "    <animate\n",
       "      attributeName=\"x\"\n",
       "      values=\"100;100;400\"\n",
       "      dur=\"3s\"\n",
       "      repeatCount=\"indefinite\" />\n",
       "  </rect>\n",
       "        <rect x=\"100\" y=\"307\" width=\"400\" height=\"43\">\n",
       "    <animate\n",
       "      attributeName=\"width\"\n",
       "      values=\"0;400;0\"\n",
       "      dur=\"4s\"\n",
       "      repeatCount=\"indefinite\" />\n",
       "      <animate\n",
       "      attributeName=\"x\"\n",
       "      values=\"100;100;500\"\n",
       "      dur=\"4s\"\n",
       "      repeatCount=\"indefinite\" />\n",
       "  </rect>\n",
       "        <g style=\"fill:transparent;stroke-width:8; stroke-linejoin:round\" rx=\"5\">\n",
       "            <g transform=\"translate(45 50) rotate(-45)\">\n",
       "                <circle r=\"33\" cx=\"0\" cy=\"0\" />\n",
       "                <rect x=\"-8\" y=\"32\" width=\"16\" height=\"30\" />\n",
       "            </g>\n",
       "\n",
       "            <g transform=\"translate(450 152)\">\n",
       "                <polyline points=\"-15,-20 -35,-20 -35,40 25,40 25,20\" />\n",
       "                <rect x=\"-15\" y=\"-40\" width=\"60\" height=\"60\" />\n",
       "            </g>\n",
       "\n",
       "            <g transform=\"translate(50 352)\">\n",
       "                <polygon points=\"-35,-5 0,-40 35,-5\" />\n",
       "                <polygon points=\"-35,10 0,45 35,10\" />\n",
       "            </g>\n",
       "\n",
       "            <g transform=\"translate(75 250)\">\n",
       "                <polyline points=\"-30,30 -60,0 -30,-30\" />\n",
       "                <polyline points=\"0,30 -30,0 0,-30\" />\n",
       "            </g>\n",
       "\n",
       "            <g transform=\"translate(425 250) rotate(180)\">\n",
       "                <polyline points=\"-30,30 -60,0 -30,-30\" />\n",
       "                <polyline points=\"0,30 -30,0 0,-30\" />\n",
       "            </g>\n",
       "        </g>\n",
       "    </g>\n",
       "</svg>\n",
       "</a>\n",
       "Loading ITables v2.2.4 from the internet...\n",
       "(need <a href=https://mwouts.github.io/itables/troubleshooting.html>help</a>?)</td>\n",
       "</tr></tbody>\n",
       "</table>\n",
       "<link href=\"https://www.unpkg.com/dt_for_itables@2.0.13/dt_bundle.css\" rel=\"stylesheet\">\n",
       "<script type=\"module\">\n",
       "    import {DataTable, jQuery as $} from 'https://www.unpkg.com/dt_for_itables@2.0.13/dt_bundle.js';\n",
       "\n",
       "    document.querySelectorAll(\"#itables_deb3af8b_c20a_4936_b3c4_f1df5f4fbc19:not(.dataTable)\").forEach(table => {\n",
       "        if (!(table instanceof HTMLTableElement))\n",
       "            return;\n",
       "\n",
       "        // Define the table data\n",
       "        const data = [[\"1\", 0.04, \"0.0265\", \"0.045\", \"16.642\", \"16.642\", \"\"], [\"2\", 0.04, \"0.0075\", \"0.045\", \"58.800\", \"58.800\", \"\"], [\"3\", 0.04, \"0.0740\", \"0.045\", \"5.959\", \"5.959\", \"\"], [\"1 & 2\", 0.04, \"0.0490\", \"0.045\", \"9.000\", \"12.971\", \" 30.614448\"], [\"1 & 3\", 0.04, \"0.1040\", \"0.045\", \"4.240\", \"4.388\", \" 3.372835\"], [\"2 & 3\", 0.04, \"0.0870\", \"0.045\", \"5.069\", \"5.411\", \" 6.320458\"], [\"1 & 2 & 3\", 0.04, \"0.1370\", \"0.045\", \"3.219\", \"4.083\", \" 21.160911\"]];\n",
       "\n",
       "        // Define the dt_args\n",
       "        let dt_args = {\"columnDefs\": [{\"className\": \"dt-center\", \"width\": \"25px\", \"targets\": \"_all\"}], \"layout\": {\"topStart\": null, \"topEnd\": null, \"bottomStart\": null, \"bottomEnd\": null}, \"order\": [], \"warn_on_selected_rows_not_rendered\": true};\n",
       "        dt_args[\"data\"] = data;\n",
       "\n",
       "        \n",
       "        new DataTable(table, dt_args);\n",
       "    });\n",
       "</script>\n"
      ],
      "text/plain": [
       "<IPython.core.display.HTML object>"
      ]
     },
     "metadata": {},
     "output_type": "display_data"
    }
   ],
   "source": [
    "\n",
    "%autoreload 2\n",
    "# Print the data table\n",
    "mr.Table(data=df_table, width=\"25px\")\n",
    "#HTML(df_table.to_html(notebook=True,col_space=10))"
   ]
  },
  {
   "cell_type": "code",
   "execution_count": 6,
   "id": "884a7dc7-45d3-4505-9232-696564f88dc2",
   "metadata": {
    "editable": true,
    "slideshow": {
     "slide_type": ""
    },
    "tags": []
   },
   "outputs": [
    {
     "data": {
      "text/markdown": [
       "\n",
       "## Calculations\n",
       "\n",
       "See the preceeding Theory and Data table sections.\n",
       "\n",
       "## Results\n",
       "\n",
       "The results are evident in the data table above.\n",
       "\n",
       "## Discussion\n",
       "\n",
       "Discussion\n"
      ],
      "text/plain": [
       "<IPython.core.display.Markdown object>"
      ]
     },
     "execution_count": 6,
     "metadata": {},
     "output_type": "execute_result"
    }
   ],
   "source": [
    "%%markdown\n",
    "\n",
    "## Calculations\n",
    "\n",
    "See the preceeding Theory and Data table sections.\n",
    "\n",
    "## Results\n",
    "\n",
    "The results are evident in the data table above.\n",
    "\n",
    "## Discussion\n",
    "\n",
    "{discuss.value}"
   ]
  }
 ],
 "metadata": {
  "kernelspec": {
   "display_name": "Python 3 (ipykernel)",
   "language": "python",
   "name": "python3"
  },
  "language_info": {
   "codemirror_mode": {
    "name": "ipython",
    "version": 3
   },
   "file_extension": ".py",
   "mimetype": "text/x-python",
   "name": "python",
   "nbconvert_exporter": "python",
   "pygments_lexer": "ipython3",
   "version": "3.11.2"
  }
 },
 "nbformat": 4,
 "nbformat_minor": 5
}

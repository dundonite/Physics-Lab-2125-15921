{
 "cells": [
  {
   "cell_type": "code",
   "execution_count": null,
   "id": "7823e550-cb35-4870-af86-7f2dd13e3fbc",
   "metadata": {
    "editable": true,
    "slideshow": {
     "slide_type": ""
    },
    "tags": [
     "remove-cell"
    ]
   },
   "outputs": [
    {
     "data": {
      "application/mercury+json": "{\n    \"widget\": \"App\",\n    \"title\": \"Lab 6 - Friction II (Inclined Plane)\",\n    \"description\": \"Lab report for PHYS 2125 (15921) Spring 2025 Lab 6.\",\n    \"show_code\": false,\n    \"show_prompt\": false,\n    \"output\": \"app\",\n    \"schedule\": \"\",\n    \"notify\": \"{}\",\n    \"continuous_update\": true,\n    \"static_notebook\": false,\n    \"show_sidebar\": true,\n    \"full_screen\": true,\n    \"allow_download\": true,\n    \"allow_share\": true,\n    \"stop_on_error\": false,\n    \"model_id\": \"mercury-app\",\n    \"code_uid\": \"App.0.50.110.33-rand63b47b98\"\n}",
      "text/html": [
       "<h3>Mercury Application</h3><small>This output won't appear in the web app.</small>"
      ],
      "text/plain": [
       "mercury.App"
      ]
     },
     "metadata": {},
     "output_type": "display_data"
    },
    {
     "data": {
      "application/mercury+json": "{\n    \"widget\": \"Text\",\n    \"value\": \"Your Name\",\n    \"sanitize\": true,\n    \"rows\": 1,\n    \"label\": \"What is your name?\",\n    \"model_id\": \"ec8a0cef6b0b4fa595ca3d6fa6f13aa5\",\n    \"code_uid\": \"Text.0.50.78.36-randd3c33d60\",\n    \"url_key\": \"\",\n    \"disabled\": false,\n    \"hidden\": false\n}",
      "application/vnd.jupyter.widget-view+json": {
       "model_id": "ec8a0cef6b0b4fa595ca3d6fa6f13aa5",
       "version_major": 2,
       "version_minor": 0
      },
      "text/plain": [
       "mercury.Text"
      ]
     },
     "metadata": {},
     "output_type": "display_data"
    },
    {
     "data": {
      "application/mercury+json": "{\n    \"widget\": \"Text\",\n    \"value\": \"PHYS 2125 (15921)\",\n    \"sanitize\": true,\n    \"rows\": 1,\n    \"label\": \"What class are you in?\",\n    \"model_id\": \"bb078aca168c4161a7bb82580c0f8eaa\",\n    \"code_uid\": \"Text.0.50.78.37-randde33040c\",\n    \"url_key\": \"\",\n    \"disabled\": false,\n    \"hidden\": false\n}",
      "application/vnd.jupyter.widget-view+json": {
       "model_id": "bb078aca168c4161a7bb82580c0f8eaa",
       "version_major": 2,
       "version_minor": 0
      },
      "text/plain": [
       "mercury.Text"
      ]
     },
     "metadata": {},
     "output_type": "display_data"
    },
    {
     "data": {
      "application/mercury+json": "{\n    \"widget\": \"Text\",\n    \"value\": \"2025-02-21\",\n    \"sanitize\": true,\n    \"rows\": 1,\n    \"label\": \"Lab Date\",\n    \"model_id\": \"8a4195f4919e40a89f36ecadb4c09cfc\",\n    \"code_uid\": \"Text.0.50.78.38-rande4d96fae\",\n    \"url_key\": \"\",\n    \"disabled\": false,\n    \"hidden\": false\n}",
      "application/vnd.jupyter.widget-view+json": {
       "model_id": "8a4195f4919e40a89f36ecadb4c09cfc",
       "version_major": 2,
       "version_minor": 0
      },
      "text/plain": [
       "mercury.Text"
      ]
     },
     "metadata": {},
     "output_type": "display_data"
    },
    {
     "data": {
      "application/mercury+json": "{\n    \"widget\": \"Text\",\n    \"value\": \"6\",\n    \"sanitize\": true,\n    \"rows\": 1,\n    \"label\": \"Lab Number\",\n    \"model_id\": \"7fc01d2703b74e1b87a8329b6c942805\",\n    \"code_uid\": \"Text.0.50.78.39-randc5a7e581\",\n    \"url_key\": \"\",\n    \"disabled\": false,\n    \"hidden\": false\n}",
      "application/vnd.jupyter.widget-view+json": {
       "model_id": "7fc01d2703b74e1b87a8329b6c942805",
       "version_major": 2,
       "version_minor": 0
      },
      "text/plain": [
       "mercury.Text"
      ]
     },
     "metadata": {},
     "output_type": "display_data"
    },
    {
     "data": {
      "application/mercury+json": "{\n    \"widget\": \"Text\",\n    \"value\": \"Friction II (Vertical Plane)\",\n    \"sanitize\": true,\n    \"rows\": 1,\n    \"label\": \"Lab Name\",\n    \"model_id\": \"03b9a4444a9c4662ad031e980ffba358\",\n    \"code_uid\": \"Text.0.50.78.40-randb4052c09\",\n    \"url_key\": \"\",\n    \"disabled\": false,\n    \"hidden\": false\n}",
      "application/vnd.jupyter.widget-view+json": {
       "model_id": "03b9a4444a9c4662ad031e980ffba358",
       "version_major": 2,
       "version_minor": 0
      },
      "text/plain": [
       "mercury.Text"
      ]
     },
     "metadata": {},
     "output_type": "display_data"
    },
    {
     "data": {
      "application/mercury+json": "{\n    \"widget\": \"Text\",\n    \"value\": \"Determine the kinetic coefficient of friction between the wooden block and the track.\",\n    \"sanitize\": true,\n    \"rows\": 3,\n    \"label\": \"Objective\",\n    \"model_id\": \"37f73eb448ee42f2886b94d39bca81f1\",\n    \"code_uid\": \"Text.0.50.78.41-rand7bb450a1\",\n    \"url_key\": \"\",\n    \"disabled\": false,\n    \"hidden\": false\n}",
      "application/vnd.jupyter.widget-view+json": {
       "model_id": "37f73eb448ee42f2886b94d39bca81f1",
       "version_major": 2,
       "version_minor": 0
      },
      "text/plain": [
       "mercury.Text"
      ]
     },
     "metadata": {},
     "output_type": "display_data"
    },
    {
     "data": {
      "application/mercury+json": "{\n    \"widget\": \"File\",\n    \"max_file_size\": \"10MB\",\n    \"label\": \"Data file upload\",\n    \"model_id\": \"2e296f3fad7a48c8a0d218a79807b514\",\n    \"code_uid\": \"File.0.50.74.42-rand808ddd96\",\n    \"disabled\": false,\n    \"hidden\": false\n}",
      "application/vnd.jupyter.widget-view+json": {
       "model_id": "2e296f3fad7a48c8a0d218a79807b514",
       "version_major": 2,
       "version_minor": 0
      },
      "text/plain": [
       "mercury.File"
      ]
     },
     "metadata": {},
     "output_type": "display_data"
    },
    {
     "data": {
      "application/mercury+json": "{\n    \"widget\": \"Text\",\n    \"value\": \"Question 1 Answer\",\n    \"sanitize\": true,\n    \"rows\": 5,\n    \"label\": \"What do you expect to happen if you interchange the masses? (4 pts)\",\n    \"model_id\": \"8f0afac899e645d0b96c86252c0b3aa4\",\n    \"code_uid\": \"Text.0.50.78.48-rand44b91a4c\",\n    \"url_key\": \"\",\n    \"disabled\": false,\n    \"hidden\": false\n}",
      "application/vnd.jupyter.widget-view+json": {
       "model_id": "8f0afac899e645d0b96c86252c0b3aa4",
       "version_major": 2,
       "version_minor": 0
      },
      "text/plain": [
       "mercury.Text"
      ]
     },
     "metadata": {},
     "output_type": "display_data"
    },
    {
     "data": {
      "application/mercury+json": "{\n    \"widget\": \"Text\",\n    \"value\": \"Question 2 Answer\",\n    \"sanitize\": true,\n    \"rows\": 5,\n    \"label\": \"Draw a clear 'Free-Body' diagrams showing all the forces for both masses. (6 pts)\",\n    \"model_id\": \"b8d7c682b1454cb1912ba9ecf4be0018\",\n    \"code_uid\": \"Text.0.50.78.49-randf4f78277\",\n    \"url_key\": \"\",\n    \"disabled\": false,\n    \"hidden\": false\n}",
      "application/vnd.jupyter.widget-view+json": {
       "model_id": "b8d7c682b1454cb1912ba9ecf4be0018",
       "version_major": 2,
       "version_minor": 0
      },
      "text/plain": [
       "mercury.Text"
      ]
     },
     "metadata": {},
     "output_type": "display_data"
    },
    {
     "data": {
      "application/mercury+json": "{\n    \"widget\": \"Text\",\n    \"value\": \"Discussion\",\n    \"sanitize\": true,\n    \"rows\": 5,\n    \"label\": \"Discuss\",\n    \"model_id\": \"621d50bfa4cb4820a59ec1eb031de8bb\",\n    \"code_uid\": \"Text.0.50.78.51-randbce8ba47\",\n    \"url_key\": \"\",\n    \"disabled\": false,\n    \"hidden\": false\n}",
      "application/vnd.jupyter.widget-view+json": {
       "model_id": "621d50bfa4cb4820a59ec1eb031de8bb",
       "version_major": 2,
       "version_minor": 0
      },
      "text/plain": [
       "mercury.Text"
      ]
     },
     "metadata": {},
     "output_type": "display_data"
    },
    {
     "data": {
      "application/mercury+json": "{\n    \"widget\": \"Text\",\n    \"value\": \"$cos(\\\\theta)$\",\n    \"sanitize\": true,\n    \"rows\": 1,\n    \"label\": \"X-axis label\",\n    \"model_id\": \"5a893dbd3e5c42b78895c96f987b3782\",\n    \"code_uid\": \"Text.0.50.78.52-randb33df5c3\",\n    \"url_key\": \"\",\n    \"disabled\": false,\n    \"hidden\": false\n}",
      "application/vnd.jupyter.widget-view+json": {
       "model_id": "5a893dbd3e5c42b78895c96f987b3782",
       "version_major": 2,
       "version_minor": 0
      },
      "text/plain": [
       "mercury.Text"
      ]
     },
     "metadata": {},
     "output_type": "display_data"
    }
   ],
   "source": [
    "# Import libraries\n",
    "%reload_ext autoreload\n",
    "%autoreload 2\n",
    "\n",
    "import math\n",
    "import matplotlib.pyplot as plt\n",
    "import numpy as np\n",
    "import pandas as pd\n",
    "import re\n",
    "from IPython.display import display, HTML, Latex, Image, Video\n",
    "from IPython.display import Markdown as md\n",
    "from IPython.core.magic import register_cell_magic\n",
    "from tabulate import tabulate\n",
    "from sklearn.linear_model import LinearRegression\n",
    "import mercury as mr\n",
    "\n",
    "# Allow for markdown code cells\n",
    "@register_cell_magic\n",
    "def markdown(line, cell):\n",
    "    return md(cell.format(**globals()))\n",
    "\n",
    "# Add functions for sin and cosine using degrees\n",
    "def sin_degrees(degrees):\n",
    "    radians = math.radians(degrees)\n",
    "    sin = math.sin(radians)\n",
    "    return sin\n",
    "def cos_degrees(degrees):\n",
    "    radians = math.radians(degrees)\n",
    "    cos = math.cos(radians)\n",
    "    return cos\n",
    "\n",
    "# Set the Mercurty metadata forthe report\n",
    "app = mr.App(title=\"Lab 6 - Friction II (Inclined Plane)\", description=\"Lab report for PHYS 2125 (15921) Spring 2025 Lab 6.\")\n",
    "\n",
    "# Lab Information\n",
    "name = mr.Text(value=\"Your Name\", label=\"What is your name?\", rows=1)\n",
    "course = mr.Text(value=\"PHYS 2125 (15921)\", label=\"What class are you in?\", rows=1)\n",
    "date = mr.Text(value=\"2025-02-21\", label=\"Lab Date\", rows=1)\n",
    "labNum = mr.Text(value=\"6\", label=\"Lab Number\", rows=1)\n",
    "labName = mr.Text(value=\"Friction II (Vertical Plane)\", label=\"Lab Name\", rows=1)\n",
    "labObjective= mr.Text(value=\"Determine the kinetic coefficient of friction between the wooden block and the track.\", label=\"Objective\", rows=3)\n",
    "file = mr.File(label=\"Data file upload\", max_file_size=\"10MB\")\n",
    "defaultFile = \"lab6.csv\"\n",
    "# skip1 = mr.Checkbox(value=False, label=\"Were you instructed to exclude your first trial from the calculations?\")\n",
    "# It would be cooler if we could get the discussion questions into a dict and loop through them.\n",
    "q1q = \"What do you expect to happen if you interchange the masses? (4 pts)\"\n",
    "q2q = \"Draw a clear 'Free-Body' diagrams showing all the forces for both masses. (6 pts)\"\n",
    "q1 = mr.Text(value=\"Question 1 Answer\", label=q1q, rows=5)\n",
    "q2 = mr.Text(value=\"Question 2 Answer\", label=q2q, rows=5)\n",
    "#q3 = mr.Text(value=\"Question 3 Answer\", label=\"Question 3?\", rows=5)\n",
    "discussion = mr.Text(value=\"Discussion\", label=\"Discuss\", rows=5)\n",
    "plt1_xaxis = mr.Text(value = '$cos(\\\\theta)$', label=\"X-axis label\", rows=1)\n",
    "plt1_yaxis = mr.Text(value = '$M_H (g)$', label=\"Y-axis label\", rows=1)\n",
    "plt1_title = mr.Text(value = '$cos(\\\\theta)\\; vs\\; M_H (g)$', label=\"Graph title\", rows=1)\n",
    "dataColumnNames = [\"$\\\\theta  °$\", \"$M_a$ (g)\", \"$M_h$ (g)\", \"$M_H$ (g)\", \"$cos(\\\\theta)$\", \"$sin(\\\\theta)$\", \"$\\mu_k$\"];\n",
    "indexColumn = dataColumnNames[0];"
   ]
  },
  {
   "cell_type": "code",
   "execution_count": null,
   "id": "646a93e2-9575-41f7-8a9e-4e4307dced61",
   "metadata": {},
   "outputs": [],
   "source": [
    "%autoreload 2\n",
    "\n",
    "# Parse Data\n",
    "if file.filepath is not None:\n",
    "    df = pd.read_csv(file.filepath, names=dataColumnNames, header=0).set_index(indexColumn)\n",
    "else:\n",
    "    df = pd.read_csv(defaultFile, names=dataColumnNames, header=0).set_index(indexColumn)\n",
    "\n",
    "# Remove the last row with the empty index\n",
    "df = df.drop(df.tail(1).index)\n",
    "\n",
    "# Constants\n",
    "g_earth = 9.8;\n",
    "m_b = 114; # 114 gram block\n",
    "\n",
    "# Calculate M_H as M_h + M_a\n",
    "df[dataColumnNames[3]] = df.apply(lambda row: row[dataColumnNames[2]] + row[dataColumnNames[1]], axis=1)\n",
    "\n",
    "# Calculate cos theta\n",
    "df[dataColumnNames[4]] = df.apply(lambda row: cos_degrees(row.name), axis=1)\n",
    "\n",
    "# Calculate sin theta\n",
    "df[dataColumnNames[5]] = df.apply(lambda row: sin_degrees(row.name), axis=1)\n",
    "\n",
    "# Calculate μ_k\n",
    "df[dataColumnNames[6]] = df.apply(lambda row: (row[dataColumnNames[3]] - (m_b * row[dataColumnNames[5]])) / (m_b * row[dataColumnNames[4]]), axis=1)\n",
    "\n",
    "# Calculate the trend line slope and intercept\n",
    "trend = np.polyfit(df[dataColumnNames[4]], df[dataColumnNames[3]], 1)  # 1 for linear trendline\n",
    "trend_slope, trend_intercept = trend\n",
    "\n",
    "# Calculate μ_k from the graph\n",
    "u_k_g = trend_slope / m_b;\n",
    "\n",
    "# Mean and StdDev across the board\n",
    "mean = df.mean()\n",
    "deviation = df.std(ddof=0)\n",
    "\n",
    "# Calculate μ_k from the table\n",
    "u_k_t = mean[dataColumnNames[6]];\n",
    "u_k_t_dev = deviation[dataColumnNames[6]];\n",
    "\n",
    "# Calculate % difference between u_k_table and u_k_graph\n",
    "u_k_diff = abs( u_k_g - u_k_t ) / ( ( u_k_t + u_k_g ) / 2 )\n",
    "\n",
    "# Save this for the graph\n",
    "df_graph = df.fillna('');\n",
    "\n",
    "# Add the average value of u_k\n",
    "df.loc['Average'] = {\n",
    "    dataColumnNames[1]: np.nan,\n",
    "    dataColumnNames[2]: np.nan,\n",
    "    dataColumnNames[3]: np.nan,\n",
    "    dataColumnNames[4]: np.nan,\n",
    "    dataColumnNames[5]: np.nan,\n",
    "    dataColumnNames[6]: u_k_t\n",
    "};\n",
    "# Add the standard devation value of u_k\n",
    "df.loc['StdDev'] = {\n",
    "    dataColumnNames[1]: np.nan,\n",
    "    dataColumnNames[2]: np.nan,\n",
    "    dataColumnNames[3]: np.nan,\n",
    "    dataColumnNames[4]: np.nan,\n",
    "    dataColumnNames[5]: np.nan,\n",
    "    dataColumnNames[6]: u_k_t_dev\n",
    "};\n",
    "\n",
    "# Save this for the table\n",
    "df_table = df.fillna('');\n",
    "\n",
    "# Let's make some stings\n",
    "u_k_t_str = str(\"%.3f\" % round(u_k_t, 3))\n",
    "u_k_t_dev_str = str(\"%.3f\" % round(u_k_t_dev, 3))\n",
    "u_k_diff_str = str(\"%.3f\" % round(u_k_diff, 3))\n",
    "u_k_g_str = str(\"%.3f\" % round(u_k_g, 3))\n",
    "trend_slope_str = str(\"%.3f\" % round(trend_slope, 3))\n",
    "trend_intercept_str = str(\"%.3f\" % round(trend_intercept, 3))"
   ]
  },
  {
   "cell_type": "code",
   "execution_count": null,
   "id": "3da618d7-974a-467a-ab8c-86773d8ccd5a",
   "metadata": {
    "editable": true,
    "slideshow": {
     "slide_type": ""
    },
    "tags": [
     "remove-cell"
    ]
   },
   "outputs": [],
   "source": [
    "%%markdown\n",
    "\n",
    "# Lab {labNum.value}: {labName.value}\n",
    "Name: **{name.value}** \\\n",
    "Class: **{course.value}** \\\n",
    "Date: **{date.value}**\n",
    "\n",
    "<p style=\"page-break-after:always;\"></p>\n",
    "\n",
    "## Objective\n",
    "\n",
    "\n",
    "{labObjective.value}"
   ]
  },
  {
   "cell_type": "markdown",
   "id": "09294620-7f56-4ab3-b5e1-ab29092e2152",
   "metadata": {},
   "source": [
    "$$\\require{cancel}$$  \n",
    "\n",
    "## Equipment\n",
    "\n",
    "- (1) small A-base\n",
    "- (1) long metal rod\n",
    "- (1) clamp\n",
    "- (1) short rod\n",
    "- (1) set of weights with known masses\n",
    "- (1) 50cm \"PASTrack\" track with four legs\n",
    "- (1) 114g friction block\n",
    "- (1) 5g hook\n",
    "- (1) ~70cm length of string\n",
    "- (1) pulley\n",
    "\n",
    "<p style=\"page-break-after:always;\"></p>\n",
    "\n",
    "## Theory\n",
    "\n",
    "Applying $F_{net} = ma$ for both masses in the direction of motion.\n",
    "\n",
    "_Given_:\n",
    "\n",
    "$M_Hg - T = M_Ha$, \n",
    "\n",
    "$T - (f_k + M_bg \\cdot sin(\\theta)) = M_ba$, and\n",
    "\n",
    "$f_k = \\mu_kn = \\mu_kM_bg \\cdot cos(\\theta)$.\n",
    "\n",
    "_Then_:\n",
    "\n",
    "$T = (\\mu_k (M_bg \\cdot cos(\\theta)) + M_bg \\cdot sin(\\theta)) + M_ba$, \n",
    "\n",
    "$M_Hg - ((\\mu_k (M_bg \\cdot  cos(\\theta)) + M_bg \\cdot sin(\\theta)) + M_ba) = M_Ha$, and\n",
    "\n",
    "$M_Hg - \\mu_k(M_b \\cdot g cos(\\theta)) - M_bg \\cdot sin(\\theta) = M_Ha + M_ba$.\n",
    "\n",
    "_Setting $a = 0$ and cancelling out $g$_\n",
    "\n",
    "$M_H\\cancel{g} - \\mu_kM_b\\cancel{g} \\cdot cos(\\theta) - M_b\\cancel{g} \\cdot sin(\\theta) = M_H(0) + M_b(0)$\n",
    "\n",
    "_results in_\n",
    "\n",
    "$M_H - \\mu_kM_b \\cdot cos(\\theta) - M_b \\cdot sin(\\theta) = 0$, and\n",
    "\n",
    "$\\mu_k = \\frac{M_H - M_b \\cdot sin(\\theta)}{M_b \\cdot cos(\\theta)}$\n",
    "\n",
    "_where_:\n",
    "\n",
    "$g$ is the gravitational constant (of Earth) ($9.8\\frac{m}{s^2}$),\n",
    "\n",
    "$T$ is the force of Tension,\n",
    "\n",
    "$a$ is acceleration (which we attempt to minimize),\n",
    "\n",
    "$\\theta$ is the angle of inclination,\n",
    "\n",
    "$f_k$ is the force of friction,\n",
    "\n",
    "$\\mu_k$ is the coefficient of friction,\n",
    "\n",
    "$M_b$ is the mass of the block ($114g$),\n",
    "\n",
    "$M_h$ is the mass of the hook ($5g$),\n",
    "\n",
    "$M_a$ is the mass added with each trial, and\n",
    "\n",
    "$M_H = M_a + M_h$."
   ]
  },
  {
   "cell_type": "code",
   "execution_count": null,
   "id": "f395bf80-6d20-45ce-b696-34d8daffd136",
   "metadata": {},
   "outputs": [],
   "source": [
    "display(Image(url='https://raw.githubusercontent.com/dundonite/Physics-Lab-2125-15921/refs/heads/main/lab6.png', width=500))"
   ]
  },
  {
   "cell_type": "markdown",
   "id": "d6319ba7-cc77-4222-9003-6178f43d6a06",
   "metadata": {},
   "source": [
    "<p style=\"page-break-after:always;\"></p>\n",
    "\n",
    "## Procedure\n",
    "\n",
    "### Initial Setup\n",
    "\n",
    "A track and pulley system were constructed.\n",
    "\n",
    "1. A small cast iron A-base was placed on the table.\n",
    "1. A 45cm steel rod was secured into the A-frame.\n",
    "1. The vertical mounting side of a steel clamp was secured at the very top of the rod.\n",
    "1. A 15cm rod was attached to the horizontal side of the same steel clamp, to the far end of the smaller rod.\n",
    "1. A $50cm$ piece of PASTrack was placed on the table, with one set of legs resting on the 15cm rod.\n",
    "1. A pully was connected to the track, on the elevated end.\n",
    "1. A friction block was tied to a 5g hook using a length of string.\n",
    "1. The friction block was placed on the track, furthest from the edge near the pulley.\n",
    "1. The string was laid over the pulley and the hook was left hanging.\n",
    "1. An angle indicator was connected to the track to determine θ.\n",
    "\n",
    "### Trial (completed for each $M_b$)\n",
    "\n",
    "1. For each trial the inclination of the track was adjusted.\n",
    "1. The block was moved to the end of the track opposite the pulley.\n",
    "1. Weight was slowly added to the hook $M_a$ until the following occurred:\n",
    "   1. The block was lightly tapped in the direction of the pulley to overcome the static friction.\n",
    "   1. The block steadily advanced down the track until reaching the pulley."
   ]
  },
  {
   "cell_type": "markdown",
   "id": "f32971de-4eef-48b2-8260-e665b350127e",
   "metadata": {},
   "source": [
    "<video width=\"500px\" muted loop autoplay src=\"./lab6.mp4\" />"
   ]
  },
  {
   "cell_type": "markdown",
   "id": "0b7dec1f-09ab-4b62-94f0-cb71b15ef156",
   "metadata": {},
   "source": [
    "<p style=\"page-break-after:always;\"></p>\n",
    "\n",
    "## Data"
   ]
  },
  {
   "cell_type": "code",
   "execution_count": null,
   "id": "88de4dc9-a29b-4652-9a4c-c8bb9c17a1a7",
   "metadata": {
    "editable": true,
    "slideshow": {
     "slide_type": ""
    },
    "tags": []
   },
   "outputs": [],
   "source": [
    "%autoreload 2\n",
    "# Print the data table\n",
    "mr.Table(data=df_table, width=\"25px\")\n",
    "#HTML(df_table.to_html(notebook=True,col_space=10))"
   ]
  },
  {
   "cell_type": "code",
   "execution_count": null,
   "id": "e20910cd-594a-472c-93b2-e32d9554fdec",
   "metadata": {},
   "outputs": [],
   "source": [
    "#if skip1.value:\n",
    "#    display(md(\"_Note: the first trial was excluded from the calculations as a likely error._\"))"
   ]
  },
  {
   "cell_type": "code",
   "execution_count": null,
   "id": "884a7dc7-45d3-4505-9232-696564f88dc2",
   "metadata": {
    "editable": true,
    "slideshow": {
     "slide_type": ""
    },
    "tags": []
   },
   "outputs": [],
   "source": [
    "%%markdown\n",
    "\n",
    "<p style=\"page-break-after:always;\"></p>\n",
    "\n",
    "## Results\n",
    "\n",
    "The value of $μ$ was determined using the mean, $μ_t$. \n",
    "\n",
    "$μ_t = {u_k_t_str} $ with $σ$ of ${u_k_t_dev_str}$.\n",
    "\n",
    "## Discussion\n",
    "\n",
    "{discussion.value}\n",
    "\n",
    "## Questions\n",
    "\n",
    "__{q1q}__\n",
    "\n",
    "{q1.value}\n",
    "\n",
    "__{q2q}__\n",
    "\n",
    "{q2.value}"
   ]
  }
 ],
 "metadata": {
  "kernelspec": {
   "display_name": "Python 3 (ipykernel)",
   "language": "python",
   "name": "python3"
  },
  "language_info": {
   "codemirror_mode": {
    "name": "ipython",
    "version": 3
   },
   "file_extension": ".py",
   "mimetype": "text/x-python",
   "name": "python",
   "nbconvert_exporter": "python",
   "pygments_lexer": "ipython3",
   "version": "3.11.2"
  }
 },
 "nbformat": 4,
 "nbformat_minor": 5
}

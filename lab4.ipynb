{
 "cells": [
  {
   "cell_type": "code",
   "execution_count": 1,
   "id": "7823e550-cb35-4870-af86-7f2dd13e3fbc",
   "metadata": {
    "editable": true,
    "slideshow": {
     "slide_type": ""
    },
    "tags": [
     "remove-cell"
    ]
   },
   "outputs": [
    {
     "data": {
      "application/mercury+json": "{\n    \"widget\": \"App\",\n    \"title\": \"Lab 4\",\n    \"description\": \"Lab report for PHYS 2125 (15921) Spring 2025 Lab 4.\",\n    \"show_code\": false,\n    \"show_prompt\": false,\n    \"output\": \"app\",\n    \"schedule\": \"\",\n    \"notify\": \"{}\",\n    \"continuous_update\": true,\n    \"static_notebook\": false,\n    \"show_sidebar\": true,\n    \"full_screen\": true,\n    \"allow_download\": true,\n    \"allow_share\": true,\n    \"stop_on_error\": false,\n    \"model_id\": \"mercury-app\",\n    \"code_uid\": \"App.0.50.110.23-rand26725b7b\"\n}",
      "text/html": [
       "<h3>Mercury Application</h3><small>This output won't appear in the web app.</small>"
      ],
      "text/plain": [
       "mercury.App"
      ]
     },
     "metadata": {},
     "output_type": "display_data"
    },
    {
     "data": {
      "application/mercury+json": "{\n    \"widget\": \"Text\",\n    \"value\": \"Your Name\",\n    \"sanitize\": true,\n    \"rows\": 1,\n    \"label\": \"What is your name?\",\n    \"model_id\": \"5319b9dfe7cd48c897301cc5581c4b18\",\n    \"code_uid\": \"Text.0.50.78.26-rand2854f23f\",\n    \"url_key\": \"\",\n    \"disabled\": false,\n    \"hidden\": false\n}",
      "application/vnd.jupyter.widget-view+json": {
       "model_id": "5319b9dfe7cd48c897301cc5581c4b18",
       "version_major": 2,
       "version_minor": 0
      },
      "text/plain": [
       "mercury.Text"
      ]
     },
     "metadata": {},
     "output_type": "display_data"
    },
    {
     "data": {
      "application/mercury+json": "{\n    \"widget\": \"Text\",\n    \"value\": \"PHYS 2125 (15921)\",\n    \"sanitize\": true,\n    \"rows\": 1,\n    \"label\": \"What class are you in?\",\n    \"model_id\": \"27b740f29cdb40e09f94582d3123df26\",\n    \"code_uid\": \"Text.0.50.78.27-randf9790021\",\n    \"url_key\": \"\",\n    \"disabled\": false,\n    \"hidden\": false\n}",
      "application/vnd.jupyter.widget-view+json": {
       "model_id": "27b740f29cdb40e09f94582d3123df26",
       "version_major": 2,
       "version_minor": 0
      },
      "text/plain": [
       "mercury.Text"
      ]
     },
     "metadata": {},
     "output_type": "display_data"
    },
    {
     "data": {
      "application/mercury+json": "{\n    \"widget\": \"Text\",\n    \"value\": \"2025-02-07\",\n    \"sanitize\": true,\n    \"rows\": 1,\n    \"label\": \"Lab Date\",\n    \"model_id\": \"96c89500b6124e63bf187e01681477db\",\n    \"code_uid\": \"Text.0.50.78.28-rand7355e7be\",\n    \"url_key\": \"\",\n    \"disabled\": false,\n    \"hidden\": false\n}",
      "application/vnd.jupyter.widget-view+json": {
       "model_id": "96c89500b6124e63bf187e01681477db",
       "version_major": 2,
       "version_minor": 0
      },
      "text/plain": [
       "mercury.Text"
      ]
     },
     "metadata": {},
     "output_type": "display_data"
    },
    {
     "data": {
      "application/mercury+json": "{\n    \"widget\": \"Text\",\n    \"value\": \"4\",\n    \"sanitize\": true,\n    \"rows\": 1,\n    \"label\": \"Lab Number\",\n    \"model_id\": \"39667d270a9c4f53aff90c4989ecf3f8\",\n    \"code_uid\": \"Text.0.50.78.29-rand446bfc89\",\n    \"url_key\": \"\",\n    \"disabled\": false,\n    \"hidden\": false\n}",
      "application/vnd.jupyter.widget-view+json": {
       "model_id": "39667d270a9c4f53aff90c4989ecf3f8",
       "version_major": 2,
       "version_minor": 0
      },
      "text/plain": [
       "mercury.Text"
      ]
     },
     "metadata": {},
     "output_type": "display_data"
    },
    {
     "data": {
      "application/mercury+json": "{\n    \"widget\": \"Text\",\n    \"value\": \"Hooke's Law\",\n    \"sanitize\": true,\n    \"rows\": 1,\n    \"label\": \"Lab Name\",\n    \"model_id\": \"79888a950f444fb489fb733ca8fc1d50\",\n    \"code_uid\": \"Text.0.50.78.30-rand1ac8159d\",\n    \"url_key\": \"\",\n    \"disabled\": false,\n    \"hidden\": false\n}",
      "application/vnd.jupyter.widget-view+json": {
       "model_id": "79888a950f444fb489fb733ca8fc1d50",
       "version_major": 2,
       "version_minor": 0
      },
      "text/plain": [
       "mercury.Text"
      ]
     },
     "metadata": {},
     "output_type": "display_data"
    },
    {
     "data": {
      "application/mercury+json": "{\n    \"widget\": \"File\",\n    \"max_file_size\": \"10MB\",\n    \"label\": \"Data file upload\",\n    \"model_id\": \"de33f6f08b6b46cfa4ebad8af181249d\",\n    \"code_uid\": \"File.0.50.74.31-rand5d1322f5\",\n    \"disabled\": false,\n    \"hidden\": false\n}",
      "application/vnd.jupyter.widget-view+json": {
       "model_id": "de33f6f08b6b46cfa4ebad8af181249d",
       "version_major": 2,
       "version_minor": 0
      },
      "text/plain": [
       "mercury.File"
      ]
     },
     "metadata": {},
     "output_type": "display_data"
    },
    {
     "data": {
      "application/mercury+json": "{\n    \"widget\": \"Checkbox\",\n    \"value\": false,\n    \"label\": \"Were you instructed to exclude your first trial from the calculations?\",\n    \"model_id\": \"4633a6bb4bd04561a960201127b21b3c\",\n    \"code_uid\": \"Checkbox.0.50.70.32-rand2d2cb75a\",\n    \"url_key\": \"\",\n    \"disabled\": false,\n    \"hidden\": false\n}",
      "application/vnd.jupyter.widget-view+json": {
       "model_id": "4633a6bb4bd04561a960201127b21b3c",
       "version_major": 2,
       "version_minor": 0
      },
      "text/plain": [
       "mercury.Checkbox"
      ]
     },
     "metadata": {},
     "output_type": "display_data"
    },
    {
     "data": {
      "application/mercury+json": "{\n    \"widget\": \"Text\",\n    \"value\": \"Question 1 Answer\",\n    \"sanitize\": true,\n    \"rows\": 5,\n    \"label\": \"Explain the two reasons for not getting % difference close to zero. (3 pts)\",\n    \"model_id\": \"1e5e0a7fe4164159a41bb9b816bc76d2\",\n    \"code_uid\": \"Text.0.50.78.34-randf199935c\",\n    \"url_key\": \"\",\n    \"disabled\": false,\n    \"hidden\": false\n}",
      "application/vnd.jupyter.widget-view+json": {
       "model_id": "1e5e0a7fe4164159a41bb9b816bc76d2",
       "version_major": 2,
       "version_minor": 0
      },
      "text/plain": [
       "mercury.Text"
      ]
     },
     "metadata": {},
     "output_type": "display_data"
    },
    {
     "data": {
      "application/mercury+json": "{\n    \"widget\": \"Text\",\n    \"value\": \"Question 2 Answer\",\n    \"sanitize\": true,\n    \"rows\": 5,\n    \"label\": \"What was the most difficult measurement to make during this experiment? (3 pts)\",\n    \"model_id\": \"e86df24220924ce2945de9d779843e51\",\n    \"code_uid\": \"Text.0.50.78.35-rand03ccf980\",\n    \"url_key\": \"\",\n    \"disabled\": false,\n    \"hidden\": false\n}",
      "application/vnd.jupyter.widget-view+json": {
       "model_id": "e86df24220924ce2945de9d779843e51",
       "version_major": 2,
       "version_minor": 0
      },
      "text/plain": [
       "mercury.Text"
      ]
     },
     "metadata": {},
     "output_type": "display_data"
    },
    {
     "data": {
      "application/mercury+json": "{\n    \"widget\": \"Text\",\n    \"value\": \"Question 4 Answer\",\n    \"sanitize\": true,\n    \"rows\": 5,\n    \"label\": \"Why did you take two x-values for each mass? (4 pts)\",\n    \"model_id\": \"71b65c279a724cba94e09ca00b794065\",\n    \"code_uid\": \"Text.0.50.78.36-randb0e98973\",\n    \"url_key\": \"\",\n    \"disabled\": false,\n    \"hidden\": false\n}",
      "application/vnd.jupyter.widget-view+json": {
       "model_id": "71b65c279a724cba94e09ca00b794065",
       "version_major": 2,
       "version_minor": 0
      },
      "text/plain": [
       "mercury.Text"
      ]
     },
     "metadata": {},
     "output_type": "display_data"
    },
    {
     "data": {
      "application/mercury+json": "{\n    \"widget\": \"Text\",\n    \"value\": \"$x\\\\; (m)$\",\n    \"sanitize\": true,\n    \"rows\": 1,\n    \"label\": \"X-axis label\",\n    \"model_id\": \"309bb7f154b64080ae080995453837b1\",\n    \"code_uid\": \"Text.0.50.78.37-rand40c49867\",\n    \"url_key\": \"\",\n    \"disabled\": false,\n    \"hidden\": false\n}",
      "application/vnd.jupyter.widget-view+json": {
       "model_id": "309bb7f154b64080ae080995453837b1",
       "version_major": 2,
       "version_minor": 0
      },
      "text/plain": [
       "mercury.Text"
      ]
     },
     "metadata": {},
     "output_type": "display_data"
    },
    {
     "data": {
      "application/mercury+json": "{\n    \"widget\": \"Text\",\n    \"value\": \"$M_H\\\\; (kg)$\",\n    \"sanitize\": true,\n    \"rows\": 1,\n    \"label\": \"Y-axis label\",\n    \"model_id\": \"8427fc519b9840b2a04fe1eaed65b195\",\n    \"code_uid\": \"Text.0.50.78.38-rande5cb0041\",\n    \"url_key\": \"\",\n    \"disabled\": false,\n    \"hidden\": false\n}",
      "application/vnd.jupyter.widget-view+json": {
       "model_id": "8427fc519b9840b2a04fe1eaed65b195",
       "version_major": 2,
       "version_minor": 0
      },
      "text/plain": [
       "mercury.Text"
      ]
     },
     "metadata": {},
     "output_type": "display_data"
    },
    {
     "data": {
      "application/mercury+json": "{\n    \"widget\": \"Text\",\n    \"value\": \"$Hanging\\\\; mass\\\\; (M_H)\\\\; vs\\\\; spring\\\\; elongation\\\\; (x)$\",\n    \"sanitize\": true,\n    \"rows\": 1,\n    \"label\": \"Graph title\",\n    \"model_id\": \"b70c533aa0df499b8617ab152754e96d\",\n    \"code_uid\": \"Text.0.50.78.39-rand7c08ce43\",\n    \"url_key\": \"\",\n    \"disabled\": false,\n    \"hidden\": false\n}",
      "application/vnd.jupyter.widget-view+json": {
       "model_id": "b70c533aa0df499b8617ab152754e96d",
       "version_major": 2,
       "version_minor": 0
      },
      "text/plain": [
       "mercury.Text"
      ]
     },
     "metadata": {},
     "output_type": "display_data"
    }
   ],
   "source": [
    "# Import libraries\n",
    "%load_ext autoreload\n",
    "#%autoreload 2\n",
    "\n",
    "import math\n",
    "import matplotlib.pyplot as plt\n",
    "import numpy as np\n",
    "import pandas as pd\n",
    "import re\n",
    "from IPython.display import display, HTML, Latex, Image\n",
    "from IPython.display import Markdown as md\n",
    "from IPython.core.magic import register_cell_magic\n",
    "from tabulate import tabulate\n",
    "from sklearn.linear_model import LinearRegression\n",
    "import mercury as mr\n",
    "\n",
    "# Allow for markdown code cells\n",
    "@register_cell_magic\n",
    "def markdown(line, cell):\n",
    "    return md(cell.format(**globals()))\n",
    "\n",
    "# Set the Mercurty metadata forthe report\n",
    "app = mr.App(title=\"Lab 4\", description=\"Lab report for PHYS 2125 (15921) Spring 2025 Lab 4.\")\n",
    "\n",
    "# Request Data\n",
    "name = mr.Text(value=\"Your Name\", label=\"What is your name?\", rows=1)\n",
    "course = mr.Text(value=\"PHYS 2125 (15921)\", label=\"What class are you in?\", rows=1)\n",
    "date = mr.Text(value=\"2025-02-07\", label=\"Lab Date\", rows=1)\n",
    "labNum = mr.Text(value=\"4\", label=\"Lab Number\", rows=1)\n",
    "labName = mr.Text(value=\"Hooke's Law\", label=\"Lab Name\", rows=1)\n",
    "file = mr.File(label=\"Data file upload\", max_file_size=\"10MB\")\n",
    "skip1 = mr.Checkbox(value=False, label=\"Were you instructed to exclude your first trial from the calculations?\")\n",
    "# It would be cooler if we could get the discussion questions into a dict and loop through them.\n",
    "dq1 = mr.Text(value=\"Question 1 Answer\", label=\"Explain the two reasons for not getting % difference close to zero. (3 pts)\", rows=5)\n",
    "dq2 = mr.Text(value=\"Question 2 Answer\", label=\"What was the most difficult measurement to make during this experiment? (3 pts)\", rows=5)\n",
    "dq3 = mr.Text(value=\"Question 4 Answer\", label=\"Why did you take two x-values for each mass? (4 pts)\", rows=5)\n",
    "plt1_xaxis = mr.Text(value = '$x\\; (m)$', label=\"X-axis label\", rows=1)\n",
    "plt1_yaxis = mr.Text(value = '$M_H\\; (kg)$', label=\"Y-axis label\", rows=1)\n",
    "plt1_title = mr.Text(value = '$Hanging\\; mass\\; (M_H)\\; vs\\; spring\\; elongation\\; (x)$', label=\"Graph title\", rows=1)"
   ]
  },
  {
   "cell_type": "code",
   "execution_count": 2,
   "id": "646a93e2-9575-41f7-8a9e-4e4307dced61",
   "metadata": {},
   "outputs": [],
   "source": [
    "# Parse Data\n",
    "dataColumnNames = [\"M_a (kg)\", \"M_h (kg)\", \"M_H (kg)\", \"M_H g (N)\", \"x_1 (m)\", \"x_2 (m)\", \"x_{avg} (m)\", \"k (N/m)\"];\n",
    "\n",
    "if file.filepath is not None:\n",
    "    df = pd.read_csv(file.filepath, names=dataColumnNames, header=0).set_index(dataColumnNames[0])\n",
    "else:\n",
    "    df = pd.read_csv('lab4.csv', names=dataColumnNames, header=0).set_index(dataColumnNames[0])\n",
    "\n",
    "# In theory the data we uploaded already has lots of these values, but just in case the Excel wasn't perfect we're going to do it here.\n",
    "\n",
    "# Constants\n",
    "g_earth = 9.8;\n",
    "\n",
    "# Calculate M_H as M_h + M_a, but only where we have a number for M_a\n",
    "df[dataColumnNames[2]] = df.apply(lambda row: float(row.name) + row[dataColumnNames[1]] if re.match(r'^-?\\d+(?:\\.\\d+)$',row.name) is not None else None, axis=1)\n",
    "\n",
    "# Recalculate M_H g\n",
    "df[dataColumnNames[3]] = df.apply(lambda row: row[dataColumnNames[2]] * g_earth if isinstance(row[dataColumnNames[2]], (int, float)) else None, axis=1)\n",
    "\n",
    "# Recaulcate x_avg\n",
    "df[dataColumnNames[6]] = df.apply(lambda row: ( row[dataColumnNames[4]] + row[dataColumnNames[5]] ) / 2, axis=1)\n",
    "\n",
    "# Recalculate k, but only where M_H is set.\n",
    "df[dataColumnNames[7]] = df.apply(lambda row: row[dataColumnNames[3]] / row[dataColumnNames[6]] if isinstance(row[dataColumnNames[2]], (int, float)) else None, axis=1)\n",
    "\n",
    "# Save this for the table\n",
    "df_table = df.fillna('');\n",
    "\n",
    "# Save x_unknown\n",
    "x_u = df.iat[-1, 5];\n",
    "\n",
    "# Remove the M_unknown row so that we can use the rest of the data frame for the other calculations\n",
    "df = df.drop(df.index[-1])\n",
    "\n",
    "# Delete the first row if we're not including that in the calculations\n",
    "if skip1.value:\n",
    "    df = df.drop(df.index[0])\n",
    "\n",
    "# Calculate the trend line slope and intercept\n",
    "trend = np.polyfit(df[dataColumnNames[6]], df[dataColumnNames[3]], 1)  # 1 for linear trendline\n",
    "trend_slope, trend_intercept = trend\n",
    "\n",
    "# - Use the equation of the line to get $k_g$\n",
    "k_g = trend_slope\n",
    "\n",
    "# Mean and StdDev across the board\n",
    "mean = df.mean()\n",
    "deviation = df.std(ddof=0)\n",
    "\n",
    "# - Calculate average $k$ from the table, $k_t$ (using data points 1-6, not the unknown mass)\n",
    "k_t = mean[dataColumnNames[7]];\n",
    "\n",
    "#- Calculate M_unknown using $k_t$\n",
    "# Extra information - how to calculate M_unknown using table: M_unknown_t = ( ( ( k_t * x_unknown ) /g ) -0.005 )\n",
    "m_k_t = ( ( k_t * x_u ) / g_earth ) - 0.005\n",
    "\n",
    "#- Calculate M_unknown using $k_g$\n",
    "# M_unknown from the graph (same thing, using k_g) (y-value of intercept with trendline): ( ( M_unknown_t / g ) -0.005 )\n",
    "m_int_y = (x_u) * k_g + trend_intercept\n",
    "m_k_g = ( m_int_y / g_earth ) -0.005 \n",
    "\n",
    "# Calculate % difference between k_table and k_graph\n",
    "k_diff = abs( k_g - k_t ) / ( ( k_t + k_g ) / 2 )\n",
    "\n",
    "# Calculate % difference m_unknown_table and m_unknown_graph\n",
    "m_diff = abs( m_k_g - m_k_t ) / ( ( m_k_t + m_k_g ) / 2 )\n",
    "\n",
    "# - Complete the graph with all the details\n",
    "# $g = 9.8 m/s/s$\n",
    "# slope of the line is $k$\n",
    "\n",
    "# Let's make some stings\n",
    "x_u_str = str(\"%.3f\" % round(x_u, 3))\n",
    "m_int_y_str = str(\"%.3f\" % round(m_int_y, 3))\n",
    "k_g_str = str(\"%.3f\" % round(k_g, 3))\n",
    "k_t_str = str(\"%.3f\" % round(k_t, 3))\n",
    "m_k_t_str = str(\"%.4f\" % round(m_k_t, 4))\n",
    "m_k_g_str = str(\"%.4f\" % round(m_k_g, 4))\n",
    "k_diff_str = str(\"%.2f\" % round(k_diff*100, 2))\n",
    "m_diff_str = str(\"%.2f\" % round(m_diff*100, 2))\n",
    "trend_slope_str = str(\"%.2f\" % round(trend_slope, 2))\n",
    "trend_intercept_str = str(\"%.2f\" % round(trend_intercept, 2))"
   ]
  },
  {
   "cell_type": "code",
   "execution_count": 3,
   "id": "3da618d7-974a-467a-ab8c-86773d8ccd5a",
   "metadata": {
    "editable": true,
    "slideshow": {
     "slide_type": ""
    },
    "tags": [
     "remove-cell"
    ]
   },
   "outputs": [
    {
     "data": {
      "text/markdown": [
       "\n",
       "# Lab 4: Hooke's Law\n",
       "Name: **Your Name** \\\n",
       "Class: **PHYS 2125 (15921)** \\\n",
       "Date: **2025-02-07**\n",
       "\n",
       "<p style=\"page-break-after:always;\"></p>\n"
      ],
      "text/plain": [
       "<IPython.core.display.Markdown object>"
      ]
     },
     "execution_count": 3,
     "metadata": {},
     "output_type": "execute_result"
    }
   ],
   "source": [
    "%%markdown\n",
    "\n",
    "# Lab {labNum.value}: {labName.value}\n",
    "Name: **{name.value}** \\\n",
    "Class: **{course.value}** \\\n",
    "Date: **{date.value}**\n",
    "\n",
    "<p style=\"page-break-after:always;\"></p>"
   ]
  },
  {
   "cell_type": "markdown",
   "id": "09294620-7f56-4ab3-b5e1-ab29092e2152",
   "metadata": {},
   "source": [
    "- [ ] TODO: final edits\n",
    "\n",
    "## Objective\n",
    "\n",
    "To determine the spring constant of a string, and then the mass of an unknown weight, using Hooke's law.\n",
    "\n",
    "## Equipment\n",
    "\n",
    "- (1) small A-base\n",
    "- (1) long metal rod\n",
    "- (1) clamp\n",
    "- (1) short rod\n",
    "- (1) spring set\n",
    "  - (1) \"medium strength\" spring with unknown $k$ value\n",
    "  - (1) 5g hook\n",
    "- (1) set of weights with known masses\n",
    "- (1) weight of unknown mass\n",
    "- (1) 1 meter ruler\n",
    "\n",
    "<p style=\"page-break-after:always;\"></p>\n",
    "\n",
    "## Theory\n",
    "\n",
    "The downward force of a weight, $F_a$, can be calculated per the equation\n",
    "\n",
    "$F_a = M_H g$\n",
    "\n",
    "where $M_H$ is the mass of the weight and $g$ is the gravitational constant of the Earth.\n",
    "\n",
    "This force can also be calculated per the equation\n",
    "\n",
    "$F_a = k x$\n",
    "\n",
    "where $k$ is the spring constant of the spring in question and $x$ is the amount of elongation of the spring.\n",
    "\n",
    "Because of Newton's third law we know that the force exerted on the spring, $F_s$ is the opposite of $F_a$, such that $F_s = - F_a$.\n",
    "\n",
    "Together can be rewritten as *Hooke's law*:\n",
    "\n",
    "$F_s = -kx$\n",
    "\n",
    "We can leverage these two relationships to derive a third, allowing us to relate the mass of a weight, $M_H$, directly to the spring constant, $k$.\n",
    "\n",
    "$M_H g = kx$\n",
    "\n",
    "In a two step process we will use weights of a known mass and a spring of an unknown $k$ value to calculate the mass of a weight of unknown mass.\n",
    "\n",
    "1. By using a variety of different weights of known mass we will determine the spring constant, $k$ of the spring we are using.\n",
    "1. With $k$ determined we will then use Hooke's law to to determine the mass of the unknown weight.\n",
    "\n",
    "Note: we are using a 5g hook to suspend the weights, and as such $M_H$ will be calculated per\n",
    "\n",
    "$M_H = M_h + M_a$\n",
    "\n",
    "where $M_h$ is the 5g mass of the hook and $M_a$ is the weight of the mass added in that trial."
   ]
  },
  {
   "cell_type": "code",
   "execution_count": 4,
   "id": "f395bf80-6d20-45ce-b696-34d8daffd136",
   "metadata": {},
   "outputs": [
    {
     "data": {
      "text/html": [
       "<img src=\"https://raw.githubusercontent.com/dundonite/Physics-Lab-2125-15921/refs/heads/main/lab4.png\" width=\"500\"/>"
      ],
      "text/plain": [
       "<IPython.core.display.Image object>"
      ]
     },
     "metadata": {},
     "output_type": "display_data"
    }
   ],
   "source": [
    "display(Image(url='https://raw.githubusercontent.com/dundonite/Physics-Lab-2125-15921/refs/heads/main/lab4.png', width=500))"
   ]
  },
  {
   "cell_type": "markdown",
   "id": "d6319ba7-cc77-4222-9003-6178f43d6a06",
   "metadata": {},
   "source": [
    "<p style=\"page-break-after:always;\"></p>\n",
    "\n",
    "## Procedure\n",
    "\n",
    "The following procedure was followed.\n",
    "\n",
    "### Initial Setup\n",
    "\n",
    "The pendulum was constructed as follows.\n",
    "\n",
    "1. A small cast iron A-base was placed on the table.\n",
    "1. A 45cm steel rod was secured into the A-frame, raised up as much as possible to maximize the height.\n",
    "1. The vertical mounting side of a steel clamp was secured at the very top of the rod.\n",
    "1. A 15cm rod was attached to the horizontal side of the same steel clamp, to the far end of the smaller rod.\n",
    "1. A spring with an unknown $k$ value was supsended from the small rod, opposite the clamp.\n",
    "\n",
    "### Trial (completed for each $M_a$)\n",
    "\n",
    "Each measurement was conducted twice and measured as $x_1$ and $x_2$.\n",
    "\n",
    "1. A 25g weight was attached to the hook, and $x$ was recorded.\n",
    "1. Weight was increased in 5g increments through 50g, with $x$ recorded for each.\n",
    "1. The weight of unknown mass was placed on the hook, and again the elongation, $x$ was measured."
   ]
  },
  {
   "cell_type": "markdown",
   "id": "0b7dec1f-09ab-4b62-94f0-cb71b15ef156",
   "metadata": {},
   "source": [
    "<p style=\"page-break-after:always;\"></p>\n",
    "\n",
    "## Data"
   ]
  },
  {
   "cell_type": "code",
   "execution_count": 5,
   "id": "88de4dc9-a29b-4652-9a4c-c8bb9c17a1a7",
   "metadata": {
    "editable": true,
    "slideshow": {
     "slide_type": ""
    },
    "tags": []
   },
   "outputs": [
    {
     "data": {
      "text/html": [
       "<div>\n",
       "<style scoped>\n",
       "    .dataframe tbody tr th:only-of-type {\n",
       "        vertical-align: middle;\n",
       "    }\n",
       "\n",
       "    .dataframe tbody tr th {\n",
       "        vertical-align: top;\n",
       "    }\n",
       "\n",
       "    .dataframe thead th {\n",
       "        text-align: right;\n",
       "    }\n",
       "</style>\n",
       "<table border=\"1\" class=\"dataframe\">\n",
       "  <thead>\n",
       "    <tr style=\"text-align: right;\">\n",
       "      <th style=\"min-width: 10px;\"></th>\n",
       "      <th style=\"min-width: 10px;\">M_h (kg)</th>\n",
       "      <th style=\"min-width: 10px;\">M_H (kg)</th>\n",
       "      <th style=\"min-width: 10px;\">M_H g (N)</th>\n",
       "      <th style=\"min-width: 10px;\">x_1 (m)</th>\n",
       "      <th style=\"min-width: 10px;\">x_2 (m)</th>\n",
       "      <th style=\"min-width: 10px;\">x_{avg} (m)</th>\n",
       "      <th style=\"min-width: 10px;\">k (N/m)</th>\n",
       "    </tr>\n",
       "    <tr>\n",
       "      <th>M_a (kg)</th>\n",
       "      <th style=\"min-width: 10px;\"></th>\n",
       "      <th style=\"min-width: 10px;\"></th>\n",
       "      <th style=\"min-width: 10px;\"></th>\n",
       "      <th style=\"min-width: 10px;\"></th>\n",
       "      <th style=\"min-width: 10px;\"></th>\n",
       "      <th style=\"min-width: 10px;\"></th>\n",
       "      <th style=\"min-width: 10px;\"></th>\n",
       "    </tr>\n",
       "  </thead>\n",
       "  <tbody>\n",
       "    <tr>\n",
       "      <th>0.025</th>\n",
       "      <td>0.005</td>\n",
       "      <td>0.03</td>\n",
       "      <td>0.294</td>\n",
       "      <td>0.21</td>\n",
       "      <td>0.19</td>\n",
       "      <td>0.200</td>\n",
       "      <td>1.47</td>\n",
       "    </tr>\n",
       "    <tr>\n",
       "      <th>0.03</th>\n",
       "      <td>0.005</td>\n",
       "      <td>0.035</td>\n",
       "      <td>0.343</td>\n",
       "      <td>0.31</td>\n",
       "      <td>0.28</td>\n",
       "      <td>0.295</td>\n",
       "      <td>1.162712</td>\n",
       "    </tr>\n",
       "    <tr>\n",
       "      <th>0.035</th>\n",
       "      <td>0.005</td>\n",
       "      <td>0.04</td>\n",
       "      <td>0.392</td>\n",
       "      <td>0.41</td>\n",
       "      <td>0.39</td>\n",
       "      <td>0.400</td>\n",
       "      <td>0.98</td>\n",
       "    </tr>\n",
       "    <tr>\n",
       "      <th>0.04</th>\n",
       "      <td>0.005</td>\n",
       "      <td>0.045</td>\n",
       "      <td>0.441</td>\n",
       "      <td>0.51</td>\n",
       "      <td>0.50</td>\n",
       "      <td>0.505</td>\n",
       "      <td>0.873267</td>\n",
       "    </tr>\n",
       "    <tr>\n",
       "      <th>0.045</th>\n",
       "      <td>0.005</td>\n",
       "      <td>0.05</td>\n",
       "      <td>0.49</td>\n",
       "      <td>0.61</td>\n",
       "      <td>0.59</td>\n",
       "      <td>0.600</td>\n",
       "      <td>0.816667</td>\n",
       "    </tr>\n",
       "    <tr>\n",
       "      <th>0.05</th>\n",
       "      <td>0.005</td>\n",
       "      <td>0.055</td>\n",
       "      <td>0.539</td>\n",
       "      <td>0.71</td>\n",
       "      <td>0.70</td>\n",
       "      <td>0.705</td>\n",
       "      <td>0.764539</td>\n",
       "    </tr>\n",
       "    <tr>\n",
       "      <th>M_Unknown</th>\n",
       "      <td>0.005</td>\n",
       "      <td></td>\n",
       "      <td></td>\n",
       "      <td>0.50</td>\n",
       "      <td>0.49</td>\n",
       "      <td>0.495</td>\n",
       "      <td></td>\n",
       "    </tr>\n",
       "  </tbody>\n",
       "</table>\n",
       "</div>"
      ],
      "text/plain": [
       "<IPython.core.display.HTML object>"
      ]
     },
     "execution_count": 5,
     "metadata": {},
     "output_type": "execute_result"
    }
   ],
   "source": [
    "# Print the data table\n",
    "#mr.Table(data=df_table, width=\"15px\")\n",
    "HTML(df_table.to_html(notebook=True,col_space=10))"
   ]
  },
  {
   "cell_type": "code",
   "execution_count": 6,
   "id": "e20910cd-594a-472c-93b2-e32d9554fdec",
   "metadata": {},
   "outputs": [],
   "source": [
    "if skip1.value:\n",
    "    display(md(\"_Note: the first trial was excluded from the calculations as a likely error._\"))"
   ]
  },
  {
   "cell_type": "markdown",
   "id": "1e4a45dd-a4c8-42c3-b85a-6a5bbf49dc45",
   "metadata": {
    "editable": true,
    "slideshow": {
     "slide_type": ""
    },
    "tags": []
   },
   "source": [
    "<p style=\"page-break-after:always;\"></p>\n",
    "\n",
    "## Calculations"
   ]
  },
  {
   "cell_type": "code",
   "execution_count": 7,
   "id": "a3040632-03f7-4c39-a2da-5972a0d54937",
   "metadata": {
    "editable": true,
    "slideshow": {
     "slide_type": ""
    },
    "tags": []
   },
   "outputs": [],
   "source": [
    "# Show the math? (LaTeX)"
   ]
  },
  {
   "cell_type": "code",
   "execution_count": 8,
   "id": "0646b9f4-6874-43f7-9553-534c66bcf881",
   "metadata": {},
   "outputs": [
    {
     "data": {
      "image/png": "[encoded data removed]",
      "text/plain": [
       "<Figure size 640x480 with 1 Axes>"
      ]
     },
     "metadata": {},
     "output_type": "display_data"
    }
   ],
   "source": [
    "# We should figure out a way to deifne the chart details in the calculations section such that this section can remain static.\n",
    "\n",
    "# Plot the measurements\n",
    "plt.scatter(df[dataColumnNames[6]], df[dataColumnNames[3]], color=\"blue\", marker=\"o\");\n",
    "\n",
    "# Plot the trendline\n",
    "fit = np.polyval(trend, df[dataColumnNames[6]])\n",
    "plt.plot(df[dataColumnNames[6]], fit, color=\"blue\", linestyle=\"--\")\n",
    "\n",
    "# Add intercept lines for M_H\n",
    "plt.plot(x_u, m_int_y, marker=\"x\", color=\"magenta\");\n",
    "plt.vlines(x_u, 0, m_int_y, color=\"magenta\", linestyle=\"--\");\n",
    "plt.hlines(m_int_y, 0, x_u, color=\"magenta\", linestyle=\"--\");\n",
    "\n",
    "# Add labels w LaTeX support\n",
    "plt.xlabel(plt1_xaxis.value);\n",
    "plt.ylabel(plt1_yaxis.value);\n",
    "plt.title(plt1_title.value);\n",
    "plt.rcParams['text.usetex'] = True;\n",
    "plt.rcParams['font.family'] = 'serif';\n",
    "\n",
    "# Show the graph\n",
    "plt.show();"
   ]
  },
  {
   "cell_type": "code",
   "execution_count": 9,
   "id": "a12e09d2-dbb1-4a89-a3cd-da579e15fc3b",
   "metadata": {},
   "outputs": [
    {
     "data": {
      "text/markdown": [
       "\n",
       "Using the least squares method a trend line is fit to the data with *slope* 0.48 and *$y$-intercept* 0.20, resulting in the equation $ y = 0.48 x + 0.20 $.\n",
       "\n",
       "The spring elongation for the unkown mass was then plotted on this trendline at $(0.495, 0.438)$, as shown in magenta.\n"
      ],
      "text/plain": [
       "<IPython.core.display.Markdown object>"
      ]
     },
     "execution_count": 9,
     "metadata": {},
     "output_type": "execute_result"
    }
   ],
   "source": [
    "%%markdown\n",
    "\n",
    "Using the least squares method a trend line is fit to the data with *slope* {trend_slope_str} and *$y$-intercept* {trend_intercept_str}, resulting in the equation $ y = {trend_slope_str} x + {trend_intercept_str} $.\n",
    "\n",
    "The spring elongation for the unkown mass was then plotted on this trendline at $({x_u_str}, {m_int_y_str})$, as shown in magenta."
   ]
  },
  {
   "cell_type": "code",
   "execution_count": 10,
   "id": "884a7dc7-45d3-4505-9232-696564f88dc2",
   "metadata": {
    "editable": true,
    "slideshow": {
     "slide_type": ""
    },
    "tags": []
   },
   "outputs": [
    {
     "data": {
      "text/markdown": [
       "\n",
       "<p style=\"page-break-after:always;\"></p>\n",
       "\n",
       "## Results\n",
       "\n",
       "The value of $k$ was determined using the mean, $k_t$, and the least squares fit, $k_g$. \n",
       "\n",
       "$k_t = 1.011\\; N/m$\n",
       "\n",
       "$k_g = 0.484\\; N/m$\n",
       "\n",
       "This equates to a $70.58$% difference.\n",
       "\n",
       "These mass of the unknown weight was then calculated as $M_t$ and $M_g$ using $k_t$ and $k_g$ respectively.\n",
       "\n",
       "$M_t = ( 1.011 * 0.495 ) / 9.8 - 0.05 = 0.0461\\; kg$\n",
       "\n",
       "$M_g = (0.438 / 9.8) - 0.005 = 0.0397\\; kg$\n",
       "\n",
       "This equates to a $14.92$% difference.\n"
      ],
      "text/plain": [
       "<IPython.core.display.Markdown object>"
      ]
     },
     "execution_count": 10,
     "metadata": {},
     "output_type": "execute_result"
    }
   ],
   "source": [
    "%%markdown\n",
    "\n",
    "<p style=\"page-break-after:always;\"></p>\n",
    "\n",
    "## Results\n",
    "\n",
    "The value of $k$ was determined using the mean, $k_t$, and the least squares fit, $k_g$. \n",
    "\n",
    "$k_t = {k_t_str}\\; N/m$\n",
    "\n",
    "$k_g = {k_g_str}\\; N/m$\n",
    "\n",
    "This equates to a ${k_diff_str}$% difference.\n",
    "\n",
    "These mass of the unknown weight was then calculated as $M_t$ and $M_g$ using $k_t$ and $k_g$ respectively.\n",
    "\n",
    "$M_t = ( {k_t_str} * {x_u_str} ) / {g_earth} - 0.05 = {m_k_t_str}\\; kg$\n",
    "\n",
    "$M_g = ({m_int_y_str} / {g_earth}) - 0.005 = {m_k_g_str}\\; kg$\n",
    "\n",
    "This equates to a ${m_diff_str}$% difference."
   ]
  },
  {
   "cell_type": "markdown",
   "id": "bf33561a-6c5c-4567-a499-2a11cbf9d092",
   "metadata": {},
   "source": [
    "<p style=\"page-break-after:always;\"></p>\n",
    "\n",
    "## Discussion\n",
    "\n",
    "\n"
   ]
  },
  {
   "cell_type": "code",
   "execution_count": 11,
   "id": "f16294f4-2f34-4efa-b431-71ddef429599",
   "metadata": {},
   "outputs": [
    {
     "data": {
      "text/markdown": [
       "\n",
       "__Explain the two reasons for not getting % difference close to zero. (3 pts)__\n",
       "\n",
       "Question 1 Answer\n",
       "\n",
       "__What was the most difficult measurement to make during this experiment? (3 pts)__\n",
       "\n",
       "Question 2 Answer\n",
       "\n",
       "__Why did you take two x-values for each mass? (4 pts)__\n",
       "\n",
       "Question 4 Answer\n"
      ],
      "text/plain": [
       "<IPython.core.display.Markdown object>"
      ]
     },
     "execution_count": 11,
     "metadata": {},
     "output_type": "execute_result"
    }
   ],
   "source": [
    "%%markdown\n",
    "\n",
    "__Explain the two reasons for not getting % difference close to zero. (3 pts)__\n",
    "\n",
    "{dq1.value}\n",
    "\n",
    "__What was the most difficult measurement to make during this experiment? (3 pts)__\n",
    "\n",
    "{dq2.value}\n",
    "\n",
    "__Why did you take two x-values for each mass? (4 pts)__\n",
    "\n",
    "{dq3.value}"
   ]
  }
 ],
 "metadata": {
  "kernelspec": {
   "display_name": "Python 3 (ipykernel)",
   "language": "python",
   "name": "python3"
  },
  "language_info": {
   "codemirror_mode": {
    "name": "ipython",
    "version": 3
   },
   "file_extension": ".py",
   "mimetype": "text/x-python",
   "name": "python",
   "nbconvert_exporter": "python",
   "pygments_lexer": "ipython3",
   "version": "3.11.2"
  }
 },
 "nbformat": 4,
 "nbformat_minor": 5
}

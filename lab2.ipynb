{
 "cells": [
  {
   "cell_type": "code",
   "execution_count": 1,
   "id": "7823e550-cb35-4870-af86-7f2dd13e3fbc",
   "metadata": {
    "editable": true,
    "slideshow": {
     "slide_type": ""
    },
    "tags": [
     "remove-cell"
    ]
   },
   "outputs": [],
   "source": [
    "# Import libraries\n",
    "%load_ext autoreload\n",
    "%autoreload 2\n",
    "\n",
    "import matplotlib.pyplot as plt\n",
    "import numpy as np\n",
    "import pandas as pd\n",
    "import yaml\n",
    "from IPython.display import Markdown as md\n",
    "from IPython.core.magic import register_cell_magic\n",
    "from tabulate import tabulate\n",
    "from sklearn.linear_model import LinearRegression\n",
    "from IPython.display import Latex\n",
    "import mercury as mr\n",
    "\n",
    "# Allow for markdown code cells\n",
    "@register_cell_magic\n",
    "def markdown(line, cell):\n",
    "    return md(cell.format(**globals()))"
   ]
  },
  {
   "cell_type": "code",
   "execution_count": 21,
   "id": "09fa635c-88a9-4dbb-8bcd-3a09d6ab66a3",
   "metadata": {},
   "outputs": [
    {
     "data": {
      "application/mercury+json": "{\n    \"widget\": \"App\",\n    \"title\": \"Lab 2\",\n    \"description\": \"Lab report for PHYS 2125 (15921) Spring 2025 Lab 2.\",\n    \"show_code\": false,\n    \"show_prompt\": false,\n    \"output\": \"app\",\n    \"schedule\": \"\",\n    \"notify\": \"{}\",\n    \"continuous_update\": true,\n    \"static_notebook\": false,\n    \"show_sidebar\": true,\n    \"full_screen\": true,\n    \"allow_download\": true,\n    \"allow_share\": true,\n    \"stop_on_error\": false,\n    \"model_id\": \"mercury-app\",\n    \"code_uid\": \"App.0.50.110.1-randc7894c88\"\n}",
      "text/html": [
       "<h3>Mercury Application</h3><small>This output won't appear in the web app.</small>"
      ],
      "text/plain": [
       "mercury.App"
      ]
     },
     "metadata": {},
     "output_type": "display_data"
    }
   ],
   "source": [
    "app = mr.App(title=\"Lab 2\", description=\"Lab report for PHYS 2125 (15921) Spring 2025 Lab 2.\")"
   ]
  },
  {
   "cell_type": "code",
   "execution_count": 22,
   "id": "3f8c7851-a8b2-4291-aae0-f55f005aacdb",
   "metadata": {
    "editable": true,
    "slideshow": {
     "slide_type": ""
    },
    "tags": [
     "remove-cell"
    ]
   },
   "outputs": [
    {
     "data": {
      "application/mercury+json": "{\n    \"widget\": \"Text\",\n    \"value\": \"Your Name\",\n    \"sanitize\": true,\n    \"rows\": 1,\n    \"label\": \"What is your name?\",\n    \"model_id\": \"0e445364bbad43fb9472834699364e52\",\n    \"code_uid\": \"Text.0.50.78.2-rand6630d325\",\n    \"url_key\": \"\",\n    \"disabled\": false,\n    \"hidden\": false\n}",
      "application/vnd.jupyter.widget-view+json": {
       "model_id": "0e445364bbad43fb9472834699364e52",
       "version_major": 2,
       "version_minor": 0
      },
      "text/plain": [
       "mercury.Text"
      ]
     },
     "metadata": {},
     "output_type": "display_data"
    },
    {
     "data": {
      "application/mercury+json": "{\n    \"widget\": \"Text\",\n    \"value\": \"PHYS 2125 (15921)\",\n    \"sanitize\": true,\n    \"rows\": 1,\n    \"label\": \"What class are you in?\",\n    \"model_id\": \"b948f96a1e0240a8b7d382eee19b5e95\",\n    \"code_uid\": \"Text.0.50.78.3-rand896f57f3\",\n    \"url_key\": \"\",\n    \"disabled\": false,\n    \"hidden\": false\n}",
      "application/vnd.jupyter.widget-view+json": {
       "model_id": "b948f96a1e0240a8b7d382eee19b5e95",
       "version_major": 2,
       "version_minor": 0
      },
      "text/plain": [
       "mercury.Text"
      ]
     },
     "metadata": {},
     "output_type": "display_data"
    },
    {
     "data": {
      "application/mercury+json": "{\n    \"widget\": \"Text\",\n    \"value\": \"2025-01-24\",\n    \"sanitize\": true,\n    \"rows\": 1,\n    \"label\": \"Lab Date\",\n    \"model_id\": \"7404eb96f7a34354b8191e7c0ea5df7a\",\n    \"code_uid\": \"Text.0.50.78.4-rand60f18559\",\n    \"url_key\": \"\",\n    \"disabled\": false,\n    \"hidden\": false\n}",
      "application/vnd.jupyter.widget-view+json": {
       "model_id": "7404eb96f7a34354b8191e7c0ea5df7a",
       "version_major": 2,
       "version_minor": 0
      },
      "text/plain": [
       "mercury.Text"
      ]
     },
     "metadata": {},
     "output_type": "display_data"
    },
    {
     "data": {
      "application/mercury+json": "{\n    \"widget\": \"Text\",\n    \"value\": \"2\",\n    \"sanitize\": true,\n    \"rows\": 1,\n    \"label\": \"Lab Number\",\n    \"model_id\": \"7ca8a712cb0d4f58b24eb982500a6f85\",\n    \"code_uid\": \"Text.0.50.78.5-rand6680c69a\",\n    \"url_key\": \"\",\n    \"disabled\": false,\n    \"hidden\": false\n}",
      "application/vnd.jupyter.widget-view+json": {
       "model_id": "7ca8a712cb0d4f58b24eb982500a6f85",
       "version_major": 2,
       "version_minor": 0
      },
      "text/plain": [
       "mercury.Text"
      ]
     },
     "metadata": {},
     "output_type": "display_data"
    },
    {
     "data": {
      "application/mercury+json": "{\n    \"widget\": \"Text\",\n    \"value\": \"Simple Pendulum\",\n    \"sanitize\": true,\n    \"rows\": 1,\n    \"label\": \"Lab Name\",\n    \"model_id\": \"fdd56fb4ff3c431dbc080e1c408db8ae\",\n    \"code_uid\": \"Text.0.50.78.6-rand8fcb8881\",\n    \"url_key\": \"\",\n    \"disabled\": false,\n    \"hidden\": false\n}",
      "application/vnd.jupyter.widget-view+json": {
       "model_id": "fdd56fb4ff3c431dbc080e1c408db8ae",
       "version_major": 2,
       "version_minor": 0
      },
      "text/plain": [
       "mercury.Text"
      ]
     },
     "metadata": {},
     "output_type": "display_data"
    },
    {
     "data": {
      "application/mercury+json": "{\n    \"widget\": \"File\",\n    \"max_file_size\": \"10MB\",\n    \"label\": \"Data file upload\",\n    \"model_id\": \"ad8818d0f46243c48f20a5d47986525a\",\n    \"code_uid\": \"File.0.50.74.7-rand0407bf9a\",\n    \"disabled\": false,\n    \"hidden\": false\n}",
      "application/vnd.jupyter.widget-view+json": {
       "model_id": "ad8818d0f46243c48f20a5d47986525a",
       "version_major": 2,
       "version_minor": 0
      },
      "text/plain": [
       "mercury.File"
      ]
     },
     "metadata": {},
     "output_type": "display_data"
    },
    {
     "data": {
      "application/mercury+json": "{\n    \"widget\": \"Text\",\n    \"value\": \"Your Answer to Question 1\",\n    \"sanitize\": true,\n    \"rows\": 20,\n    \"label\": \"What is the most challenging measurements during data collection and explain why? (4 pts)\",\n    \"model_id\": \"990a50b72637440585ae374231dce7f7\",\n    \"code_uid\": \"Text.0.50.78.8-rand5d22b496\",\n    \"url_key\": \"\",\n    \"disabled\": false,\n    \"hidden\": false\n}",
      "application/vnd.jupyter.widget-view+json": {
       "model_id": "990a50b72637440585ae374231dce7f7",
       "version_major": 2,
       "version_minor": 0
      },
      "text/plain": [
       "mercury.Text"
      ]
     },
     "metadata": {},
     "output_type": "display_data"
    },
    {
     "data": {
      "application/mercury+json": "{\n    \"widget\": \"Text\",\n    \"value\": \"Your Answer to Question 2\",\n    \"sanitize\": true,\n    \"rows\": 20,\n    \"label\": \"Why do you include half of the height of the cylinder for the length of the pendulum? (3 pts)\",\n    \"model_id\": \"5bba9ed414334b7ca96bd339955cb003\",\n    \"code_uid\": \"Text.0.50.78.9-rand4dc64cb5\",\n    \"url_key\": \"\",\n    \"disabled\": false,\n    \"hidden\": false\n}",
      "application/vnd.jupyter.widget-view+json": {
       "model_id": "5bba9ed414334b7ca96bd339955cb003",
       "version_major": 2,
       "version_minor": 0
      },
      "text/plain": [
       "mercury.Text"
      ]
     },
     "metadata": {},
     "output_type": "display_data"
    },
    {
     "data": {
      "application/mercury+json": "{\n    \"widget\": \"Text\",\n    \"value\": \"Your Answer to Question 3\",\n    \"sanitize\": true,\n    \"rows\": 20,\n    \"label\": \"What changes of the period of the pendulum you would expect, if you changed the mass of the pendulum? (3 pts)\",\n    \"model_id\": \"dd53ce5c1e6f403199cbce134ec492fd\",\n    \"code_uid\": \"Text.0.50.78.10-rand935260a0\",\n    \"url_key\": \"\",\n    \"disabled\": false,\n    \"hidden\": false\n}",
      "application/vnd.jupyter.widget-view+json": {
       "model_id": "dd53ce5c1e6f403199cbce134ec492fd",
       "version_major": 2,
       "version_minor": 0
      },
      "text/plain": [
       "mercury.Text"
      ]
     },
     "metadata": {},
     "output_type": "display_data"
    }
   ],
   "source": [
    "# Request Data\n",
    "name = mr.Text(value=\"Your Name\", label=\"What is your name?\", rows=1)\n",
    "course = mr.Text(value=\"PHYS 2125 (15921)\", label=\"What class are you in?\", rows=1)\n",
    "date = mr.Text(value=\"2025-01-24\", label=\"Lab Date\", rows=1)\n",
    "labNum = mr.Text(value=\"2\", label=\"Lab Number\", rows=1)\n",
    "labName = mr.Text(value=\"Simple Pendulum\", label=\"Lab Name\", rows=1)\n",
    "file = mr.File(label=\"Data file upload\", max_file_size=\"10MB\")\n",
    "dq1 = mr.Text(value=\"Your Answer to Question 1\", label=\"What is the most challenging measurements during data collection and explain why? (4 pts)\", rows=20)\n",
    "dq2 = mr.Text(value=\"Your Answer to Question 2\", label=\"Why do you include half of the height of the cylinder for the length of the pendulum? (3 pts)\", rows=20)\n",
    "dq3 = mr.Text(value=\"Your Answer to Question 3\", label=\"What changes of the period of the pendulum you would expect, if you changed the mass of the pendulum? (3 pts)\", rows=20)"
   ]
  },
  {
   "cell_type": "code",
   "execution_count": 80,
   "id": "3dac4cf0-8875-4990-b588-855f410f8be7",
   "metadata": {},
   "outputs": [],
   "source": [
    "# Parse Data\n",
    "\n",
    "dataColumnNames = [\"l (meters)\", \"h (meters)\",\"L (meters)\",\"5T₁ (seconds)\",\"5T₂ (seconds)\",\"T₁ (seconds)\",\"T₂ (seconds)\",\"T (seconds)\",\"T² (seconds²)\",\"g (meters/seconds²)\"];\n",
    "\n",
    "if file.filepath is not None:\n",
    "    df = pd.read_csv(file.filepath, names=dataColumnNames, header=0).set_index('L (meters)')"
   ]
  },
  {
   "cell_type": "code",
   "execution_count": 81,
   "id": "3da618d7-974a-467a-ab8c-86773d8ccd5a",
   "metadata": {
    "editable": true,
    "slideshow": {
     "slide_type": ""
    },
    "tags": [
     "remove-cell"
    ]
   },
   "outputs": [
    {
     "data": {
      "text/markdown": [
       "\n",
       "# Lab 2: Simple Pendulum\n",
       "Name: **Your Name** \\\n",
       "Class: **PHYS 2125 (15921)** \\\n",
       "Date: **2025-01-24**\n",
       "\n",
       "<p style=\"page-break-after:always;\"></p>\n"
      ],
      "text/plain": [
       "<IPython.core.display.Markdown object>"
      ]
     },
     "execution_count": 81,
     "metadata": {},
     "output_type": "execute_result"
    }
   ],
   "source": [
    "%%markdown\n",
    "\n",
    "# Lab {labNum.value}: {labName.value}\n",
    "Name: **{name.value}** \\\n",
    "Class: **{course.value}** \\\n",
    "Date: **{date.value}**\n",
    "\n",
    "<p style=\"page-break-after:always;\"></p>"
   ]
  },
  {
   "cell_type": "markdown",
   "id": "13c4809b-2bf1-432f-93e8-734fd53e9dd6",
   "metadata": {
    "editable": true,
    "slideshow": {
     "slide_type": ""
    },
    "tags": []
   },
   "source": [
    "## Objective\n",
    "\n",
    "To determine the Earth's gravitational constant ($g = 9.8 m/s^2$)."
   ]
  },
  {
   "cell_type": "markdown",
   "id": "629f1546-5604-44b2-b736-16627c9c5130",
   "metadata": {},
   "source": [
    "## Equipment\n",
    "\n",
    "- (1) Small A-base\n",
    "- (1) long metal rod\n",
    "- (1) short rod\n",
    "- (1) roll of string\n",
    "- (1) calipers\n",
    "- (1) clamp\n",
    "- (1) 0.0635 meter aluminum cyliner as pendulum weight\n",
    "- (1) meter stick\n",
    "- (1) stop watch"
   ]
  },
  {
   "cell_type": "markdown",
   "id": "09294620-7f56-4ab3-b5e1-ab29092e2152",
   "metadata": {},
   "source": [
    "## Theory\n",
    "\n",
    "The **period of oscilation** of a pendulum ($T$) is the amount of time required to complete a full cycle (*oscilation*). It is related to the **gravitational constant of Earth** ($g$) per the equation:\n",
    "\n",
    "$$ T = 2\\pi \\sqrt{\\frac{L}{g}} $$\n",
    "\n",
    "where:\n",
    "\n",
    "$ T = $ period of oscilation in $ seconds $ \\\n",
    "$ L = $ length of pendulum in $ meters $ \\\n",
    "$ g = $ gravitational constant in $ \\frac{meters}{seconds^2} $, i.e $ 9.8 m/s^2 $\n",
    "\n",
    "The value of $ L $ is the sum of the distance from the pivot point to the weight and half the length of the weight\n",
    "\n",
    "$ L = l + \\frac{1}{2}h $ \\\n",
    "$ l = $ length from the pivot point to the center of the swinging weight in $ meters $ \\\n",
    "$ h = $ height of the cylinder in $ meters $ \n",
    "\n",
    "** !! TODO: include diagram/photo of the l and h variables. l is from the top of the weight to the attachment point. h is the height of the cylinder. !! **\n",
    "\n",
    "** !! TODO: explain how linearizing this relationship in this way helps us to quantify the relationship to work out g.. !! ** ...With this relationship established we can linearize the equation $ T = 2\\pi \\sqrt{\\frac{L}{g}} $, establishing a relationship such that....\n",
    "\n",
    "$ \\begin{align*}\n",
    "T &= 2\\pi \\sqrt{\\frac{L}{g}} \\\\\n",
    "T^2 &= 4\\pi^2 - \\frac{L}{g} \\\\\n",
    "T^2 &= \\frac{4\\pi^2}{g}L \\\\\n",
    "slope &= \\frac{4\\pi^2}{g} \\\\\n",
    "g &= \\frac{4\\pi^2}{slope}\n",
    "\\end{align*}$\n",
    "\n",
    "** !! TODO: Add details about how we're going to graph things, and then graph them **\n",
    "We will graph..... \\\n",
    "$ T^2\\;(seconds^2) $ will serve as the independent variable (graphed on the $x$-axis). \\\n",
    "$ L\\;(meters) $ will serve as the dependent variable (graphed on the $y$-axis)."
   ]
  },
  {
   "cell_type": "markdown",
   "id": "d6319ba7-cc77-4222-9003-6178f43d6a06",
   "metadata": {},
   "source": [
    "## Procedure:\n",
    "\n",
    "The following procedure was followed:\n",
    "** !! TODO: Lay out the procedure in exruciating detail **\n",
    "\n",
    "1. Step 1\n",
    "1. Step 2\n",
    "1. Step 5"
   ]
  },
  {
   "cell_type": "markdown",
   "id": "0b7dec1f-09ab-4b62-94f0-cb71b15ef156",
   "metadata": {},
   "source": [
    "# Data\n",
    "\n",
    "** !! TODO: Ignore the CSV column names, use column indexes to access data and/or manually override the headers **"
   ]
  },
  {
   "cell_type": "code",
   "execution_count": 82,
   "id": "88de4dc9-a29b-4652-9a4c-c8bb9c17a1a7",
   "metadata": {
    "editable": true,
    "slideshow": {
     "slide_type": ""
    },
    "tags": []
   },
   "outputs": [
    {
     "data": {
      "text/html": [
       "<table border=\"1\" class=\"dataframe\">\n",
       "  <thead>\n",
       "    <tr style=\"text-align: right;\">\n",
       "      <th></th>\n",
       "      <th>l (meters)</th>\n",
       "      <th>h (meters)</th>\n",
       "      <th>5T₁ (seconds)</th>\n",
       "      <th>5T₂ (seconds)</th>\n",
       "      <th>T₁ (seconds)</th>\n",
       "      <th>T₂ (seconds)</th>\n",
       "      <th>T (seconds)</th>\n",
       "      <th>T² (seconds²)</th>\n",
       "      <th>g (meters/seconds²)</th>\n",
       "    </tr>\n",
       "    <tr>\n",
       "      <th>L (meters)</th>\n",
       "      <th></th>\n",
       "      <th></th>\n",
       "      <th></th>\n",
       "      <th></th>\n",
       "      <th></th>\n",
       "      <th></th>\n",
       "      <th></th>\n",
       "      <th></th>\n",
       "      <th></th>\n",
       "    </tr>\n",
       "  </thead>\n",
       "  <tbody>\n",
       "    <tr>\n",
       "      <th>0.18375</th>\n",
       "      <td>0.152</td>\n",
       "      <td>0.0635</td>\n",
       "      <td>4.55</td>\n",
       "      <td>4.58</td>\n",
       "      <td>0.910</td>\n",
       "      <td>0.916</td>\n",
       "      <td>0.913</td>\n",
       "      <td>0.833569</td>\n",
       "      <td>8.702530</td>\n",
       "    </tr>\n",
       "    <tr>\n",
       "      <th>0.23175</th>\n",
       "      <td>0.200</td>\n",
       "      <td>0.0635</td>\n",
       "      <td>5.04</td>\n",
       "      <td>4.90</td>\n",
       "      <td>1.008</td>\n",
       "      <td>0.980</td>\n",
       "      <td>0.994</td>\n",
       "      <td>0.988036</td>\n",
       "      <td>9.259909</td>\n",
       "    </tr>\n",
       "    <tr>\n",
       "      <th>0.28375</th>\n",
       "      <td>0.252</td>\n",
       "      <td>0.0635</td>\n",
       "      <td>5.44</td>\n",
       "      <td>5.44</td>\n",
       "      <td>1.088</td>\n",
       "      <td>1.088</td>\n",
       "      <td>1.088</td>\n",
       "      <td>1.183744</td>\n",
       "      <td>9.463196</td>\n",
       "    </tr>\n",
       "    <tr>\n",
       "      <th>0.33175</th>\n",
       "      <td>0.300</td>\n",
       "      <td>0.0635</td>\n",
       "      <td>5.87</td>\n",
       "      <td>5.95</td>\n",
       "      <td>1.174</td>\n",
       "      <td>1.190</td>\n",
       "      <td>1.182</td>\n",
       "      <td>1.397124</td>\n",
       "      <td>9.374232</td>\n",
       "    </tr>\n",
       "    <tr>\n",
       "      <th>0.38175</th>\n",
       "      <td>0.350</td>\n",
       "      <td>0.0635</td>\n",
       "      <td>6.32</td>\n",
       "      <td>6.35</td>\n",
       "      <td>1.264</td>\n",
       "      <td>1.270</td>\n",
       "      <td>1.267</td>\n",
       "      <td>1.605289</td>\n",
       "      <td>9.388270</td>\n",
       "    </tr>\n",
       "    <tr>\n",
       "      <th>0.43175</th>\n",
       "      <td>0.400</td>\n",
       "      <td>0.0635</td>\n",
       "      <td>6.60</td>\n",
       "      <td>6.65</td>\n",
       "      <td>1.320</td>\n",
       "      <td>1.330</td>\n",
       "      <td>1.325</td>\n",
       "      <td>1.755625</td>\n",
       "      <td>9.708683</td>\n",
       "    </tr>\n",
       "    <tr>\n",
       "      <th>NaN</th>\n",
       "      <td>NaN</td>\n",
       "      <td>NaN</td>\n",
       "      <td>NaN</td>\n",
       "      <td>NaN</td>\n",
       "      <td>NaN</td>\n",
       "      <td>NaN</td>\n",
       "      <td>NaN</td>\n",
       "      <td>NaN</td>\n",
       "      <td>9.438858</td>\n",
       "    </tr>\n",
       "  </tbody>\n",
       "</table>"
      ],
      "text/plain": [
       "<IPython.core.display.HTML object>"
      ]
     },
     "execution_count": 82,
     "metadata": {},
     "output_type": "execute_result"
    }
   ],
   "source": [
    "from IPython.display import display, HTML\n",
    "\n",
    "# !! TODO add  gavg = average of all values of g. show at the bottom of the g column\n",
    "\n",
    "HTML(df.to_html())"
   ]
  },
  {
   "cell_type": "markdown",
   "id": "1e4a45dd-a4c8-42c3-b85a-6a5bbf49dc45",
   "metadata": {
    "editable": true,
    "slideshow": {
     "slide_type": ""
    },
    "tags": []
   },
   "source": [
    "# Calculations"
   ]
  },
  {
   "cell_type": "code",
   "execution_count": 86,
   "id": "a3040632-03f7-4c39-a2da-5972a0d54937",
   "metadata": {
    "editable": true,
    "slideshow": {
     "slide_type": ""
    },
    "tags": []
   },
   "outputs": [],
   "source": [
    "# Calculation\n",
    "\n",
    "# Calculate the standard deviation of g<avg>\n",
    "deviation = df.std(ddof=0)\n",
    "deviation_g = deviation[dataColumnNames[8]];\n",
    "deviation_g_str = str(\"%.2f\" % round(deviation_g, 2))\n",
    "\n",
    "# Plot the graph of T^2 (y-axis) vs L (x-axis)\n",
    "# Show all of the data points\n",
    "# Label the axes, including units\n",
    "# Draw the trendline (don't do connectng points). Use least squares method.\n",
    "# Show the equation of the line on the page of the graph\n",
    "\n",
    "# use the equation of the line to determine the slope\n",
    "\n",
    "# Use this slop to determine g as given in the theory.\n",
    "#\n",
    "# Calculate the standard deviation of the six values of g in the table.\n",
    "#\n",
    "# Calculate percent error of two values of g you calculated. (avg vs graphed)\n",
    "#\n",
    "\n"
   ]
  },
  {
   "cell_type": "markdown",
   "id": "577c014b-3a02-4044-8d03-a95bcaae1422",
   "metadata": {
    "editable": true,
    "slideshow": {
     "slide_type": ""
    },
    "tags": []
   },
   "source": [
    "# Results"
   ]
  },
  {
   "cell_type": "code",
   "execution_count": 87,
   "id": "884a7dc7-45d3-4505-9232-696564f88dc2",
   "metadata": {
    "editable": true,
    "slideshow": {
     "slide_type": ""
    },
    "tags": []
   },
   "outputs": [
    {
     "data": {
      "text/markdown": [
       "\n",
       "g-avg = \\\n",
       "g-avg σ = \\\n",
       "g-avg error % = \\\n",
       "g-graph = \\\n",
       "g-graph σ = \\\n",
       "g-graph error % = \n",
       "\n",
       "g = g avg +/i % error \\\n",
       " = g avg +/- StdDev \\\n",
       " = g graph +/ % error \\\n",
       "Standard Deviation of g<avg> is 0.33\n",
       "\n",
       "## Results\n",
       "\n",
       "g avg = (and std dev)\n",
       "g graph = (and std dev)\n"
      ],
      "text/plain": [
       "<IPython.core.display.Markdown object>"
      ]
     },
     "execution_count": 87,
     "metadata": {},
     "output_type": "execute_result"
    }
   ],
   "source": [
    "%%markdown\n",
    "\n",
    "g-avg = \\\n",
    "g-avg σ = \\\n",
    "g-avg error % = \\\n",
    "g-graph = \\\n",
    "g-graph σ = \\\n",
    "g-graph error % = \n",
    "\n",
    "g = g avg +/i % error \\\n",
    " = g avg +/- StdDev \\\n",
    " = g graph +/ % error \\\n",
    "Standard Deviation of g<avg> is {deviation_g_str}\n",
    "\n",
    "## Results\n",
    "\n",
    "g avg = (and std dev)\n",
    "g graph = (and std dev)\n"
   ]
  },
  {
   "cell_type": "code",
   "execution_count": 89,
   "id": "f16294f4-2f34-4efa-b431-71ddef429599",
   "metadata": {},
   "outputs": [
    {
     "data": {
      "text/markdown": [
       "\n",
       "## Discussion\n",
       "\n",
       "* What is the most challenging measurements during data collection and explain why? (4 pts) *\n",
       "\n",
       "Your Answer to Question 1\n",
       "\n",
       "* Why do you include half of the height of the cylinder for the length of the pendulum? (3 pts) *\n",
       "                                                              \n",
       "Your Answer to Question 2\n",
       "\n",
       "* What changes of the period of the pendulum you would expect, if you changed the mass of the pendulum? (3 pts) *\n",
       "    \n",
       "Your Answer to Question 3\n"
      ],
      "text/plain": [
       "<IPython.core.display.Markdown object>"
      ]
     },
     "execution_count": 89,
     "metadata": {},
     "output_type": "execute_result"
    }
   ],
   "source": [
    "%%markdown\n",
    "\n",
    "## Discussion\n",
    "\n",
    "* What is the most challenging measurements during data collection and explain why? (4 pts) *\n",
    "\n",
    "{dq1.value}\n",
    "\n",
    "* Why do you include half of the height of the cylinder for the length of the pendulum? (3 pts) *\n",
    "                                                              \n",
    "{dq2.value}\n",
    "\n",
    "* What changes of the period of the pendulum you would expect, if you changed the mass of the pendulum? (3 pts) *\n",
    "    \n",
    "{dq3.value}"
   ]
  },
  {
   "cell_type": "code",
   "execution_count": null,
   "id": "5ef66ca3-3c27-4ff2-9ee4-d37879691e7d",
   "metadata": {},
   "outputs": [],
   "source": []
  }
 ],
 "metadata": {
  "kernelspec": {
   "display_name": "Python 3 (ipykernel)",
   "language": "python",
   "name": "python3"
  },
  "language_info": {
   "codemirror_mode": {
    "name": "ipython",
    "version": 3
   },
   "file_extension": ".py",
   "mimetype": "text/x-python",
   "name": "python",
   "nbconvert_exporter": "python",
   "pygments_lexer": "ipython3",
   "version": "3.11.2"
  }
 },
 "nbformat": 4,
 "nbformat_minor": 5
}

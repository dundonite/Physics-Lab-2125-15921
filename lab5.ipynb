{
 "cells": [
  {
   "cell_type": "code",
   "execution_count": 1,
   "id": "7823e550-cb35-4870-af86-7f2dd13e3fbc",
   "metadata": {
    "editable": true,
    "slideshow": {
     "slide_type": ""
    },
    "tags": [
     "remove-cell"
    ]
   },
   "outputs": [
    {
     "data": {
      "application/mercury+json": "{\n    \"widget\": \"App\",\n    \"title\": \"Lab 5 - Friction I (Horizontal Plane)\",\n    \"description\": \"Lab report for PHYS 2125 (15921) Spring 2025 Lab 5.\",\n    \"show_code\": false,\n    \"show_prompt\": false,\n    \"output\": \"app\",\n    \"schedule\": \"\",\n    \"notify\": \"{}\",\n    \"continuous_update\": true,\n    \"static_notebook\": false,\n    \"show_sidebar\": true,\n    \"full_screen\": true,\n    \"allow_download\": true,\n    \"allow_share\": true,\n    \"stop_on_error\": false,\n    \"model_id\": \"mercury-app\",\n    \"code_uid\": \"App.0.50.110.23-rand110076f6\"\n}",
      "text/html": [
       "<h3>Mercury Application</h3><small>This output won't appear in the web app.</small>"
      ],
      "text/plain": [
       "mercury.App"
      ]
     },
     "metadata": {},
     "output_type": "display_data"
    },
    {
     "data": {
      "application/mercury+json": "{\n    \"widget\": \"Text\",\n    \"value\": \"Your Name\",\n    \"sanitize\": true,\n    \"rows\": 1,\n    \"label\": \"What is your name?\",\n    \"model_id\": \"d1b03a5300f44472a5fb4d8231607403\",\n    \"code_uid\": \"Text.0.50.78.26-rand8c3ef6d6\",\n    \"url_key\": \"\",\n    \"disabled\": false,\n    \"hidden\": false\n}",
      "application/vnd.jupyter.widget-view+json": {
       "model_id": "d1b03a5300f44472a5fb4d8231607403",
       "version_major": 2,
       "version_minor": 0
      },
      "text/plain": [
       "mercury.Text"
      ]
     },
     "metadata": {},
     "output_type": "display_data"
    },
    {
     "data": {
      "application/mercury+json": "{\n    \"widget\": \"Text\",\n    \"value\": \"PHYS 2125 (15921)\",\n    \"sanitize\": true,\n    \"rows\": 1,\n    \"label\": \"What class are you in?\",\n    \"model_id\": \"e3b7af1f7c804191be3f27e746700697\",\n    \"code_uid\": \"Text.0.50.78.27-randf03b8e52\",\n    \"url_key\": \"\",\n    \"disabled\": false,\n    \"hidden\": false\n}",
      "application/vnd.jupyter.widget-view+json": {
       "model_id": "e3b7af1f7c804191be3f27e746700697",
       "version_major": 2,
       "version_minor": 0
      },
      "text/plain": [
       "mercury.Text"
      ]
     },
     "metadata": {},
     "output_type": "display_data"
    },
    {
     "data": {
      "application/mercury+json": "{\n    \"widget\": \"Text\",\n    \"value\": \"2025-02-14\",\n    \"sanitize\": true,\n    \"rows\": 1,\n    \"label\": \"Lab Date\",\n    \"model_id\": \"1192d53eac1446ba8298e5648a02a322\",\n    \"code_uid\": \"Text.0.50.78.28-rand28ed9932\",\n    \"url_key\": \"\",\n    \"disabled\": false,\n    \"hidden\": false\n}",
      "application/vnd.jupyter.widget-view+json": {
       "model_id": "1192d53eac1446ba8298e5648a02a322",
       "version_major": 2,
       "version_minor": 0
      },
      "text/plain": [
       "mercury.Text"
      ]
     },
     "metadata": {},
     "output_type": "display_data"
    },
    {
     "data": {
      "application/mercury+json": "{\n    \"widget\": \"Text\",\n    \"value\": \"5\",\n    \"sanitize\": true,\n    \"rows\": 1,\n    \"label\": \"Lab Number\",\n    \"model_id\": \"56e851cd6c414ca78dd8c440f140d1ab\",\n    \"code_uid\": \"Text.0.50.78.29-rand0134d69b\",\n    \"url_key\": \"\",\n    \"disabled\": false,\n    \"hidden\": false\n}",
      "application/vnd.jupyter.widget-view+json": {
       "model_id": "56e851cd6c414ca78dd8c440f140d1ab",
       "version_major": 2,
       "version_minor": 0
      },
      "text/plain": [
       "mercury.Text"
      ]
     },
     "metadata": {},
     "output_type": "display_data"
    },
    {
     "data": {
      "application/mercury+json": "{\n    \"widget\": \"Text\",\n    \"value\": \"Friction I (Horizontal Plane)\",\n    \"sanitize\": true,\n    \"rows\": 1,\n    \"label\": \"Lab Name\",\n    \"model_id\": \"233e2c0869764e43adfab2bf37a444da\",\n    \"code_uid\": \"Text.0.50.78.30-rand3a1a8915\",\n    \"url_key\": \"\",\n    \"disabled\": false,\n    \"hidden\": false\n}",
      "application/vnd.jupyter.widget-view+json": {
       "model_id": "233e2c0869764e43adfab2bf37a444da",
       "version_major": 2,
       "version_minor": 0
      },
      "text/plain": [
       "mercury.Text"
      ]
     },
     "metadata": {},
     "output_type": "display_data"
    },
    {
     "data": {
      "application/mercury+json": "{\n    \"widget\": \"Text\",\n    \"value\": \"Determine the coefficient of friction between the wooden block and the track.\",\n    \"sanitize\": true,\n    \"rows\": 3,\n    \"label\": \"Objective\",\n    \"model_id\": \"27f031793204417886ee7ade9928406e\",\n    \"code_uid\": \"Text.0.50.78.31-rand4e3f829d\",\n    \"url_key\": \"\",\n    \"disabled\": false,\n    \"hidden\": false\n}",
      "application/vnd.jupyter.widget-view+json": {
       "model_id": "27f031793204417886ee7ade9928406e",
       "version_major": 2,
       "version_minor": 0
      },
      "text/plain": [
       "mercury.Text"
      ]
     },
     "metadata": {},
     "output_type": "display_data"
    },
    {
     "data": {
      "application/mercury+json": "{\n    \"widget\": \"File\",\n    \"max_file_size\": \"10MB\",\n    \"label\": \"Data file upload\",\n    \"model_id\": \"8299838f06c7433d828018d1ba5f8be1\",\n    \"code_uid\": \"File.0.50.74.32-rand9019ec9b\",\n    \"disabled\": false,\n    \"hidden\": false\n}",
      "application/vnd.jupyter.widget-view+json": {
       "model_id": "8299838f06c7433d828018d1ba5f8be1",
       "version_major": 2,
       "version_minor": 0
      },
      "text/plain": [
       "mercury.File"
      ]
     },
     "metadata": {},
     "output_type": "display_data"
    },
    {
     "data": {
      "application/mercury+json": "{\n    \"widget\": \"Text\",\n    \"value\": \"Question 1 Answer\",\n    \"sanitize\": true,\n    \"rows\": 5,\n    \"label\": \"Why do you try to maintain the constant speed motion of the block? (5 pts)\",\n    \"model_id\": \"e717139ed107411fb0a7c151c55c9a71\",\n    \"code_uid\": \"Text.0.50.78.35-rand695b9223\",\n    \"url_key\": \"\",\n    \"disabled\": false,\n    \"hidden\": false\n}",
      "application/vnd.jupyter.widget-view+json": {
       "model_id": "e717139ed107411fb0a7c151c55c9a71",
       "version_major": 2,
       "version_minor": 0
      },
      "text/plain": [
       "mercury.Text"
      ]
     },
     "metadata": {},
     "output_type": "display_data"
    },
    {
     "data": {
      "application/mercury+json": "{\n    \"widget\": \"Text\",\n    \"value\": \"Question 2 Answer\",\n    \"sanitize\": true,\n    \"rows\": 5,\n    \"label\": \"What is the most important part of the experiment? (5 pts)\",\n    \"model_id\": \"b002b6b881a74c968c02b55dccb5afb2\",\n    \"code_uid\": \"Text.0.50.78.36-rand532e9cfa\",\n    \"url_key\": \"\",\n    \"disabled\": false,\n    \"hidden\": false\n}",
      "application/vnd.jupyter.widget-view+json": {
       "model_id": "b002b6b881a74c968c02b55dccb5afb2",
       "version_major": 2,
       "version_minor": 0
      },
      "text/plain": [
       "mercury.Text"
      ]
     },
     "metadata": {},
     "output_type": "display_data"
    },
    {
     "data": {
      "application/mercury+json": "{\n    \"widget\": \"Text\",\n    \"value\": \"Discussion\",\n    \"sanitize\": true,\n    \"rows\": 5,\n    \"label\": \"Discuss\",\n    \"model_id\": \"5a21f277d0344da4ac6024641553a699\",\n    \"code_uid\": \"Text.0.50.78.38-rand1f18dae2\",\n    \"url_key\": \"\",\n    \"disabled\": false,\n    \"hidden\": false\n}",
      "application/vnd.jupyter.widget-view+json": {
       "model_id": "5a21f277d0344da4ac6024641553a699",
       "version_major": 2,
       "version_minor": 0
      },
      "text/plain": [
       "mercury.Text"
      ]
     },
     "metadata": {},
     "output_type": "display_data"
    },
    {
     "data": {
      "application/mercury+json": "{\n    \"widget\": \"Text\",\n    \"value\": \"$M_b\\\\; (g)$\",\n    \"sanitize\": true,\n    \"rows\": 1,\n    \"label\": \"X-axis label\",\n    \"model_id\": \"ed576b8fd5824e08ace7d04967332c80\",\n    \"code_uid\": \"Text.0.50.78.39-rand0c8fb0e3\",\n    \"url_key\": \"\",\n    \"disabled\": false,\n    \"hidden\": false\n}",
      "application/vnd.jupyter.widget-view+json": {
       "model_id": "ed576b8fd5824e08ace7d04967332c80",
       "version_major": 2,
       "version_minor": 0
      },
      "text/plain": [
       "mercury.Text"
      ]
     },
     "metadata": {},
     "output_type": "display_data"
    },
    {
     "data": {
      "application/mercury+json": "{\n    \"widget\": \"Text\",\n    \"value\": \"$M_H\\\\; (g)$\",\n    \"sanitize\": true,\n    \"rows\": 1,\n    \"label\": \"Y-axis label\",\n    \"model_id\": \"f711b1689402431ba7ef676602ea4633\",\n    \"code_uid\": \"Text.0.50.78.40-randf403651c\",\n    \"url_key\": \"\",\n    \"disabled\": false,\n    \"hidden\": false\n}",
      "application/vnd.jupyter.widget-view+json": {
       "model_id": "f711b1689402431ba7ef676602ea4633",
       "version_major": 2,
       "version_minor": 0
      },
      "text/plain": [
       "mercury.Text"
      ]
     },
     "metadata": {},
     "output_type": "display_data"
    },
    {
     "data": {
      "application/mercury+json": "{\n    \"widget\": \"Text\",\n    \"value\": \"$\\\\mu_k$ as mass of block $M_b$ vs mass of hanging weight $M_H$\",\n    \"sanitize\": true,\n    \"rows\": 1,\n    \"label\": \"Graph title\",\n    \"model_id\": \"f2f4f00827034e44a4c4b925dc1e5dea\",\n    \"code_uid\": \"Text.0.50.78.41-rand42e84a71\",\n    \"url_key\": \"\",\n    \"disabled\": false,\n    \"hidden\": false\n}",
      "application/vnd.jupyter.widget-view+json": {
       "model_id": "f2f4f00827034e44a4c4b925dc1e5dea",
       "version_major": 2,
       "version_minor": 0
      },
      "text/plain": [
       "mercury.Text"
      ]
     },
     "metadata": {},
     "output_type": "display_data"
    }
   ],
   "source": [
    "# Import libraries\n",
    "%reload_ext autoreload\n",
    "%autoreload 2\n",
    "\n",
    "import math\n",
    "import matplotlib.pyplot as plt\n",
    "import numpy as np\n",
    "import pandas as pd\n",
    "import re\n",
    "from IPython.display import display, HTML, Latex, Image, Video\n",
    "from IPython.display import Markdown as md\n",
    "from IPython.core.magic import register_cell_magic\n",
    "from tabulate import tabulate\n",
    "from sklearn.linear_model import LinearRegression\n",
    "import mercury as mr\n",
    "\n",
    "# Allow for markdown code cells\n",
    "@register_cell_magic\n",
    "def markdown(line, cell):\n",
    "    return md(cell.format(**globals()))\n",
    "\n",
    "# Set the Mercurty metadata forthe report\n",
    "app = mr.App(title=\"Lab 5 - Friction I (Horizontal Plane)\", description=\"Lab report for PHYS 2125 (15921) Spring 2025 Lab 5.\")\n",
    "\n",
    "# Lab Information\n",
    "name = mr.Text(value=\"Your Name\", label=\"What is your name?\", rows=1)\n",
    "course = mr.Text(value=\"PHYS 2125 (15921)\", label=\"What class are you in?\", rows=1)\n",
    "date = mr.Text(value=\"2025-02-14\", label=\"Lab Date\", rows=1)\n",
    "labNum = mr.Text(value=\"5\", label=\"Lab Number\", rows=1)\n",
    "labName = mr.Text(value=\"Friction I (Horizontal Plane)\", label=\"Lab Name\", rows=1)\n",
    "labObjective= mr.Text(value=\"Determine the coefficient of friction between the wooden block and the track.\", label=\"Objective\", rows=3)\n",
    "file = mr.File(label=\"Data file upload\", max_file_size=\"10MB\")\n",
    "# skip1 = mr.Checkbox(value=False, label=\"Were you instructed to exclude your first trial from the calculations?\")\n",
    "# It would be cooler if we could get the discussion questions into a dict and loop through them.\n",
    "q1 = mr.Text(value=\"Question 1 Answer\", label=\"Why do you try to maintain the constant speed motion of the block? (5 pts)\", rows=5)\n",
    "q2 = mr.Text(value=\"Question 2 Answer\", label=\"What is the most important part of the experiment? (5 pts)\", rows=5)\n",
    "# q3 = mr.Text(value=\"Question 3 Answer\", label=\"Question 3?\", rows=5)\n",
    "discussion = mr.Text(value=\"Discussion\", label=\"Discuss\", rows=5)\n",
    "plt1_xaxis = mr.Text(value = '$M_b\\; (g)$', label=\"X-axis label\", rows=1)\n",
    "plt1_yaxis = mr.Text(value = '$M_H\\; (g)$', label=\"Y-axis label\", rows=1)\n",
    "plt1_title = mr.Text(value = '$\\mu_k$ as mass of block $M_b$ vs mass of hanging weight $M_H$', label=\"Graph title\", rows=1)\n",
    "dataColumnNames = [\"$M_b$ (g)\", \"$M_a$ (g)\", \"$M_h$ (g)\", \"$M_H$ (g)\", \"$\\mu_k$\"];"
   ]
  },
  {
   "cell_type": "code",
   "execution_count": 2,
   "id": "646a93e2-9575-41f7-8a9e-4e4307dced61",
   "metadata": {},
   "outputs": [],
   "source": [
    "%autoreload 2\n",
    "\n",
    "# Parse Data\n",
    "if file.filepath is not None:\n",
    "    df = pd.read_csv(file.filepath, names=dataColumnNames, header=0).set_index(dataColumnNames[0])\n",
    "else:\n",
    "    df = pd.read_csv('lab5.csv', names=dataColumnNames, header=0).set_index(dataColumnNames[0])\n",
    "\n",
    "# In theory the data we uploaded already has lots of these values, but just in case the Excel wasn't perfect we're going to do it here.\n",
    "\n",
    "# Constants\n",
    "g_earth = 9.8;\n",
    "\n",
    "# Calculate M_H as M_h + M_a, but only where we have a number for M_a\n",
    "df[dataColumnNames[3]] = df.apply(lambda row: row[dataColumnNames[2]] + row[dataColumnNames[1]], axis=1)\n",
    "\n",
    "# Calculate μ_k\n",
    "df[dataColumnNames[4]] = df.apply(lambda row: row[dataColumnNames[3]] / row.name, axis=1)\n",
    "\n",
    "# Calculate the trend line slope and intercept\n",
    "trend = np.polyfit(df.index, df[dataColumnNames[3]], 1)  # 1 for linear trendline\n",
    "trend_slope, trend_intercept = trend\n",
    "u_k_g = trend_slope\n",
    "\n",
    "# Mean and StdDev across the board\n",
    "mean = df.mean()\n",
    "deviation = df.std(ddof=0)\n",
    "u_k_t = mean[dataColumnNames[4]];\n",
    "u_k_t_dev = deviation[dataColumnNames[4]];\n",
    "\n",
    "# Calculate % difference between u_k_table and u_k_graph\n",
    "u_k_diff = abs( u_k_g - u_k_t ) / ( ( u_k_t + u_k_g ) / 2 )\n",
    "\n",
    "# Save this for the graph\n",
    "df_graph = df.fillna('');\n",
    "\n",
    "# Add the average value of u_k\n",
    "df.loc['Average'] = {\n",
    "    dataColumnNames[1]: np.nan,\n",
    "    dataColumnNames[2]: np.nan,\n",
    "    dataColumnNames[3]: np.nan,\n",
    "    dataColumnNames[4]: u_k_t\n",
    "};\n",
    "# Add the standard devation value of u_k\n",
    "df.loc['StdDev'] = {\n",
    "    dataColumnNames[1]: np.nan,\n",
    "    dataColumnNames[2]: np.nan,\n",
    "    dataColumnNames[3]: np.nan,\n",
    "    dataColumnNames[4]: u_k_t_dev\n",
    "};\n",
    "\n",
    "# Save this for the table\n",
    "df_table = df.fillna('');\n",
    "\n",
    "# Let's make some stings\n",
    "u_k_t_str = str(\"%.3f\" % round(u_k_t, 3))\n",
    "u_k_t_dev_str = str(\"%.3f\" % round(u_k_t_dev, 3))\n",
    "u_k_diff_str = str(\"%.3f\" % round(u_k_diff, 3))\n",
    "u_k_g_str = str(\"%.3f\" % round(u_k_g, 3))\n",
    "trend_slope_str = str(\"%.3f\" % round(trend_slope, 3))\n",
    "trend_intercept_str = str(\"%.3f\" % round(trend_intercept, 3))"
   ]
  },
  {
   "cell_type": "code",
   "execution_count": 3,
   "id": "3da618d7-974a-467a-ab8c-86773d8ccd5a",
   "metadata": {
    "editable": true,
    "slideshow": {
     "slide_type": ""
    },
    "tags": [
     "remove-cell"
    ]
   },
   "outputs": [
    {
     "data": {
      "text/markdown": [
       "\n",
       "# Lab 5: Friction I (Horizontal Plane)\n",
       "Name: **Your Name** \\\n",
       "Class: **PHYS 2125 (15921)** \\\n",
       "Date: **2025-02-14**\n",
       "\n",
       "<p style=\"page-break-after:always;\"></p>\n",
       "\n",
       "## Objective\n",
       "\n",
       "Determine the coefficient of friction between the wooden block and the track.\n"
      ],
      "text/plain": [
       "<IPython.core.display.Markdown object>"
      ]
     },
     "execution_count": 3,
     "metadata": {},
     "output_type": "execute_result"
    }
   ],
   "source": [
    "%%markdown\n",
    "\n",
    "# Lab {labNum.value}: {labName.value}\n",
    "Name: **{name.value}** \\\n",
    "Class: **{course.value}** \\\n",
    "Date: **{date.value}**\n",
    "\n",
    "<p style=\"page-break-after:always;\"></p>\n",
    "\n",
    "## Objective\n",
    "\n",
    "{labObjective.value}"
   ]
  },
  {
   "cell_type": "markdown",
   "id": "09294620-7f56-4ab3-b5e1-ab29092e2152",
   "metadata": {},
   "source": [
    "## Equipment\n",
    "\n",
    "- (1) 50cm \"PASTrack\" track with four legs\n",
    "- (1) 110g friction block\n",
    "- (1) set of masses\n",
    "- (1) 5g hook\n",
    "- (1) ~70cm length of string\n",
    "- (1) pulley\n",
    "\n",
    "<p style=\"page-break-after:always;\"></p>\n",
    "\n",
    "## Theory\n",
    "\n",
    "$F_{net} = M_a for M_H:\\; ↓ M_H \\cdot g - T = M_H \\cdot a$\n",
    "\n",
    "$F_{net} = M_a for M_b:\\; → T-f_k = M_b \\cdot a$\n",
    "\n",
    "$f_K = μ \\cdot n$\n",
    "\n",
    "$n = M_b \\cdot g$\n",
    "\n",
    "$M_Hg - μ_k \\cdot M_bg = M_Ha + M_ba$\n",
    "\n",
    "Setting $a = 0$\n",
    "\n",
    "$M_Hg - μ_k \\cdot M_bg = 0$\n",
    "\n",
    "$μ_k \\cdot M_b = M_H$\n",
    "\n",
    "where\n",
    "\n",
    "$M_b$ is the mass of the block\n",
    "\n",
    "$M_h$ is the mass of the hook ($5g$)\n",
    "\n",
    "$M_a$ is the hanging mass added with each  trial\n",
    "\n",
    "$M_H$ is the total mass of hanging block including the hook and added weight ($M_H = M_h + M_a$)\n",
    "\n",
    "$f_k$ is the friction force\n",
    "\n",
    "$n$ is the normal force\n",
    "\n",
    "$g_{earth}$ is the gravitatational constant ($9.8 \\frac{m}{s^2}$ on Earth)\n",
    "\n",
    "$T$ is the tension"
   ]
  },
  {
   "cell_type": "code",
   "execution_count": 4,
   "id": "f395bf80-6d20-45ce-b696-34d8daffd136",
   "metadata": {},
   "outputs": [
    {
     "data": {
      "text/html": [
       "<img src=\"https://raw.githubusercontent.com/dundonite/Physics-Lab-2125-15921/refs/heads/main/lab5.png\" width=\"500\"/>"
      ],
      "text/plain": [
       "<IPython.core.display.Image object>"
      ]
     },
     "metadata": {},
     "output_type": "display_data"
    }
   ],
   "source": [
    "display(Image(url='https://raw.githubusercontent.com/dundonite/Physics-Lab-2125-15921/refs/heads/main/lab5.png', width=500))"
   ]
  },
  {
   "cell_type": "markdown",
   "id": "d6319ba7-cc77-4222-9003-6178f43d6a06",
   "metadata": {},
   "source": [
    "<p style=\"page-break-after:always;\"></p>\n",
    "\n",
    "## Procedure\n",
    "\n",
    "### Initial Setup\n",
    "\n",
    "A track and pulley system were constructed.\n",
    "\n",
    "1. A $50cm$ piece of PASTrack was placed on a table, ensuring the PASTrack end is near the table end to allow for the weight to hang over.\n",
    "1. A pully was connected to the track, on the end near the end of the table.\n",
    "1. A friction block was tied to a 5g hook using a length of string.\n",
    "1. The friction block was placed on the track, furthest from the edge near the pulley.\n",
    "1. The string was laid over the pulley and the hook was left hanging.\n",
    "\n",
    "### Trial (completed for each $M_b$)\n",
    "\n",
    "1. As needed the weight of the block $M_b$ was increased by placing a weight in the center.\n",
    "1. The block was moved to the end of the track opposite the pulley.\n",
    "1. Weight was slowly added to the hook $M_a$ until the following occurred:\n",
    "   1. The block was lightly tapped in the direction of the pulley to overcome the static friction.\n",
    "   1. The block steadily advanced down the track until reaching the pulley."
   ]
  },
  {
   "cell_type": "markdown",
   "id": "f32971de-4eef-48b2-8260-e665b350127e",
   "metadata": {},
   "source": [
    "<video width=\"500px\" muted loop autoplay src=\"./lab5.mp4\" />"
   ]
  },
  {
   "cell_type": "markdown",
   "id": "0b7dec1f-09ab-4b62-94f0-cb71b15ef156",
   "metadata": {},
   "source": [
    "<p style=\"page-break-after:always;\"></p>\n",
    "\n",
    "## Data"
   ]
  },
  {
   "cell_type": "code",
   "execution_count": 5,
   "id": "88de4dc9-a29b-4652-9a4c-c8bb9c17a1a7",
   "metadata": {
    "editable": true,
    "slideshow": {
     "slide_type": ""
    },
    "tags": []
   },
   "outputs": [
    {
     "data": {
      "text/html": [
       "<table id=\"itables_fdf2f38e_2995_4fb6_b0be_e3dd53dc29b7\" class=\"display cell-border\" data-quarto-disable-processing=\"true\" style=\"table-layout:auto;width:auto;margin:auto;caption-side:bottom\">\n",
       "<thead>\n",
       "    <tr style=\"text-align: right;\">\n",
       "      <th></th>\n",
       "      <th>$M_a$ (g)</th>\n",
       "      <th>$M_h$ (g)</th>\n",
       "      <th>$M_H$ (g)</th>\n",
       "      <th>$\\mu_k$</th>\n",
       "    </tr>\n",
       "    <tr>\n",
       "      <th>$M_b$ (g)</th>\n",
       "      <th></th>\n",
       "      <th></th>\n",
       "      <th></th>\n",
       "      <th></th>\n",
       "    </tr>\n",
       "  </thead><tbody><tr>\n",
       "<td style=\"vertical-align:middle; text-align:left\">\n",
       "<a href=https://mwouts.github.io/itables/><svg class=\"main-svg\" xmlns=\"http://www.w3.org/2000/svg\" xmlns:xlink=\"http://www.w3.org/1999/xlink\"\n",
       "width=\"64\" viewBox=\"0 0 500 400\" style=\"font-family: 'Droid Sans', sans-serif;\">\n",
       "    <g style=\"fill:#d9d7fc\">\n",
       "        <path d=\"M100,400H500V357H100Z\" />\n",
       "        <path d=\"M100,300H400V257H100Z\" />\n",
       "        <path d=\"M0,200H400V157H0Z\" />\n",
       "        <path d=\"M100,100H500V57H100Z\" />\n",
       "        <path d=\"M100,350H500V307H100Z\" />\n",
       "        <path d=\"M100,250H400V207H100Z\" />\n",
       "        <path d=\"M0,150H400V107H0Z\" />\n",
       "        <path d=\"M100,50H500V7H100Z\" />\n",
       "    </g>\n",
       "    <g style=\"fill:#1a1366;stroke:#1a1366;\">\n",
       "   <rect x=\"100\" y=\"7\" width=\"400\" height=\"43\">\n",
       "    <animate\n",
       "      attributeName=\"width\"\n",
       "      values=\"0;400;0\"\n",
       "      dur=\"5s\"\n",
       "      repeatCount=\"indefinite\" />\n",
       "      <animate\n",
       "      attributeName=\"x\"\n",
       "      values=\"100;100;500\"\n",
       "      dur=\"5s\"\n",
       "      repeatCount=\"indefinite\" />\n",
       "  </rect>\n",
       "        <rect x=\"0\" y=\"107\" width=\"400\" height=\"43\">\n",
       "    <animate\n",
       "      attributeName=\"width\"\n",
       "      values=\"0;400;0\"\n",
       "      dur=\"3.5s\"\n",
       "      repeatCount=\"indefinite\" />\n",
       "    <animate\n",
       "      attributeName=\"x\"\n",
       "      values=\"0;0;400\"\n",
       "      dur=\"3.5s\"\n",
       "      repeatCount=\"indefinite\" />\n",
       "  </rect>\n",
       "        <rect x=\"100\" y=\"207\" width=\"300\" height=\"43\">\n",
       "    <animate\n",
       "      attributeName=\"width\"\n",
       "      values=\"0;300;0\"\n",
       "      dur=\"3s\"\n",
       "      repeatCount=\"indefinite\" />\n",
       "    <animate\n",
       "      attributeName=\"x\"\n",
       "      values=\"100;100;400\"\n",
       "      dur=\"3s\"\n",
       "      repeatCount=\"indefinite\" />\n",
       "  </rect>\n",
       "        <rect x=\"100\" y=\"307\" width=\"400\" height=\"43\">\n",
       "    <animate\n",
       "      attributeName=\"width\"\n",
       "      values=\"0;400;0\"\n",
       "      dur=\"4s\"\n",
       "      repeatCount=\"indefinite\" />\n",
       "      <animate\n",
       "      attributeName=\"x\"\n",
       "      values=\"100;100;500\"\n",
       "      dur=\"4s\"\n",
       "      repeatCount=\"indefinite\" />\n",
       "  </rect>\n",
       "        <g style=\"fill:transparent;stroke-width:8; stroke-linejoin:round\" rx=\"5\">\n",
       "            <g transform=\"translate(45 50) rotate(-45)\">\n",
       "                <circle r=\"33\" cx=\"0\" cy=\"0\" />\n",
       "                <rect x=\"-8\" y=\"32\" width=\"16\" height=\"30\" />\n",
       "            </g>\n",
       "\n",
       "            <g transform=\"translate(450 152)\">\n",
       "                <polyline points=\"-15,-20 -35,-20 -35,40 25,40 25,20\" />\n",
       "                <rect x=\"-15\" y=\"-40\" width=\"60\" height=\"60\" />\n",
       "            </g>\n",
       "\n",
       "            <g transform=\"translate(50 352)\">\n",
       "                <polygon points=\"-35,-5 0,-40 35,-5\" />\n",
       "                <polygon points=\"-35,10 0,45 35,10\" />\n",
       "            </g>\n",
       "\n",
       "            <g transform=\"translate(75 250)\">\n",
       "                <polyline points=\"-30,30 -60,0 -30,-30\" />\n",
       "                <polyline points=\"0,30 -30,0 0,-30\" />\n",
       "            </g>\n",
       "\n",
       "            <g transform=\"translate(425 250) rotate(180)\">\n",
       "                <polyline points=\"-30,30 -60,0 -30,-30\" />\n",
       "                <polyline points=\"0,30 -30,0 0,-30\" />\n",
       "            </g>\n",
       "        </g>\n",
       "    </g>\n",
       "</svg>\n",
       "</a>\n",
       "Loading ITables v2.2.4 from the internet...\n",
       "(need <a href=https://mwouts.github.io/itables/troubleshooting.html>help</a>?)</td>\n",
       "</tr></tbody>\n",
       "</table>\n",
       "<link href=\"https://www.unpkg.com/dt_for_itables@2.0.13/dt_bundle.css\" rel=\"stylesheet\">\n",
       "<script type=\"module\">\n",
       "    import {DataTable, jQuery as $} from 'https://www.unpkg.com/dt_for_itables@2.0.13/dt_bundle.js';\n",
       "\n",
       "    document.querySelectorAll(\"#itables_fdf2f38e_2995_4fb6_b0be_e3dd53dc29b7:not(.dataTable)\").forEach(table => {\n",
       "        if (!(table instanceof HTMLTableElement))\n",
       "            return;\n",
       "\n",
       "        // Define the table data\n",
       "        const data = [[\"110\", \" 20.0\", \" 5.0\", \" 25.0\", 0.227273], [\"130\", \" 24.0\", \" 5.0\", \" 29.0\", 0.223077], [\"150\", \" 28.0\", \" 5.0\", \" 33.0\", 0.22], [\"170\", \" 32.0\", \" 5.0\", \" 37.0\", 0.217647], [\"190\", \" 36.0\", \" 5.0\", \" 41.0\", 0.215789], [\"210\", \" 40.0\", \" 5.0\", \" 45.0\", 0.214286], [\"Average\", \"\", \"\", \"\", 0.219679], [\"StdDev\", \"\", \"\", \"\", 0.004428]];\n",
       "\n",
       "        // Define the dt_args\n",
       "        let dt_args = {\"columnDefs\": [{\"className\": \"dt-center\", \"width\": \"25px\", \"targets\": \"_all\"}], \"layout\": {\"topStart\": null, \"topEnd\": null, \"bottomStart\": null, \"bottomEnd\": null}, \"order\": [], \"warn_on_selected_rows_not_rendered\": true};\n",
       "        dt_args[\"data\"] = data;\n",
       "\n",
       "        \n",
       "        new DataTable(table, dt_args);\n",
       "    });\n",
       "</script>\n"
      ],
      "text/plain": [
       "<IPython.core.display.HTML object>"
      ]
     },
     "metadata": {},
     "output_type": "display_data"
    }
   ],
   "source": [
    "\n",
    "%autoreload 2\n",
    "# Print the data table\n",
    "mr.Table(data=df_table, width=\"25px\")\n",
    "#HTML(df_table.to_html(notebook=True,col_space=10))"
   ]
  },
  {
   "cell_type": "code",
   "execution_count": 6,
   "id": "e20910cd-594a-472c-93b2-e32d9554fdec",
   "metadata": {},
   "outputs": [],
   "source": [
    "#if skip1.value:\n",
    "#    display(md(\"_Note: the first trial was excluded from the calculations as a likely error._\"))"
   ]
  },
  {
   "cell_type": "markdown",
   "id": "1e4a45dd-a4c8-42c3-b85a-6a5bbf49dc45",
   "metadata": {
    "editable": true,
    "slideshow": {
     "slide_type": ""
    },
    "tags": []
   },
   "source": [
    "<p style=\"page-break-after:always;\"></p>\n",
    "\n",
    "## Calculations"
   ]
  },
  {
   "cell_type": "code",
   "execution_count": 7,
   "id": "a3040632-03f7-4c39-a2da-5972a0d54937",
   "metadata": {
    "editable": true,
    "slideshow": {
     "slide_type": ""
    },
    "tags": []
   },
   "outputs": [],
   "source": [
    "# Show the math? (LaTeX)"
   ]
  },
  {
   "cell_type": "code",
   "execution_count": 8,
   "id": "0646b9f4-6874-43f7-9553-534c66bcf881",
   "metadata": {},
   "outputs": [
    {
     "data": {
      "image/png": "[encoded data removed]",
      "text/plain": [
       "<Figure size 640x480 with 1 Axes>"
      ]
     },
     "metadata": {},
     "output_type": "display_data"
    }
   ],
   "source": [
    "# We should figure out a way to deifne the chart details in the calculations section such that this section can remain static.\n",
    "\n",
    "# Plot the measurements\n",
    "plt.scatter(df_graph.index, df_graph[dataColumnNames[3]], color=\"blue\", marker=\"o\");\n",
    "\n",
    "# Plot the trendline\n",
    "p = np.poly1d(trend)\n",
    "\n",
    "fit = np.polyval(trend, df_graph[dataColumnNames[3]])\n",
    "plt.plot(df_graph.index, p(df_graph.index), color=\"blue\", linestyle=\"--\")\n",
    "\n",
    "# Add labels w LaTeX support\n",
    "plt.xlabel(plt1_xaxis.value);\n",
    "plt.ylabel(plt1_yaxis.value);\n",
    "plt.title(plt1_title.value);\n",
    "plt.rcParams['text.usetex'] = True;\n",
    "plt.rcParams['font.family'] = 'serif';\n",
    "\n",
    "# Show the graph\n",
    "plt.show();"
   ]
  },
  {
   "cell_type": "code",
   "execution_count": 9,
   "id": "a12e09d2-dbb1-4a89-a3cd-da579e15fc3b",
   "metadata": {},
   "outputs": [
    {
     "data": {
      "text/markdown": [
       "\n",
       "Using the least squares method a trend line is fit to the data with *slope* 0.200 and *$y$-intercept* 3.000, resulting in the equation $ y = 0.200 x + 3.000 $.\n"
      ],
      "text/plain": [
       "<IPython.core.display.Markdown object>"
      ]
     },
     "execution_count": 9,
     "metadata": {},
     "output_type": "execute_result"
    }
   ],
   "source": [
    "%%markdown\n",
    "\n",
    "Using the least squares method a trend line is fit to the data with *slope* {trend_slope_str} and *$y$-intercept* {trend_intercept_str}, resulting in the equation $ y = {trend_slope_str} x + {trend_intercept_str} $."
   ]
  },
  {
   "cell_type": "code",
   "execution_count": 10,
   "id": "884a7dc7-45d3-4505-9232-696564f88dc2",
   "metadata": {
    "editable": true,
    "slideshow": {
     "slide_type": ""
    },
    "tags": []
   },
   "outputs": [
    {
     "data": {
      "text/markdown": [
       "\n",
       "<p style=\"page-break-after:always;\"></p>\n",
       "\n",
       "## Results\n",
       "\n",
       "The value of $μ$ was determined using the mean, $μ_t$, and the least squares fit, $μ_g$. \n",
       "\n",
       "$μ_t = 0.220 $ with $σ$ of $0.004$\n",
       "\n",
       "$μ_g = 0.200 $\n",
       "\n",
       "This equates to a $0.094$% difference.\n",
       "\n",
       "## Discussion\n",
       "\n",
       "Discussion\n",
       "\n",
       "## Questions\n",
       "\n",
       "__Why do you try to maintain the constant speed motion of the block?__\n",
       "\n",
       "Question 1 Answer\n",
       "\n",
       "__What is the most important part of the experiment?__\n",
       "\n",
       "Question 2 Answer\n"
      ],
      "text/plain": [
       "<IPython.core.display.Markdown object>"
      ]
     },
     "execution_count": 10,
     "metadata": {},
     "output_type": "execute_result"
    }
   ],
   "source": [
    "%%markdown\n",
    "\n",
    "<p style=\"page-break-after:always;\"></p>\n",
    "\n",
    "## Results\n",
    "\n",
    "The value of $μ$ was determined using the mean, $μ_t$, and the least squares fit, $μ_g$. \n",
    "\n",
    "$μ_t = {u_k_t_str} $ with $σ$ of ${u_k_t_dev_str}$\n",
    "\n",
    "$μ_g = {u_k_g_str} $\n",
    "\n",
    "This equates to a ${u_k_diff_str}$% difference.\n",
    "\n",
    "## Discussion\n",
    "\n",
    "{discussion.value}\n",
    "\n",
    "## Questions\n",
    "\n",
    "__Why do you try to maintain the constant speed motion of the block?__\n",
    "\n",
    "{q1.value}\n",
    "\n",
    "__What is the most important part of the experiment?__\n",
    "\n",
    "{q2.value}"
   ]
  }
 ],
 "metadata": {
  "kernelspec": {
   "display_name": "Python 3 (ipykernel)",
   "language": "python",
   "name": "python3"
  },
  "language_info": {
   "codemirror_mode": {
    "name": "ipython",
    "version": 3
   },
   "file_extension": ".py",
   "mimetype": "text/x-python",
   "name": "python",
   "nbconvert_exporter": "python",
   "pygments_lexer": "ipython3",
   "version": "3.11.2"
  }
 },
 "nbformat": 4,
 "nbformat_minor": 5
}

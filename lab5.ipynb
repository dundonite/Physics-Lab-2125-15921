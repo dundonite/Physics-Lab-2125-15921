{
 "cells": [
  {
   "cell_type": "code",
   "execution_count": 15,
   "id": "7823e550-cb35-4870-af86-7f2dd13e3fbc",
   "metadata": {
    "editable": true,
    "slideshow": {
     "slide_type": ""
    },
    "tags": [
     "remove-cell"
    ]
   },
   "outputs": [
    {
     "data": {
      "application/mercury+json": "{\n    \"widget\": \"App\",\n    \"title\": \"Lab 7 - Work-Energy Theorem\",\n    \"description\": \"Lab report for PHYS 2125 (15921) Spring 2025 Lab 7.\",\n    \"show_code\": false,\n    \"show_prompt\": false,\n    \"output\": \"app\",\n    \"schedule\": \"\",\n    \"notify\": \"{}\",\n    \"continuous_update\": true,\n    \"static_notebook\": false,\n    \"show_sidebar\": true,\n    \"full_screen\": true,\n    \"allow_download\": true,\n    \"allow_share\": true,\n    \"stop_on_error\": false,\n    \"model_id\": \"mercury-app\",\n    \"code_uid\": \"App.0.50.110.23-rand95ae275c\"\n}",
      "text/html": [
       "<h3>Mercury Application</h3><small>This output won't appear in the web app.</small>"
      ],
      "text/plain": [
       "mercury.App"
      ]
     },
     "metadata": {},
     "output_type": "display_data"
    },
    {
     "data": {
      "application/mercury+json": "{\n    \"widget\": \"Text\",\n    \"value\": \"Your Name\",\n    \"sanitize\": true,\n    \"rows\": 1,\n    \"label\": \"What is your name?\",\n    \"model_id\": \"ad827d64a97b4fefaa8e62ba03b06b1b\",\n    \"code_uid\": \"Text.0.50.78.26-rand978eb65c\",\n    \"url_key\": \"\",\n    \"disabled\": false,\n    \"hidden\": false\n}",
      "application/vnd.jupyter.widget-view+json": {
       "model_id": "ad827d64a97b4fefaa8e62ba03b06b1b",
       "version_major": 2,
       "version_minor": 0
      },
      "text/plain": [
       "mercury.Text"
      ]
     },
     "metadata": {},
     "output_type": "display_data"
    },
    {
     "data": {
      "application/mercury+json": "{\n    \"widget\": \"Text\",\n    \"value\": \"PHYS 2125 (15921)\",\n    \"sanitize\": true,\n    \"rows\": 1,\n    \"label\": \"What class are you in?\",\n    \"model_id\": \"f44f637d04b74d369edff23cf858fefd\",\n    \"code_uid\": \"Text.0.50.78.27-randff3b3469\",\n    \"url_key\": \"\",\n    \"disabled\": false,\n    \"hidden\": false\n}",
      "application/vnd.jupyter.widget-view+json": {
       "model_id": "f44f637d04b74d369edff23cf858fefd",
       "version_major": 2,
       "version_minor": 0
      },
      "text/plain": [
       "mercury.Text"
      ]
     },
     "metadata": {},
     "output_type": "display_data"
    },
    {
     "data": {
      "application/mercury+json": "{\n    \"widget\": \"Text\",\n    \"value\": \"2025-02-28\",\n    \"sanitize\": true,\n    \"rows\": 1,\n    \"label\": \"Lab Date\",\n    \"model_id\": \"5507c8f9debf4afaa8ea8e670d43fd3b\",\n    \"code_uid\": \"Text.0.50.78.28-randd8899d93\",\n    \"url_key\": \"\",\n    \"disabled\": false,\n    \"hidden\": false\n}",
      "application/vnd.jupyter.widget-view+json": {
       "model_id": "5507c8f9debf4afaa8ea8e670d43fd3b",
       "version_major": 2,
       "version_minor": 0
      },
      "text/plain": [
       "mercury.Text"
      ]
     },
     "metadata": {},
     "output_type": "display_data"
    },
    {
     "data": {
      "application/mercury+json": "{\n    \"widget\": \"Text\",\n    \"value\": \"7\",\n    \"sanitize\": true,\n    \"rows\": 1,\n    \"label\": \"Lab Number\",\n    \"model_id\": \"0e352d85536b4ed994d436ab58de2f8c\",\n    \"code_uid\": \"Text.0.50.78.29-rande4613a46\",\n    \"url_key\": \"\",\n    \"disabled\": false,\n    \"hidden\": false\n}",
      "application/vnd.jupyter.widget-view+json": {
       "model_id": "0e352d85536b4ed994d436ab58de2f8c",
       "version_major": 2,
       "version_minor": 0
      },
      "text/plain": [
       "mercury.Text"
      ]
     },
     "metadata": {},
     "output_type": "display_data"
    },
    {
     "data": {
      "application/mercury+json": "{\n    \"widget\": \"Text\",\n    \"value\": \"Work-Energy Theorem\",\n    \"sanitize\": true,\n    \"rows\": 1,\n    \"label\": \"Lab Name\",\n    \"model_id\": \"ab566e3a19cc43f9be9f8f9411e782fd\",\n    \"code_uid\": \"Text.0.50.78.30-rand9085e921\",\n    \"url_key\": \"\",\n    \"disabled\": false,\n    \"hidden\": false\n}",
      "application/vnd.jupyter.widget-view+json": {
       "model_id": "ab566e3a19cc43f9be9f8f9411e782fd",
       "version_major": 2,
       "version_minor": 0
      },
      "text/plain": [
       "mercury.Text"
      ]
     },
     "metadata": {},
     "output_type": "display_data"
    },
    {
     "data": {
      "application/mercury+json": "{\n    \"widget\": \"Text\",\n    \"value\": \"Determine the coefficient of kinetic friction $\\\\mu_k$ between the wooden block and the track using the work-energy theorem.\",\n    \"sanitize\": true,\n    \"rows\": 3,\n    \"label\": \"Objective\",\n    \"model_id\": \"8e5acaae2fd043ef9320995a7a6397ba\",\n    \"code_uid\": \"Text.0.50.78.31-rand3821a272\",\n    \"url_key\": \"\",\n    \"disabled\": false,\n    \"hidden\": false\n}",
      "application/vnd.jupyter.widget-view+json": {
       "model_id": "8e5acaae2fd043ef9320995a7a6397ba",
       "version_major": 2,
       "version_minor": 0
      },
      "text/plain": [
       "mercury.Text"
      ]
     },
     "metadata": {},
     "output_type": "display_data"
    },
    {
     "data": {
      "application/mercury+json": "{\n    \"widget\": \"File\",\n    \"max_file_size\": \"10MB\",\n    \"label\": \"Data file upload\",\n    \"model_id\": \"12211e3fef1341f39c8f06eca6b3f140\",\n    \"code_uid\": \"File.0.50.74.32-randb5bb9bc2\",\n    \"disabled\": false,\n    \"hidden\": false\n}",
      "application/vnd.jupyter.widget-view+json": {
       "model_id": "12211e3fef1341f39c8f06eca6b3f140",
       "version_major": 2,
       "version_minor": 0
      },
      "text/plain": [
       "mercury.File"
      ]
     },
     "metadata": {},
     "output_type": "display_data"
    },
    {
     "data": {
      "application/mercury+json": "{\n    \"widget\": \"Text\",\n    \"value\": \"Question 1 Answer\",\n    \"sanitize\": true,\n    \"rows\": 5,\n    \"label\": \"What is/are reason/s to keep acceleration zero.(5 pts)\",\n    \"model_id\": \"5333162ce13b40ce92097254c86e5526\",\n    \"code_uid\": \"Text.0.50.78.34-rand813eb787\",\n    \"url_key\": \"\",\n    \"disabled\": false,\n    \"hidden\": false\n}",
      "application/vnd.jupyter.widget-view+json": {
       "model_id": "5333162ce13b40ce92097254c86e5526",
       "version_major": 2,
       "version_minor": 0
      },
      "text/plain": [
       "mercury.Text"
      ]
     },
     "metadata": {},
     "output_type": "display_data"
    },
    {
     "data": {
      "application/mercury+json": "{\n    \"widget\": \"Text\",\n    \"value\": \"Question 2 Answer\",\n    \"sanitize\": true,\n    \"rows\": 5,\n    \"label\": \"What if d and h are not equal each other? (5 pts)\",\n    \"model_id\": \"a2f9680a43f24b3d834ce1eef6486e7d\",\n    \"code_uid\": \"Text.0.50.78.35-rande9f34cea\",\n    \"url_key\": \"\",\n    \"disabled\": false,\n    \"hidden\": false\n}",
      "application/vnd.jupyter.widget-view+json": {
       "model_id": "a2f9680a43f24b3d834ce1eef6486e7d",
       "version_major": 2,
       "version_minor": 0
      },
      "text/plain": [
       "mercury.Text"
      ]
     },
     "metadata": {},
     "output_type": "display_data"
    },
    {
     "data": {
      "application/mercury+json": "{\n    \"widget\": \"Text\",\n    \"value\": \"Discussion\",\n    \"sanitize\": true,\n    \"rows\": 5,\n    \"label\": \"Discuss\",\n    \"model_id\": \"2fcc39fc333a416dba2388147a28c510\",\n    \"code_uid\": \"Text.0.50.78.37-randaad9a4cf\",\n    \"url_key\": \"\",\n    \"disabled\": false,\n    \"hidden\": false\n}",
      "application/vnd.jupyter.widget-view+json": {
       "model_id": "2fcc39fc333a416dba2388147a28c510",
       "version_major": 2,
       "version_minor": 0
      },
      "text/plain": [
       "mercury.Text"
      ]
     },
     "metadata": {},
     "output_type": "display_data"
    },
    {
     "data": {
      "application/mercury+json": "{\n    \"widget\": \"Text\",\n    \"value\": \"$M_b\\\\; (g)$\",\n    \"sanitize\": true,\n    \"rows\": 1,\n    \"label\": \"X-axis label\",\n    \"model_id\": \"879cadb9ee8c4a8392006c703409ba77\",\n    \"code_uid\": \"Text.0.50.78.38-randbe9ffe8a\",\n    \"url_key\": \"\",\n    \"disabled\": false,\n    \"hidden\": false\n}",
      "application/vnd.jupyter.widget-view+json": {
       "model_id": "879cadb9ee8c4a8392006c703409ba77",
       "version_major": 2,
       "version_minor": 0
      },
      "text/plain": [
       "mercury.Text"
      ]
     },
     "metadata": {},
     "output_type": "display_data"
    },
    {
     "data": {
      "application/mercury+json": "{\n    \"widget\": \"Text\",\n    \"value\": \"$M_H\\\\; (g)$\",\n    \"sanitize\": true,\n    \"rows\": 1,\n    \"label\": \"Y-axis label\",\n    \"model_id\": \"2ad2cb7df8f64d6b8e1dee3c9be0269b\",\n    \"code_uid\": \"Text.0.50.78.39-rand9f288771\",\n    \"url_key\": \"\",\n    \"disabled\": false,\n    \"hidden\": false\n}",
      "application/vnd.jupyter.widget-view+json": {
       "model_id": "2ad2cb7df8f64d6b8e1dee3c9be0269b",
       "version_major": 2,
       "version_minor": 0
      },
      "text/plain": [
       "mercury.Text"
      ]
     },
     "metadata": {},
     "output_type": "display_data"
    },
    {
     "data": {
      "application/mercury+json": "{\n    \"widget\": \"Text\",\n    \"value\": \"$\\\\mu_k$ as mass of block $M_b$ vs mass of hanging weight $M_H$\",\n    \"sanitize\": true,\n    \"rows\": 1,\n    \"label\": \"Graph title\",\n    \"model_id\": \"29bb00edc2d640fd89c3cb69962d1029\",\n    \"code_uid\": \"Text.0.50.78.40-rand2c44de05\",\n    \"url_key\": \"\",\n    \"disabled\": false,\n    \"hidden\": false\n}",
      "application/vnd.jupyter.widget-view+json": {
       "model_id": "29bb00edc2d640fd89c3cb69962d1029",
       "version_major": 2,
       "version_minor": 0
      },
      "text/plain": [
       "mercury.Text"
      ]
     },
     "metadata": {},
     "output_type": "display_data"
    }
   ],
   "source": [
    "# Import libraries\n",
    "%reload_ext autoreload\n",
    "%autoreload 2\n",
    "\n",
    "import math\n",
    "import matplotlib.pyplot as plt\n",
    "import numpy as np\n",
    "import pandas as pd\n",
    "import re\n",
    "from IPython.display import display, HTML, Latex, Image, Video\n",
    "from IPython.display import Markdown as md\n",
    "from IPython.core.magic import register_cell_magic\n",
    "from tabulate import tabulate\n",
    "from sklearn.linear_model import LinearRegression\n",
    "import mercury as mr\n",
    "\n",
    "# Allow for markdown code cells\n",
    "@register_cell_magic\n",
    "def markdown(line, cell):\n",
    "    return md(cell.format(**globals()))\n",
    "\n",
    "# Set the Mercurty metadata forthe report\n",
    "app = mr.App(title=\"Lab 7 - Work-Energy Theorem\", description=\"Lab report for PHYS 2125 (15921) Spring 2025 Lab 7.\")\n",
    "\n",
    "# Lab Information\n",
    "name    = mr.Text(value=\"Your Name\", label=\"What is your name?\", rows=1)\n",
    "course  = mr.Text(value=\"PHYS 2125 (15921)\", label=\"What class are you in?\", rows=1)\n",
    "date    = mr.Text(value=\"2025-02-28\", label=\"Lab Date\", rows=1)\n",
    "labNum  = mr.Text(value=\"7\", label=\"Lab Number\", rows=1)\n",
    "labName = mr.Text(value=\"Work-Energy Theorem\", label=\"Lab Name\", rows=1)\n",
    "labObj  = mr.Text(value=\"Determine the coefficient of kinetic friction $\\mu_k$ between the wooden block and the track using the work-energy theorem.\", label=\"Objective\", rows=3)\n",
    "file    = mr.File(label=\"Data file upload\", max_file_size=\"10MB\")\n",
    "# It would be cooler if we could get the discussion questions into a dict and loop through them.\n",
    "q1      = mr.Text(value=\"Question 1 Answer\", label=\"What is/are reason/s to keep acceleration zero.(5 pts)\", rows=5)\n",
    "q2      = mr.Text(value=\"Question 2 Answer\", label=\"What if d and h are not equal each other? (5 pts)\", rows=5)\n",
    "# q3      = mr.Text(value=\"Question 3 Answer\", label=\"Question 3?\", rows=5)\n",
    "discussion = mr.Text(value=\"Discussion\", label=\"Discuss\", rows=5)\n",
    "plt1_x = mr.Text(value = '$M_b\\; (g)$', label=\"X-axis label\", rows=1)\n",
    "plt1_y = mr.Text(value = '$M_H\\; (g)$', label=\"Y-axis label\", rows=1)\n",
    "plt1_t = mr.Text(value = '$\\mu_k$ as mass of block $M_b$ vs mass of hanging weight $M_H$', label=\"Graph title\", rows=1)\n",
    "\n",
    "dataColumnNames = [\"$M'$ (g)\", \"$M_a$ (g)\", \"$t$ (s)\", \"$M$ (g)\", \"$M_H$ (g)\", \"$d$ (cm)\", \"$V_f$ (cm/s)\", \"$\\mu_k$\"];"
   ]
  },
  {
   "cell_type": "code",
   "execution_count": 26,
   "id": "646a93e2-9575-41f7-8a9e-4e4307dced61",
   "metadata": {},
   "outputs": [],
   "source": [
    "%autoreload 2\n",
    "\n",
    "# Parse Data\n",
    "if file.filepath is not None:\n",
    "    df = pd.read_csv(file.filepath, names=dataColumnNames, header=0).set_index(dataColumnNames[0])\n",
    "else:\n",
    "    df = pd.read_csv('lab7.csv', names=dataColumnNames, header=0).set_index(dataColumnNames[0])\n",
    "\n",
    "# Constants\n",
    "g_earth = 9.8;\n",
    "m_block = 114;\n",
    "m_hook = 5;\n",
    "\n",
    "df[dataColumnNames[3]] = df.apply(lambda row: m_block + row.name, axis=1)\n",
    "df[dataColumnNames[4]] = df.apply(lambda row: m_hook + row[dataColumnNames[1]], axis=1)\n",
    "df[dataColumnNames[6]] = df.apply(lambda row: row[dataColumnNames[5]] / row[dataColumnNames[2]], axis=1)\n",
    "\n",
    "df[dataColumnNames[7]] = df.apply(lambda row: \n",
    "    (\n",
    "        (row[dataColumnNames[4]] * g_earth * row[dataColumnNames[5]]) -\n",
    "        (.5* (row[dataColumnNames[3]] + row[dataColumnNames[4]]) )\n",
    "    ) / \n",
    "    (row[dataColumnNames[3]] * g_earth * row[dataColumnNames[5]])\n",
    "    , axis=1)\n",
    "\n",
    "# Mean and StdDev across the board\n",
    "mean = df.mean()\n",
    "deviation = df.std(ddof=0)\n",
    "u_k_t = mean[dataColumnNames[7]];\n",
    "u_k_t_dev = deviation[dataColumnNames[7]];\n",
    "\n",
    "# Add the average value of u_k\n",
    "df.loc['Average'] = {\n",
    "    dataColumnNames[1]: np.nan,\n",
    "    dataColumnNames[2]: np.nan,\n",
    "    dataColumnNames[3]: np.nan,\n",
    "    dataColumnNames[4]: np.nan,\n",
    "    dataColumnNames[5]: np.nan,\n",
    "    dataColumnNames[6]: np.nan,\n",
    "    dataColumnNames[7]: u_k_t\n",
    "};\n",
    "# Add the standard devation value of u_k\n",
    "df.loc['StdDev'] = {\n",
    "    dataColumnNames[1]: np.nan,\n",
    "    dataColumnNames[2]: np.nan,\n",
    "    dataColumnNames[3]: np.nan,\n",
    "    dataColumnNames[4]: np.nan,\n",
    "    dataColumnNames[5]: np.nan,\n",
    "    dataColumnNames[6]: np.nan,\n",
    "    dataColumnNames[7]: u_k_t_dev\n",
    "};\n",
    "\n",
    "# Save this for the table\n",
    "df_table = df.fillna('');\n",
    "\n",
    "# Let's make some stings\n",
    "u_k_t_str = str(\"%.3f\" % round(u_k_t, 3))\n",
    "u_k_t_dev_str = str(\"%.3f\" % round(u_k_t_dev, 3))"
   ]
  },
  {
   "cell_type": "code",
   "execution_count": 27,
   "id": "3da618d7-974a-467a-ab8c-86773d8ccd5a",
   "metadata": {
    "editable": true,
    "slideshow": {
     "slide_type": ""
    },
    "tags": [
     "remove-cell"
    ]
   },
   "outputs": [
    {
     "data": {
      "text/markdown": [
       "\n",
       "# Lab 7: Work-Energy Theorem\n",
       "Name: **Your Name** \\\n",
       "Class: **PHYS 2125 (15921)** \\\n",
       "Date: **2025-02-28**\n",
       "\n",
       "<p style=\"page-break-after:always;\"></p>\n",
       "\n",
       "## Objective\n",
       "\n",
       "Determine the coefficient of kinetic friction $\\mu_k$ between the wooden block and the track using the work-energy theorem.\n"
      ],
      "text/plain": [
       "<IPython.core.display.Markdown object>"
      ]
     },
     "execution_count": 27,
     "metadata": {},
     "output_type": "execute_result"
    }
   ],
   "source": [
    "%%markdown\n",
    "\n",
    "# Lab {labNum.value}: {labName.value}\n",
    "Name: **{name.value}** \\\n",
    "Class: **{course.value}** \\\n",
    "Date: **{date.value}**\n",
    "\n",
    "<p style=\"page-break-after:always;\"></p>\n",
    "\n",
    "## Objective\n",
    "\n",
    "{labObj.value}"
   ]
  },
  {
   "cell_type": "markdown",
   "id": "09294620-7f56-4ab3-b5e1-ab29092e2152",
   "metadata": {},
   "source": [
    "## Equipment\n",
    "\n",
    "- (1) 50cm \"PASTrack\" track with four legs\n",
    "- (1) 110g friction block\n",
    "- (1) set of masses\n",
    "- (1) 5g hook\n",
    "- (1) ~70cm length of string\n",
    "- (1) pulley\n",
    "- (1) manual stopwatch\n",
    "\n",
    "<p style=\"page-break-after:always;\"></p>\n",
    "\n",
    "## Theory\n",
    "\n",
    "$F_{net} = M_a for M_H:\\; ↓ M_H \\cdot g - T = M_H \\cdot a$\n",
    "\n",
    "$F_{net} = M_a for M_b:\\; → T-f_k = M_b \\cdot a$\n",
    "\n",
    "$f_K = μ \\cdot n$\n",
    "\n",
    "$n = M_b \\cdot g$\n",
    "\n",
    "$M_Hg - μ_k \\cdot M_bg = M_Ha + M_ba$\n",
    "\n",
    "Setting $a = 0$\n",
    "\n",
    "$M_Hg - μ_k \\cdot M_bg = 0$\n",
    "\n",
    "$μ_k \\cdot M_b = M_H$\n",
    "\n",
    "where\n",
    "\n",
    "$M_b$ is the mass of the block\n",
    "\n",
    "$M_h$ is the mass of the hook ($5g$)\n",
    "\n",
    "$M_a$ is the hanging mass added with each  trial\n",
    "\n",
    "$M_H$ is the total mass of hanging block including the hook and added weight ($M_H = M_h + M_a$)\n",
    "\n",
    "$f_k$ is the friction force\n",
    "\n",
    "$n$ is the normal force\n",
    "\n",
    "$g_{earth}$ is the gravitatational constant ($9.8 \\frac{m}{s^2}$ on Earth)\n",
    "\n",
    "$T$ is the tension"
   ]
  },
  {
   "cell_type": "code",
   "execution_count": 28,
   "id": "f395bf80-6d20-45ce-b696-34d8daffd136",
   "metadata": {},
   "outputs": [
    {
     "data": {
      "text/html": [
       "<img src=\"https://raw.githubusercontent.com/dundonite/Physics-Lab-2125-15921/refs/heads/main/lab5.png\" width=\"500\"/>"
      ],
      "text/plain": [
       "<IPython.core.display.Image object>"
      ]
     },
     "metadata": {},
     "output_type": "display_data"
    }
   ],
   "source": [
    "display(Image(url='https://raw.githubusercontent.com/dundonite/Physics-Lab-2125-15921/refs/heads/main/lab5.png', width=500))"
   ]
  },
  {
   "cell_type": "markdown",
   "id": "d6319ba7-cc77-4222-9003-6178f43d6a06",
   "metadata": {},
   "source": [
    "<p style=\"page-break-after:always;\"></p>\n",
    "\n",
    "## Procedure\n",
    "\n",
    "### Initial Setup\n",
    "\n",
    "A track and pulley system were constructed.\n",
    "\n",
    "1. A $50cm$ piece of PASTrack was placed on a table, ensuring the PASTrack end is near the table end to allow for the weight to hang over.\n",
    "1. A pully was connected to the track, on the end near the end of the table.\n",
    "1. A friction block was tied to a 5g hook using a length of string.\n",
    "1. The friction block was placed on the track, furthest from the edge near the pulley.\n",
    "1. The string was laid over the pulley and the hook was left hanging.\n",
    "\n",
    "### Trial (completed for each $M_b$)\n",
    "\n",
    "1. As needed the weight of the block $M_b$ was increased by placing a weight in the center.\n",
    "1. The block was moved to the end of the track opposite the pulley.\n",
    "1. Weight was slowly added to the hook $M_a$ until the following occurred:\n",
    "   1. The block was lightly tapped in the direction of the pulley to overcome the static friction.\n",
    "   1. The block steadily advanced down the track until reaching the pulley."
   ]
  },
  {
   "cell_type": "markdown",
   "id": "f32971de-4eef-48b2-8260-e665b350127e",
   "metadata": {},
   "source": [
    "<video width=\"500px\" muted loop autoplay src=\"./lab5.mp4\" />"
   ]
  },
  {
   "cell_type": "markdown",
   "id": "0b7dec1f-09ab-4b62-94f0-cb71b15ef156",
   "metadata": {},
   "source": [
    "<p style=\"page-break-after:always;\"></p>\n",
    "\n",
    "## Data"
   ]
  },
  {
   "cell_type": "code",
   "execution_count": 29,
   "id": "88de4dc9-a29b-4652-9a4c-c8bb9c17a1a7",
   "metadata": {
    "editable": true,
    "slideshow": {
     "slide_type": ""
    },
    "tags": []
   },
   "outputs": [
    {
     "data": {
      "text/html": [
       "<table id=\"itables_a79b48a7_4bd1_40af_bf5a_fed456ffab26\" class=\"display cell-border\" data-quarto-disable-processing=\"true\" style=\"table-layout:auto;width:auto;margin:auto;caption-side:bottom\">\n",
       "<thead>\n",
       "    <tr style=\"text-align: right;\">\n",
       "      <th></th>\n",
       "      <th>$M_a$ (g)</th>\n",
       "      <th>$t$ (s)</th>\n",
       "      <th>$M$ (g)</th>\n",
       "      <th>$M_H$ (g)</th>\n",
       "      <th>$d$ (cm)</th>\n",
       "      <th>$V_f$ (cm/s)</th>\n",
       "      <th>$\\mu_k$</th>\n",
       "    </tr>\n",
       "    <tr>\n",
       "      <th>$M'$ (g)</th>\n",
       "      <th></th>\n",
       "      <th></th>\n",
       "      <th></th>\n",
       "      <th></th>\n",
       "      <th></th>\n",
       "      <th></th>\n",
       "      <th></th>\n",
       "    </tr>\n",
       "  </thead><tbody><tr>\n",
       "<td style=\"vertical-align:middle; text-align:left\">\n",
       "<a href=https://mwouts.github.io/itables/><svg class=\"main-svg\" xmlns=\"http://www.w3.org/2000/svg\" xmlns:xlink=\"http://www.w3.org/1999/xlink\"\n",
       "width=\"64\" viewBox=\"0 0 500 400\" style=\"font-family: 'Droid Sans', sans-serif;\">\n",
       "    <g style=\"fill:#d9d7fc\">\n",
       "        <path d=\"M100,400H500V357H100Z\" />\n",
       "        <path d=\"M100,300H400V257H100Z\" />\n",
       "        <path d=\"M0,200H400V157H0Z\" />\n",
       "        <path d=\"M100,100H500V57H100Z\" />\n",
       "        <path d=\"M100,350H500V307H100Z\" />\n",
       "        <path d=\"M100,250H400V207H100Z\" />\n",
       "        <path d=\"M0,150H400V107H0Z\" />\n",
       "        <path d=\"M100,50H500V7H100Z\" />\n",
       "    </g>\n",
       "    <g style=\"fill:#1a1366;stroke:#1a1366;\">\n",
       "   <rect x=\"100\" y=\"7\" width=\"400\" height=\"43\">\n",
       "    <animate\n",
       "      attributeName=\"width\"\n",
       "      values=\"0;400;0\"\n",
       "      dur=\"5s\"\n",
       "      repeatCount=\"indefinite\" />\n",
       "      <animate\n",
       "      attributeName=\"x\"\n",
       "      values=\"100;100;500\"\n",
       "      dur=\"5s\"\n",
       "      repeatCount=\"indefinite\" />\n",
       "  </rect>\n",
       "        <rect x=\"0\" y=\"107\" width=\"400\" height=\"43\">\n",
       "    <animate\n",
       "      attributeName=\"width\"\n",
       "      values=\"0;400;0\"\n",
       "      dur=\"3.5s\"\n",
       "      repeatCount=\"indefinite\" />\n",
       "    <animate\n",
       "      attributeName=\"x\"\n",
       "      values=\"0;0;400\"\n",
       "      dur=\"3.5s\"\n",
       "      repeatCount=\"indefinite\" />\n",
       "  </rect>\n",
       "        <rect x=\"100\" y=\"207\" width=\"300\" height=\"43\">\n",
       "    <animate\n",
       "      attributeName=\"width\"\n",
       "      values=\"0;300;0\"\n",
       "      dur=\"3s\"\n",
       "      repeatCount=\"indefinite\" />\n",
       "    <animate\n",
       "      attributeName=\"x\"\n",
       "      values=\"100;100;400\"\n",
       "      dur=\"3s\"\n",
       "      repeatCount=\"indefinite\" />\n",
       "  </rect>\n",
       "        <rect x=\"100\" y=\"307\" width=\"400\" height=\"43\">\n",
       "    <animate\n",
       "      attributeName=\"width\"\n",
       "      values=\"0;400;0\"\n",
       "      dur=\"4s\"\n",
       "      repeatCount=\"indefinite\" />\n",
       "      <animate\n",
       "      attributeName=\"x\"\n",
       "      values=\"100;100;500\"\n",
       "      dur=\"4s\"\n",
       "      repeatCount=\"indefinite\" />\n",
       "  </rect>\n",
       "        <g style=\"fill:transparent;stroke-width:8; stroke-linejoin:round\" rx=\"5\">\n",
       "            <g transform=\"translate(45 50) rotate(-45)\">\n",
       "                <circle r=\"33\" cx=\"0\" cy=\"0\" />\n",
       "                <rect x=\"-8\" y=\"32\" width=\"16\" height=\"30\" />\n",
       "            </g>\n",
       "\n",
       "            <g transform=\"translate(450 152)\">\n",
       "                <polyline points=\"-15,-20 -35,-20 -35,40 25,40 25,20\" />\n",
       "                <rect x=\"-15\" y=\"-40\" width=\"60\" height=\"60\" />\n",
       "            </g>\n",
       "\n",
       "            <g transform=\"translate(50 352)\">\n",
       "                <polygon points=\"-35,-5 0,-40 35,-5\" />\n",
       "                <polygon points=\"-35,10 0,45 35,10\" />\n",
       "            </g>\n",
       "\n",
       "            <g transform=\"translate(75 250)\">\n",
       "                <polyline points=\"-30,30 -60,0 -30,-30\" />\n",
       "                <polyline points=\"0,30 -30,0 0,-30\" />\n",
       "            </g>\n",
       "\n",
       "            <g transform=\"translate(425 250) rotate(180)\">\n",
       "                <polyline points=\"-30,30 -60,0 -30,-30\" />\n",
       "                <polyline points=\"0,30 -30,0 0,-30\" />\n",
       "            </g>\n",
       "        </g>\n",
       "    </g>\n",
       "</svg>\n",
       "</a>\n",
       "Loading ITables v2.2.4 from the internet...\n",
       "(need <a href=https://mwouts.github.io/itables/troubleshooting.html>help</a>?)</td>\n",
       "</tr></tbody>\n",
       "</table>\n",
       "<link href=\"https://www.unpkg.com/dt_for_itables@2.0.13/dt_bundle.css\" rel=\"stylesheet\">\n",
       "<script type=\"module\">\n",
       "    import {DataTable, jQuery as $} from 'https://www.unpkg.com/dt_for_itables@2.0.13/dt_bundle.js';\n",
       "\n",
       "    document.querySelectorAll(\"#itables_a79b48a7_4bd1_40af_bf5a_fed456ffab26:not(.dataTable)\").forEach(table => {\n",
       "        if (!(table instanceof HTMLTableElement))\n",
       "            return;\n",
       "\n",
       "        // Define the table data\n",
       "        const data = [[\"0\", \" 20.0\", \" 6.5\", \" 114.0\", \" 25.0\", \" 34.75\", \" 5.346154\", 0.217508], [\"20\", \" 23.0\", \" 6.5\", \" 134.0\", \" 28.0\", \" 34.75\", \" 5.346154\", 0.20718], [\"30\", \" 26.0\", \" 6.5\", \" 144.0\", \" 31.0\", \" 34.75\", \" 5.346154\", 0.213493], [\"40\", \" 29.0\", \" 6.5\", \" 154.0\", \" 34.0\", \" 34.75\", \" 5.346154\", 0.218987], [\"50\", \" 33.0\", \" 6.5\", \" 164.0\", \" 38.0\", \" 34.75\", \" 5.346154\", 0.229899], [\"60\", \" 36.0\", \" 6.5\", \" 174.0\", \" 41.0\", \" 34.75\", \" 5.346154\", 0.233818], [\"Average\", \"\", \"\", \"\", \"\", \"\", \"\", 0.220148], [\"StdDev\", \"\", \"\", \"\", \"\", \"\", \"\", 0.009153]];\n",
       "\n",
       "        // Define the dt_args\n",
       "        let dt_args = {\"columnDefs\": [{\"className\": \"dt-center\", \"width\": \"25px\", \"targets\": \"_all\"}], \"layout\": {\"topStart\": null, \"topEnd\": null, \"bottomStart\": null, \"bottomEnd\": null}, \"order\": [], \"warn_on_selected_rows_not_rendered\": true};\n",
       "        dt_args[\"data\"] = data;\n",
       "\n",
       "        \n",
       "        new DataTable(table, dt_args);\n",
       "    });\n",
       "</script>\n"
      ],
      "text/plain": [
       "<IPython.core.display.HTML object>"
      ]
     },
     "metadata": {},
     "output_type": "display_data"
    }
   ],
   "source": [
    "%autoreload 2\n",
    "# Print the data table\n",
    "mr.Table(data=df_table, width=\"25px\")\n",
    "#HTML(df_table.to_html(notebook=True,col_space=10))"
   ]
  },
  {
   "cell_type": "markdown",
   "id": "1e4a45dd-a4c8-42c3-b85a-6a5bbf49dc45",
   "metadata": {
    "editable": true,
    "slideshow": {
     "slide_type": ""
    },
    "tags": []
   },
   "source": [
    "<p style=\"page-break-after:always;\"></p>\n",
    "\n",
    "## Calculations"
   ]
  },
  {
   "cell_type": "code",
   "execution_count": 7,
   "id": "a3040632-03f7-4c39-a2da-5972a0d54937",
   "metadata": {
    "editable": true,
    "slideshow": {
     "slide_type": ""
    },
    "tags": []
   },
   "outputs": [],
   "source": [
    "# Show the math? (LaTeX)"
   ]
  },
  {
   "cell_type": "code",
   "execution_count": 30,
   "id": "884a7dc7-45d3-4505-9232-696564f88dc2",
   "metadata": {
    "editable": true,
    "slideshow": {
     "slide_type": ""
    },
    "tags": []
   },
   "outputs": [
    {
     "data": {
      "text/markdown": [
       "\n",
       "<p style=\"page-break-after:always;\"></p>\n",
       "\n",
       "## Results\n",
       "\n",
       "The value of $μ$ was determined using the mean, with the following results.\n",
       "\n",
       "$μ_t = 0.220 $ with $σ$ of $0.009$\n",
       "\n",
       "## Discussion\n",
       "\n",
       "Discussion\n",
       "\n",
       "## Questions\n",
       "\n",
       "__Why do you try to maintain the constant speed motion of the block?__\n",
       "\n",
       "Question 1 Answer\n",
       "\n",
       "__What is the most important part of the experiment?__\n",
       "\n",
       "Question 2 Answer\n"
      ],
      "text/plain": [
       "<IPython.core.display.Markdown object>"
      ]
     },
     "execution_count": 30,
     "metadata": {},
     "output_type": "execute_result"
    }
   ],
   "source": [
    "%%markdown\n",
    "\n",
    "<p style=\"page-break-after:always;\"></p>\n",
    "\n",
    "## Results\n",
    "\n",
    "The value of $μ$ was determined using the mean, with the following results.\n",
    "\n",
    "$μ_t = {u_k_t_str} $ with $σ$ of ${u_k_t_dev_str}$\n",
    "\n",
    "## Discussion\n",
    "\n",
    "{discussion.value}\n",
    "\n",
    "## Questions\n",
    "\n",
    "__Why do you try to maintain the constant speed motion of the block?__\n",
    "\n",
    "{q1.value}\n",
    "\n",
    "__What is the most important part of the experiment?__\n",
    "\n",
    "{q2.value}"
   ]
  }
 ],
 "metadata": {
  "kernelspec": {
   "display_name": "Python 3 (ipykernel)",
   "language": "python",
   "name": "python3"
  },
  "language_info": {
   "codemirror_mode": {
    "name": "ipython",
    "version": 3
   },
   "file_extension": ".py",
   "mimetype": "text/x-python",
   "name": "python",
   "nbconvert_exporter": "python",
   "pygments_lexer": "ipython3",
   "version": "3.11.2"
  }
 },
 "nbformat": 4,
 "nbformat_minor": 5
}

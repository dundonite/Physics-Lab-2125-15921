{
 "cells": [
  {
   "cell_type": "code",
   "execution_count": 1,
   "id": "7823e550-cb35-4870-af86-7f2dd13e3fbc",
   "metadata": {
    "editable": true,
    "slideshow": {
     "slide_type": ""
    },
    "tags": [
     "remove-cell"
    ]
   },
   "outputs": [
    {
     "data": {
      "application/mercury+json": "{\n    \"widget\": \"App\",\n    \"title\": \"Lab 9 - Simple Harmonic Motion (SHM)\",\n    \"description\": \"Lab report for PHYS 2125 (15921) Spring 2025 Lab 9.\",\n    \"show_code\": false,\n    \"show_prompt\": false,\n    \"output\": \"app\",\n    \"schedule\": \"\",\n    \"notify\": \"{}\",\n    \"continuous_update\": true,\n    \"static_notebook\": false,\n    \"show_sidebar\": true,\n    \"full_screen\": true,\n    \"allow_download\": true,\n    \"allow_share\": true,\n    \"stop_on_error\": false,\n    \"model_id\": \"mercury-app\",\n    \"code_uid\": \"App.0.50.110.44-rand960dd2e7\"\n}",
      "text/html": [
       "<h3>Mercury Application</h3><small>This output won't appear in the web app.</small>"
      ],
      "text/plain": [
       "mercury.App"
      ]
     },
     "metadata": {},
     "output_type": "display_data"
    },
    {
     "data": {
      "application/mercury+json": "{\n    \"widget\": \"Text\",\n    \"value\": \"Your Name\",\n    \"sanitize\": true,\n    \"rows\": 1,\n    \"label\": \"What is your name?\",\n    \"model_id\": \"4b25626bf4e9493d8af416fd1db3361f\",\n    \"code_uid\": \"Text.0.50.78.45-randbe0f2644\",\n    \"url_key\": \"\",\n    \"disabled\": false,\n    \"hidden\": false\n}",
      "application/vnd.jupyter.widget-view+json": {
       "model_id": "4b25626bf4e9493d8af416fd1db3361f",
       "version_major": 2,
       "version_minor": 0
      },
      "text/plain": [
       "mercury.Text"
      ]
     },
     "metadata": {},
     "output_type": "display_data"
    },
    {
     "data": {
      "application/mercury+json": "{\n    \"widget\": \"Text\",\n    \"value\": \"PHYS 2125 (15921)\",\n    \"sanitize\": true,\n    \"rows\": 1,\n    \"label\": \"What class are you in?\",\n    \"model_id\": \"ff1619e08dde43d3b0b60930d5b897d5\",\n    \"code_uid\": \"Text.0.50.78.46-rande5c2dfed\",\n    \"url_key\": \"\",\n    \"disabled\": false,\n    \"hidden\": false\n}",
      "application/vnd.jupyter.widget-view+json": {
       "model_id": "ff1619e08dde43d3b0b60930d5b897d5",
       "version_major": 2,
       "version_minor": 0
      },
      "text/plain": [
       "mercury.Text"
      ]
     },
     "metadata": {},
     "output_type": "display_data"
    },
    {
     "data": {
      "application/mercury+json": "{\n    \"widget\": \"Text\",\n    \"value\": \"2025-03-14\",\n    \"sanitize\": true,\n    \"rows\": 1,\n    \"label\": \"Lab Date\",\n    \"model_id\": \"27cfe80fab614d15913c808b9ad45589\",\n    \"code_uid\": \"Text.0.50.78.47-randf0d54308\",\n    \"url_key\": \"\",\n    \"disabled\": false,\n    \"hidden\": false\n}",
      "application/vnd.jupyter.widget-view+json": {
       "model_id": "27cfe80fab614d15913c808b9ad45589",
       "version_major": 2,
       "version_minor": 0
      },
      "text/plain": [
       "mercury.Text"
      ]
     },
     "metadata": {},
     "output_type": "display_data"
    },
    {
     "data": {
      "application/mercury+json": "{\n    \"widget\": \"Text\",\n    \"value\": \"9\",\n    \"sanitize\": true,\n    \"rows\": 1,\n    \"label\": \"Lab Number\",\n    \"model_id\": \"f7959a5e3a9042ce9cec03768d8df1cd\",\n    \"code_uid\": \"Text.0.50.78.48-rand789b9ef1\",\n    \"url_key\": \"\",\n    \"disabled\": false,\n    \"hidden\": false\n}",
      "application/vnd.jupyter.widget-view+json": {
       "model_id": "f7959a5e3a9042ce9cec03768d8df1cd",
       "version_major": 2,
       "version_minor": 0
      },
      "text/plain": [
       "mercury.Text"
      ]
     },
     "metadata": {},
     "output_type": "display_data"
    },
    {
     "data": {
      "application/mercury+json": "{\n    \"widget\": \"Text\",\n    \"value\": \"Simple Harmonic Motion (SHM)\",\n    \"sanitize\": true,\n    \"rows\": 1,\n    \"label\": \"Lab Name\",\n    \"model_id\": \"eac6e598f19144808b8e4b095c22bff1\",\n    \"code_uid\": \"Text.0.50.78.49-rand3b9bff50\",\n    \"url_key\": \"\",\n    \"disabled\": false,\n    \"hidden\": false\n}",
      "application/vnd.jupyter.widget-view+json": {
       "model_id": "eac6e598f19144808b8e4b095c22bff1",
       "version_major": 2,
       "version_minor": 0
      },
      "text/plain": [
       "mercury.Text"
      ]
     },
     "metadata": {},
     "output_type": "display_data"
    },
    {
     "data": {
      "application/mercury+json": "{\n    \"widget\": \"Text\",\n    \"value\": \"To determine the spring constant.\",\n    \"sanitize\": true,\n    \"rows\": 3,\n    \"label\": \"Objective\",\n    \"model_id\": \"86bb7ae155ef47e4b67bcc6e504baaf8\",\n    \"code_uid\": \"Text.0.50.78.50-rand037ee761\",\n    \"url_key\": \"\",\n    \"disabled\": false,\n    \"hidden\": false\n}",
      "application/vnd.jupyter.widget-view+json": {
       "model_id": "86bb7ae155ef47e4b67bcc6e504baaf8",
       "version_major": 2,
       "version_minor": 0
      },
      "text/plain": [
       "mercury.Text"
      ]
     },
     "metadata": {},
     "output_type": "display_data"
    },
    {
     "data": {
      "application/mercury+json": "{\n    \"widget\": \"Text\",\n    \"value\": \"Question 1 Answer\",\n    \"sanitize\": true,\n    \"rows\": 5,\n    \"label\": \"What is your name? (5 pts)\",\n    \"model_id\": \"5043296e70324b73bb6d343314a87d9c\",\n    \"code_uid\": \"Text.0.50.78.51-rand4dbe913b\",\n    \"url_key\": \"\",\n    \"disabled\": false,\n    \"hidden\": false\n}",
      "application/vnd.jupyter.widget-view+json": {
       "model_id": "5043296e70324b73bb6d343314a87d9c",
       "version_major": 2,
       "version_minor": 0
      },
      "text/plain": [
       "mercury.Text"
      ]
     },
     "metadata": {},
     "output_type": "display_data"
    },
    {
     "data": {
      "application/mercury+json": "{\n    \"widget\": \"Text\",\n    \"value\": \"Question 2 Answer\",\n    \"sanitize\": true,\n    \"rows\": 5,\n    \"label\": \"What is your quest? (5 pts)\",\n    \"model_id\": \"6e3c06418d664c058aff4ea627dff3c4\",\n    \"code_uid\": \"Text.0.50.78.52-randed772377\",\n    \"url_key\": \"\",\n    \"disabled\": false,\n    \"hidden\": false\n}",
      "application/vnd.jupyter.widget-view+json": {
       "model_id": "6e3c06418d664c058aff4ea627dff3c4",
       "version_major": 2,
       "version_minor": 0
      },
      "text/plain": [
       "mercury.Text"
      ]
     },
     "metadata": {},
     "output_type": "display_data"
    },
    {
     "data": {
      "application/mercury+json": "{\n    \"widget\": \"Text\",\n    \"value\": \"$m\\\\; (kg)$\",\n    \"sanitize\": true,\n    \"rows\": 1,\n    \"label\": \"X-axis label\",\n    \"model_id\": \"b8dd31ddc6234de5ba036572660ca5c2\",\n    \"code_uid\": \"Text.0.50.78.53-rand43cfb5c6\",\n    \"url_key\": \"\",\n    \"disabled\": false,\n    \"hidden\": false\n}",
      "application/vnd.jupyter.widget-view+json": {
       "model_id": "b8dd31ddc6234de5ba036572660ca5c2",
       "version_major": 2,
       "version_minor": 0
      },
      "text/plain": [
       "mercury.Text"
      ]
     },
     "metadata": {},
     "output_type": "display_data"
    },
    {
     "data": {
      "application/mercury+json": "{\n    \"widget\": \"Text\",\n    \"value\": \"$T^2\\\\; (s^2)$\",\n    \"sanitize\": true,\n    \"rows\": 1,\n    \"label\": \"Y-axis label\",\n    \"model_id\": \"53d55725884846d09e257db4925247d2\",\n    \"code_uid\": \"Text.0.50.78.54-randa02b22c0\",\n    \"url_key\": \"\",\n    \"disabled\": false,\n    \"hidden\": false\n}",
      "application/vnd.jupyter.widget-view+json": {
       "model_id": "53d55725884846d09e257db4925247d2",
       "version_major": 2,
       "version_minor": 0
      },
      "text/plain": [
       "mercury.Text"
      ]
     },
     "metadata": {},
     "output_type": "display_data"
    },
    {
     "data": {
      "application/mercury+json": "{\n    \"widget\": \"Text\",\n    \"value\": \"$T^2$ vs hanging mass $m$\",\n    \"sanitize\": true,\n    \"rows\": 1,\n    \"label\": \"Graph title\",\n    \"model_id\": \"fcb04519b2b24200a0d0ae1ac0dc5556\",\n    \"code_uid\": \"Text.0.50.78.55-rand75cacf1a\",\n    \"url_key\": \"\",\n    \"disabled\": false,\n    \"hidden\": false\n}",
      "application/vnd.jupyter.widget-view+json": {
       "model_id": "fcb04519b2b24200a0d0ae1ac0dc5556",
       "version_major": 2,
       "version_minor": 0
      },
      "text/plain": [
       "mercury.Text"
      ]
     },
     "metadata": {},
     "output_type": "display_data"
    },
    {
     "data": {
      "application/mercury+json": "{\n    \"widget\": \"Text\",\n    \"value\": \"Discussion\",\n    \"sanitize\": true,\n    \"rows\": 5,\n    \"label\": \"Discuss\",\n    \"model_id\": \"2c26f4906b6945298ad9dee6a00fa358\",\n    \"code_uid\": \"Text.0.50.78.56-rand87d606b4\",\n    \"url_key\": \"\",\n    \"disabled\": false,\n    \"hidden\": false\n}",
      "application/vnd.jupyter.widget-view+json": {
       "model_id": "2c26f4906b6945298ad9dee6a00fa358",
       "version_major": 2,
       "version_minor": 0
      },
      "text/plain": [
       "mercury.Text"
      ]
     },
     "metadata": {},
     "output_type": "display_data"
    },
    {
     "data": {
      "application/mercury+json": "{\n    \"widget\": \"File\",\n    \"max_file_size\": \"10MB\",\n    \"label\": \"Data file upload\",\n    \"model_id\": \"34a8acc4832c4f81ab2595f101c96ed7\",\n    \"code_uid\": \"File.0.50.74.57-rand8312b655\",\n    \"disabled\": false,\n    \"hidden\": false\n}",
      "application/vnd.jupyter.widget-view+json": {
       "model_id": "34a8acc4832c4f81ab2595f101c96ed7",
       "version_major": 2,
       "version_minor": 0
      },
      "text/plain": [
       "mercury.File"
      ]
     },
     "metadata": {},
     "output_type": "display_data"
    }
   ],
   "source": [
    "# Import libraries\n",
    "%reload_ext autoreload\n",
    "%autoreload 2\n",
    "\n",
    "import math\n",
    "import matplotlib.pyplot as plt\n",
    "import numpy as np\n",
    "import pandas as pd\n",
    "import re\n",
    "from IPython.display import display, HTML, Latex, Image, Video\n",
    "from IPython.display import Markdown as md\n",
    "from IPython.core.magic import register_cell_magic\n",
    "from tabulate import tabulate\n",
    "from sklearn.linear_model import LinearRegression\n",
    "import mercury as mr\n",
    "import datetime\n",
    "\n",
    "# Allow for markdown code cells\n",
    "@register_cell_magic\n",
    "def markdown(line, cell):\n",
    "    return md(cell.format(**globals()))\n",
    "\n",
    "# When was last Friday?\n",
    "last_friday = datetime.date.today() - pd.offsets.Week(weekday=4)\n",
    "\n",
    "# Lab Information\n",
    "defName   = \"Your Name\"\n",
    "defCourse = \"PHYS 2125 (15921)\"\n",
    "defSem    = \"Spring 2025\"\n",
    "defDate   = last_friday.strftime(\"%Y-%m-%d\")\n",
    "defNum    = \"9\"\n",
    "defLab    = \"Simple Harmonic Motion (SHM)\"\n",
    "defObj    = \"To determine the spring constant.\"\n",
    "defQ1     = \"What is your name? (5 pts)\"\n",
    "defQ2     = \"What is your quest? (5 pts)\"\n",
    "defG_X    = '$m\\; (kg)$'\n",
    "defG_Y    = '$T^2\\; (s^2)$'\n",
    "defG_T    = '$T^2$ vs hanging mass $m$'\n",
    "columns   = [\"$m_a$ (kg)\", \"$m_{hook}$ (kg)\", \"$m$ (kg)\", \"$5T_1$ (s)\", \"$5T_2$ (s)\", \"$T_1$ (s)\", \"$T_2$ (s)\", \"$T$ (s)\", \"$T^2$ (s²)\", \"$k$ (N/m)\"];\n",
    "colIdx    = 2\n",
    "fileName  = 'lab9.csv'\n",
    "\n",
    "# Mercury App\n",
    "app       = mr.App(title=\"Lab \" + defNum + \" - \" + defLab, description=\"Lab report for \" + defCourse + \" \" + defSem + \" Lab \" + defNum + \".\")\n",
    "name      = mr.Text(label=\"What is your name?\",     value=defName, rows=1)\n",
    "course    = mr.Text(label=\"What class are you in?\", value=defCourse, rows=1)\n",
    "date      = mr.Text(label=\"Lab Date\",               value=defDate, rows=1)\n",
    "labNum    = mr.Text(label=\"Lab Number\",             value=defNum, rows=1)\n",
    "labName   = mr.Text(label=\"Lab Name\",               value=defLab, rows=1)\n",
    "labObj    = mr.Text(label=\"Objective\",              value=defObj, rows=3)\n",
    "q1        = mr.Text(value=\"Question 1 Answer\",      label=defQ1, rows=5)\n",
    "q2        = mr.Text(value=\"Question 2 Answer\",      label=defQ2, rows=5)\n",
    "g_xaxis   = mr.Text(label=\"X-axis label\",           value=defG_X, rows=1)\n",
    "g_yaxis   = mr.Text(label=\"Y-axis label\",           value=defG_Y, rows=1)\n",
    "g_title   = mr.Text(label=\"Graph title\",            value=defG_T, rows=1)\n",
    "discuss   = mr.Text(value=\"Discussion\",             label=\"Discuss\", rows=5)\n",
    "file      = mr.File(label=\"Data file upload\",       max_file_size=\"10MB\")"
   ]
  },
  {
   "cell_type": "code",
   "execution_count": 2,
   "id": "646a93e2-9575-41f7-8a9e-4e4307dced61",
   "metadata": {},
   "outputs": [],
   "source": [
    "%autoreload 2\n",
    "\n",
    "if file.filepath is not None:\n",
    "    df = pd.read_csv(file.filepath, names=columns, header=0).set_index(columns[colIdx], drop=False)\n",
    "else:\n",
    "    df = pd.read_csv(fileName, names=columns, header=0).set_index(columns[colIdx], drop=False)\n",
    "\n",
    "# Remove the last row\n",
    "df = df.drop(df.index[-1])\n",
    "\n",
    "# Save this for the graph\n",
    "df_graph = df;\n",
    "\n",
    "# Mean and StdDev across the board\n",
    "mean = df.mean()\n",
    "deviation = df.std(ddof=0)\n",
    "\n",
    "# Calculate k_t from the table\n",
    "k_t = mean[columns[9]];\n",
    "\n",
    "# Calculate the trend line slope and intercept\n",
    "trend = np.polyfit(df[columns[2]], df[columns[8]], 1)  # 1 for linear trendline\n",
    "trend_slope, trend_intercept = trend\n",
    "\n",
    "# Calculate μ_k from the graph\n",
    "k_g = (4 * math.pow(math.pi, 2)) / trend_slope;\n",
    "\n",
    "# Calculate % difference between u_k_table and u_k_graph\n",
    "k_diff = abs( k_g - k_t ) / ( ( k_t + k_g ) / 2 )\n",
    "k_t_dev = deviation[columns[7]];\n",
    "\n",
    "# Remove the duplicate column\n",
    "df = df.drop(columns=[columns[2]])\n",
    "\n",
    "# Add the average value of k\n",
    "df.loc['Average'] = {\n",
    "    columns[1]: np.nan,\n",
    "    columns[3]: np.nan,\n",
    "    columns[4]: np.nan,\n",
    "    columns[5]: np.nan,\n",
    "    columns[6]: np.nan,\n",
    "    columns[7]: np.nan,\n",
    "    columns[8]: np.nan,\n",
    "    columns[9]: k_t\n",
    "};\n",
    "# Add the standard devation value of u_k\n",
    "df.loc['StdDev'] = {\n",
    "    columns[1]: np.nan,\n",
    "    columns[3]: np.nan,\n",
    "    columns[4]: np.nan,\n",
    "    columns[5]: np.nan,\n",
    "    columns[6]: np.nan,\n",
    "    columns[7]: np.nan,\n",
    "    columns[8]: np.nan,\n",
    "    columns[9]: k_t_dev\n",
    "};\n",
    "\n",
    "# Save this for the table\n",
    "df_table = df.fillna('');\n",
    "\n",
    "# Formatting\n",
    "df[columns[0]] = df.apply(lambda row: f\"{row[columns[0]]:.4f}\", axis=1)\n",
    "df[columns[1]] = df.apply(lambda row: f\"{row[columns[1]]:.4f}\", axis=1)\n",
    "df[columns[3]] = df.apply(lambda row: f\"{row[columns[3]]:.3f}\", axis=1)\n",
    "df[columns[4]] = df.apply(lambda row: f\"{row[columns[4]]:.3f}\", axis=1)\n",
    "df[columns[5]] = df.apply(lambda row: f\"{row[columns[5]]:.3f}\", axis=1)\n",
    "df[columns[6]] = df.apply(lambda row: f\"{row[columns[6]]:.3f}\", axis=1)\n",
    "df[columns[7]] = df.apply(lambda row: f\"{row[columns[7]]:.3f}\", axis=1)\n",
    "df[columns[8]] = df.apply(lambda row: f\"{row[columns[8]]:.3f}\", axis=1)\n",
    "df[columns[9]] = df.apply(lambda row: f\"{row[columns[9]]:.3f}\", axis=1)\n",
    "\n",
    "# Make some strings\n",
    "k_t_str = str(\"%.3f\" % round(k_t, 3))\n",
    "k_t_dev_str = str(\"%.3f\" % round(k_t_dev, 3))\n",
    "k_g_str = str(\"%.3f\" % round(k_g, 3))\n",
    "k_diff_str = str(\"%.3f\" % round(k_diff, 3))\n",
    "trend_slope_str = str(\"%.3f\" % round(trend_slope, 3))\n",
    "trend_intercept_str = str(\"%.3f\" % round(trend_intercept, 3))"
   ]
  },
  {
   "cell_type": "code",
   "execution_count": 3,
   "id": "3da618d7-974a-467a-ab8c-86773d8ccd5a",
   "metadata": {
    "editable": true,
    "slideshow": {
     "slide_type": ""
    },
    "tags": [
     "remove-cell"
    ]
   },
   "outputs": [
    {
     "data": {
      "text/markdown": [
       "\n",
       "# Lab 9: Simple Harmonic Motion (SHM)\n",
       "Name: **Your Name** \\\n",
       "Class: **PHYS 2125 (15921)** \\\n",
       "Date: **2025-03-14**\n",
       "\n",
       "<p style=\"page-break-after:always;\"></p>\n",
       "\n",
       "## Objective\n",
       "\n",
       "To determine the spring constant.\n"
      ],
      "text/plain": [
       "<IPython.core.display.Markdown object>"
      ]
     },
     "execution_count": 3,
     "metadata": {},
     "output_type": "execute_result"
    }
   ],
   "source": [
    "%%markdown\n",
    "\n",
    "# Lab {labNum.value}: {labName.value}\n",
    "Name: **{name.value}** \\\n",
    "Class: **{course.value}** \\\n",
    "Date: **{date.value}**\n",
    "\n",
    "<p style=\"page-break-after:always;\"></p>\n",
    "\n",
    "## Objective\n",
    "\n",
    "{labObj.value}"
   ]
  },
  {
   "cell_type": "markdown",
   "id": "09294620-7f56-4ab3-b5e1-ab29092e2152",
   "metadata": {},
   "source": [
    "## Equipment\n",
    "\n",
    "- (1) small A-base\n",
    "- (1) long metal rod\n",
    "- (1) clamp\n",
    "- (1) short rod\n",
    "- (1) spring set\n",
    "  - (3) spring with unknown $k$ value\n",
    "  - (1) 5g hook\n",
    "- (1) set of weights of known mass\n",
    "- (1) stopwatch\n",
    "\n",
    "## Theory\n",
    "\n",
    "$T = 2 \\pi \\sqrt{\\dfrac{m}{k}}$\n",
    "\n",
    "$T^2 = 4 \\pi^2 (\\dfrac{m}{k})$\n",
    "\n",
    "$T^2 = (\\dfrac{4 \\pi^2}{k}) \\cdot m$\n",
    "\n",
    "$k = 4 \\pi^2 (\\dfrac{m}{T^2})$\n",
    "\n",
    "where\n",
    "\n",
    "$T$ is the period of oscillation,\n",
    "\n",
    "$M$ is the hanging mass, and\n",
    "\n",
    "$k$ is the spring constant."
   ]
  },
  {
   "cell_type": "code",
   "execution_count": 4,
   "id": "f395bf80-6d20-45ce-b696-34d8daffd136",
   "metadata": {},
   "outputs": [
    {
     "data": {
      "text/html": [
       "<img src=\"https://raw.githubusercontent.com/dundonite/Physics-Lab-2125-15921/refs/heads/main/lab9.png\" width=\"500\"/>"
      ],
      "text/plain": [
       "<IPython.core.display.Image object>"
      ]
     },
     "metadata": {},
     "output_type": "display_data"
    }
   ],
   "source": [
    "display(Image(url='https://raw.githubusercontent.com/dundonite/Physics-Lab-2125-15921/refs/heads/main/lab9.png', width=500))"
   ]
  },
  {
   "cell_type": "markdown",
   "id": "d6319ba7-cc77-4222-9003-6178f43d6a06",
   "metadata": {},
   "source": [
    "\n",
    "\n",
    "<p style=\"page-break-after:always;\"></p>\n",
    "\n",
    "## Procedure\n",
    "\n",
    "The following procedure was followed.\n",
    "\n",
    "### Initial Setup\n",
    "\n",
    "The pendulum was constructed as follows.\n",
    "\n",
    "1. A small cast iron A-base was placed on the table.\n",
    "1. A 45cm steel rod was secured into the A-frame, raised up as much as possible to maximize the height.\n",
    "1. The vertical mounting side of a steel clamp was secured at the very top of the rod.\n",
    "1. A 15cm rod was attached to the horizontal side of the same steel clamp, to the far end of the smaller rod.\n",
    "1. A spring with unknown spring constant $k$ was hung near the middle of the smaller rod.\n",
    "\n",
    "### Trial (completed for each $m_a$)\n",
    "\n",
    "1. A mass $m_a$ was attached to the hook.\n",
    "1. The mass was made to oscillate by pulling down on the weight with light-to-moderate force.\n",
    "3. Twice a measurement was taken of the the time required to complete five (5) oscillations.\n",
    "4. These values were recorded as $5T_1$ and $5T_2$."
   ]
  },
  {
   "cell_type": "markdown",
   "id": "0b7dec1f-09ab-4b62-94f0-cb71b15ef156",
   "metadata": {},
   "source": [
    "<p style=\"page-break-after:always;\"></p>\n",
    "\n",
    "## Data"
   ]
  },
  {
   "cell_type": "code",
   "execution_count": 5,
   "id": "f494a1cb-e310-4166-a9a9-0faa671ad538",
   "metadata": {},
   "outputs": [
    {
     "data": {
      "text/html": [
       "<div>\n",
       "<style scoped>\n",
       "    .dataframe tbody tr th:only-of-type {\n",
       "        vertical-align: middle;\n",
       "    }\n",
       "\n",
       "    .dataframe tbody tr th {\n",
       "        vertical-align: top;\n",
       "    }\n",
       "\n",
       "    .dataframe thead th {\n",
       "        text-align: right;\n",
       "    }\n",
       "</style>\n",
       "<table border=\"1\" class=\"dataframe\">\n",
       "  <thead>\n",
       "    <tr style=\"text-align: right;\">\n",
       "      <th style=\"min-width: 5px;\"></th>\n",
       "      <th style=\"min-width: 5px;\">$m_a$ (kg)</th>\n",
       "      <th style=\"min-width: 5px;\">$m_{hook}$ (kg)</th>\n",
       "      <th style=\"min-width: 5px;\">$5T_1$ (s)</th>\n",
       "      <th style=\"min-width: 5px;\">$5T_2$ (s)</th>\n",
       "      <th style=\"min-width: 5px;\">$T_1$ (s)</th>\n",
       "      <th style=\"min-width: 5px;\">$T_2$ (s)</th>\n",
       "      <th style=\"min-width: 5px;\">$T$ (s)</th>\n",
       "      <th style=\"min-width: 5px;\">$T^2$ (s²)</th>\n",
       "      <th style=\"min-width: 5px;\">$k$ (N/m)</th>\n",
       "    </tr>\n",
       "    <tr>\n",
       "      <th>$m$ (kg)</th>\n",
       "      <th style=\"min-width: 5px;\"></th>\n",
       "      <th style=\"min-width: 5px;\"></th>\n",
       "      <th style=\"min-width: 5px;\"></th>\n",
       "      <th style=\"min-width: 5px;\"></th>\n",
       "      <th style=\"min-width: 5px;\"></th>\n",
       "      <th style=\"min-width: 5px;\"></th>\n",
       "      <th style=\"min-width: 5px;\"></th>\n",
       "      <th style=\"min-width: 5px;\"></th>\n",
       "      <th style=\"min-width: 5px;\"></th>\n",
       "    </tr>\n",
       "  </thead>\n",
       "  <tbody>\n",
       "    <tr>\n",
       "      <th>0.035</th>\n",
       "      <td>0.03</td>\n",
       "      <td>0.005</td>\n",
       "      <td>3.24</td>\n",
       "      <td>3.32</td>\n",
       "      <td>0.648</td>\n",
       "      <td>0.664</td>\n",
       "      <td>0.656</td>\n",
       "      <td>0.430336</td>\n",
       "      <td>3.210851</td>\n",
       "    </tr>\n",
       "    <tr>\n",
       "      <th>0.045</th>\n",
       "      <td>0.04</td>\n",
       "      <td>0.005</td>\n",
       "      <td>3.77</td>\n",
       "      <td>3.8</td>\n",
       "      <td>0.754</td>\n",
       "      <td>0.76</td>\n",
       "      <td>0.757</td>\n",
       "      <td>0.573049</td>\n",
       "      <td>3.100134</td>\n",
       "    </tr>\n",
       "    <tr>\n",
       "      <th>0.055</th>\n",
       "      <td>0.05</td>\n",
       "      <td>0.005</td>\n",
       "      <td>4.2</td>\n",
       "      <td>4.14</td>\n",
       "      <td>0.84</td>\n",
       "      <td>0.828</td>\n",
       "      <td>0.834</td>\n",
       "      <td>0.695556</td>\n",
       "      <td>3.121694</td>\n",
       "    </tr>\n",
       "    <tr>\n",
       "      <th>0.065</th>\n",
       "      <td>0.06</td>\n",
       "      <td>0.005</td>\n",
       "      <td>4.57</td>\n",
       "      <td>4.53</td>\n",
       "      <td>0.914</td>\n",
       "      <td>0.906</td>\n",
       "      <td>0.91</td>\n",
       "      <td>0.8281</td>\n",
       "      <td>3.098777</td>\n",
       "    </tr>\n",
       "    <tr>\n",
       "      <th>0.075</th>\n",
       "      <td>0.07</td>\n",
       "      <td>0.005</td>\n",
       "      <td>4.8</td>\n",
       "      <td>4.92</td>\n",
       "      <td>0.96</td>\n",
       "      <td>0.984</td>\n",
       "      <td>0.972</td>\n",
       "      <td>0.944784</td>\n",
       "      <td>3.133924</td>\n",
       "    </tr>\n",
       "    <tr>\n",
       "      <th>0.085</th>\n",
       "      <td>0.08</td>\n",
       "      <td>0.005</td>\n",
       "      <td>4.99</td>\n",
       "      <td>4.99</td>\n",
       "      <td>0.998</td>\n",
       "      <td>0.998</td>\n",
       "      <td>0.998</td>\n",
       "      <td>0.996004</td>\n",
       "      <td>3.369129</td>\n",
       "    </tr>\n",
       "    <tr>\n",
       "      <th>Average</th>\n",
       "      <td></td>\n",
       "      <td></td>\n",
       "      <td></td>\n",
       "      <td></td>\n",
       "      <td></td>\n",
       "      <td></td>\n",
       "      <td></td>\n",
       "      <td></td>\n",
       "      <td>3.172418</td>\n",
       "    </tr>\n",
       "    <tr>\n",
       "      <th>StdDev</th>\n",
       "      <td></td>\n",
       "      <td></td>\n",
       "      <td></td>\n",
       "      <td></td>\n",
       "      <td></td>\n",
       "      <td></td>\n",
       "      <td></td>\n",
       "      <td></td>\n",
       "      <td>0.120283</td>\n",
       "    </tr>\n",
       "  </tbody>\n",
       "</table>\n",
       "</div>"
      ],
      "text/plain": [
       "<IPython.core.display.HTML object>"
      ]
     },
     "execution_count": 5,
     "metadata": {},
     "output_type": "execute_result"
    }
   ],
   "source": [
    "%autoreload 2\n",
    "# Print the data table\n",
    "#mr.Table(data=df_table, width=\"25px\")\n",
    "HTML(df_table.to_html(notebook=True,col_space=5))"
   ]
  },
  {
   "cell_type": "markdown",
   "id": "1d086a54-a58c-43cb-8b0a-eeffa72c4b99",
   "metadata": {},
   "source": [
    "<p style=\"page-break-after:always;\"></p>\n",
    "\n",
    "## Calculations"
   ]
  },
  {
   "cell_type": "code",
   "execution_count": 6,
   "id": "04ab25df-8cef-4898-9358-815f880c5775",
   "metadata": {},
   "outputs": [
    {
     "data": {
      "image/png": "[encoded data removed]",
      "text/plain": [
       "<Figure size 640x480 with 1 Axes>"
      ]
     },
     "metadata": {},
     "output_type": "display_data"
    }
   ],
   "source": [
    "# Plot the measurements\n",
    "plt.scatter(df_graph[columns[2]], df_graph[columns[8]], color=\"blue\", marker=\"o\");\n",
    "\n",
    "# Plot the trendline\n",
    "fit = np.polyval(trend, df_graph[columns[2]])\n",
    "plt.plot(df_graph[columns[2]], fit, color=\"blue\", linestyle=\"--\")\n",
    "\n",
    "# Add labels w LaTeX support\n",
    "plt.xlabel(g_xaxis.value);\n",
    "plt.ylabel(g_yaxis.value);\n",
    "plt.title(g_title.value);\n",
    "plt.rcParams['text.usetex'] = True;\n",
    "plt.rcParams['font.family'] = 'serif';\n",
    "\n",
    "# Show the graph\n",
    "plt.show();"
   ]
  },
  {
   "cell_type": "code",
   "execution_count": 7,
   "id": "884a7dc7-45d3-4505-9232-696564f88dc2",
   "metadata": {
    "editable": true,
    "slideshow": {
     "slide_type": ""
    },
    "tags": []
   },
   "outputs": [
    {
     "data": {
      "text/markdown": [
       "\n",
       "Using the least squares method a trend line is fit to the data with *slope* 11.646 and *$y$-intercept* 0.046, resulting in the equation $ y = 11.646 x + 0.046 $.\n",
       "\n",
       "## Results\n",
       "\n",
       "The average value of $k$ was calculated as $3.172\\; \\pm\\; 0.120$.\n",
       "\n",
       "Using a least squares method $k$ was calculated as $3.390$.\n",
       "\n",
       "These two values differ by $0.066$%.\n",
       "\n",
       "<p style=\"page-break-after:always;\"></p>\n",
       "\n",
       "## Discussion\n",
       "\n",
       "Discussion\n",
       "\n",
       "## Questions\n",
       "\n",
       "### What is your name? (5 pts)\n",
       "\n",
       "Question 1 Answer\n",
       "\n",
       "### What is your quest? (5 pts)\n",
       "\n",
       "Question 2 Answer\n"
      ],
      "text/plain": [
       "<IPython.core.display.Markdown object>"
      ]
     },
     "execution_count": 7,
     "metadata": {},
     "output_type": "execute_result"
    }
   ],
   "source": [
    "%%markdown\n",
    "\n",
    "Using the least squares method a trend line is fit to the data with *slope* {trend_slope_str} and *$y$-intercept* {trend_intercept_str}, resulting in the equation $ y = {trend_slope_str} x + {trend_intercept_str} $.\n",
    "\n",
    "## Results\n",
    "\n",
    "The average value of $k$ was calculated as ${k_t_str}\\; \\pm\\; {k_t_dev_str}$.\n",
    "\n",
    "Using a least squares method $k$ was calculated as ${k_g_str}$.\n",
    "\n",
    "These two values differ by ${k_diff_str}$%.\n",
    "\n",
    "<p style=\"page-break-after:always;\"></p>\n",
    "\n",
    "## Discussion\n",
    "\n",
    "{discuss.value}\n",
    "\n",
    "## Questions\n",
    "\n",
    "### {defQ1}\n",
    "\n",
    "{q1.value}\n",
    "\n",
    "### {defQ2}\n",
    "\n",
    "{q2.value}"
   ]
  }
 ],
 "metadata": {
  "kernelspec": {
   "display_name": "Python 3 (ipykernel)",
   "language": "python",
   "name": "python3"
  },
  "language_info": {
   "codemirror_mode": {
    "name": "ipython",
    "version": 3
   },
   "file_extension": ".py",
   "mimetype": "text/x-python",
   "name": "python",
   "nbconvert_exporter": "python",
   "pygments_lexer": "ipython3",
   "version": "3.11.2"
  }
 },
 "nbformat": 4,
 "nbformat_minor": 5
}

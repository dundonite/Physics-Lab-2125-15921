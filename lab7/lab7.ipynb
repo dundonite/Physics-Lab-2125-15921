{
 "cells": [
  {
   "cell_type": "code",
   "execution_count": 1,
   "id": "7823e550-cb35-4870-af86-7f2dd13e3fbc",
   "metadata": {
    "editable": true,
    "slideshow": {
     "slide_type": ""
    },
    "tags": [
     "remove-cell"
    ]
   },
   "outputs": [
    {
     "data": {
      "application/mercury+json": "{\n    \"widget\": \"App\",\n    \"title\": \"Lab 7 - Work-Engergy Theorem\",\n    \"description\": \"Lab report for PHYS 2125 (15921) Spring 2025 Lab 7.\",\n    \"show_code\": false,\n    \"show_prompt\": false,\n    \"output\": \"app\",\n    \"schedule\": \"\",\n    \"notify\": \"{}\",\n    \"continuous_update\": true,\n    \"static_notebook\": false,\n    \"show_sidebar\": true,\n    \"full_screen\": true,\n    \"allow_download\": true,\n    \"allow_share\": true,\n    \"stop_on_error\": false,\n    \"model_id\": \"mercury-app\",\n    \"code_uid\": \"App.0.50.110.44-rand48d7036b\"\n}",
      "text/html": [
       "<h3>Mercury Application</h3><small>This output won't appear in the web app.</small>"
      ],
      "text/plain": [
       "mercury.App"
      ]
     },
     "metadata": {},
     "output_type": "display_data"
    },
    {
     "data": {
      "application/mercury+json": "{\n    \"widget\": \"Text\",\n    \"value\": \"Work-Engergy Theorem\",\n    \"sanitize\": true,\n    \"rows\": 1,\n    \"label\": \"What is your name?\",\n    \"model_id\": \"262b5d102e2c499d8f15e8097f2f6930\",\n    \"code_uid\": \"Text.0.50.78.45-rand1f7e87c8\",\n    \"url_key\": \"\",\n    \"disabled\": false,\n    \"hidden\": false\n}",
      "application/vnd.jupyter.widget-view+json": {
       "model_id": "262b5d102e2c499d8f15e8097f2f6930",
       "version_major": 2,
       "version_minor": 0
      },
      "text/plain": [
       "mercury.Text"
      ]
     },
     "metadata": {},
     "output_type": "display_data"
    },
    {
     "data": {
      "application/mercury+json": "{\n    \"widget\": \"Text\",\n    \"value\": \"PHYS 2125 (15921)\",\n    \"sanitize\": true,\n    \"rows\": 1,\n    \"label\": \"What class are you in?\",\n    \"model_id\": \"8f73f69a833d415392ae733a08b522cd\",\n    \"code_uid\": \"Text.0.50.78.46-rand008b1e49\",\n    \"url_key\": \"\",\n    \"disabled\": false,\n    \"hidden\": false\n}",
      "application/vnd.jupyter.widget-view+json": {
       "model_id": "8f73f69a833d415392ae733a08b522cd",
       "version_major": 2,
       "version_minor": 0
      },
      "text/plain": [
       "mercury.Text"
      ]
     },
     "metadata": {},
     "output_type": "display_data"
    },
    {
     "data": {
      "application/mercury+json": "{\n    \"widget\": \"Text\",\n    \"value\": \"2025-02-28\",\n    \"sanitize\": true,\n    \"rows\": 1,\n    \"label\": \"Lab Date\",\n    \"model_id\": \"6a50bd748af14a65ac480edc40e4d312\",\n    \"code_uid\": \"Text.0.50.78.47-rand8fdc9368\",\n    \"url_key\": \"\",\n    \"disabled\": false,\n    \"hidden\": false\n}",
      "application/vnd.jupyter.widget-view+json": {
       "model_id": "6a50bd748af14a65ac480edc40e4d312",
       "version_major": 2,
       "version_minor": 0
      },
      "text/plain": [
       "mercury.Text"
      ]
     },
     "metadata": {},
     "output_type": "display_data"
    },
    {
     "data": {
      "application/mercury+json": "{\n    \"widget\": \"Text\",\n    \"value\": \"7\",\n    \"sanitize\": true,\n    \"rows\": 1,\n    \"label\": \"Lab Number\",\n    \"model_id\": \"7974d93b32884592946a7b7ad642bc1f\",\n    \"code_uid\": \"Text.0.50.78.48-rand1d56b88d\",\n    \"url_key\": \"\",\n    \"disabled\": false,\n    \"hidden\": false\n}",
      "application/vnd.jupyter.widget-view+json": {
       "model_id": "7974d93b32884592946a7b7ad642bc1f",
       "version_major": 2,
       "version_minor": 0
      },
      "text/plain": [
       "mercury.Text"
      ]
     },
     "metadata": {},
     "output_type": "display_data"
    },
    {
     "data": {
      "application/mercury+json": "{\n    \"widget\": \"Text\",\n    \"value\": \"Work-Engergy Theorem\",\n    \"sanitize\": true,\n    \"rows\": 1,\n    \"label\": \"Lab Name\",\n    \"model_id\": \"30294d09a93440d0a6df7c103244d280\",\n    \"code_uid\": \"Text.0.50.78.49-rande741f9dd\",\n    \"url_key\": \"\",\n    \"disabled\": false,\n    \"hidden\": false\n}",
      "application/vnd.jupyter.widget-view+json": {
       "model_id": "30294d09a93440d0a6df7c103244d280",
       "version_major": 2,
       "version_minor": 0
      },
      "text/plain": [
       "mercury.Text"
      ]
     },
     "metadata": {},
     "output_type": "display_data"
    },
    {
     "data": {
      "application/mercury+json": "{\n    \"widget\": \"Text\",\n    \"value\": \"To Determine the Coefficient of Kinetic Friction $\\\\mu_k$ between the track and the block using the Work-Energy Theorem.\",\n    \"sanitize\": true,\n    \"rows\": 3,\n    \"label\": \"Objective\",\n    \"model_id\": \"26c2eecd027241b8b0a4dae9d7575b66\",\n    \"code_uid\": \"Text.0.50.78.50-rand5cf69091\",\n    \"url_key\": \"\",\n    \"disabled\": false,\n    \"hidden\": false\n}",
      "application/vnd.jupyter.widget-view+json": {
       "model_id": "26c2eecd027241b8b0a4dae9d7575b66",
       "version_major": 2,
       "version_minor": 0
      },
      "text/plain": [
       "mercury.Text"
      ]
     },
     "metadata": {},
     "output_type": "display_data"
    },
    {
     "data": {
      "application/mercury+json": "{\n    \"widget\": \"Text\",\n    \"value\": \"Question 1 Answer\",\n    \"sanitize\": true,\n    \"rows\": 5,\n    \"label\": \"What is/are reason/s to keep acceleration zero? (5 pts)\",\n    \"model_id\": \"4b93bedec5c44471b1cb5a476a05ee6e\",\n    \"code_uid\": \"Text.0.50.78.51-rand4dc9c767\",\n    \"url_key\": \"\",\n    \"disabled\": false,\n    \"hidden\": false\n}",
      "application/vnd.jupyter.widget-view+json": {
       "model_id": "4b93bedec5c44471b1cb5a476a05ee6e",
       "version_major": 2,
       "version_minor": 0
      },
      "text/plain": [
       "mercury.Text"
      ]
     },
     "metadata": {},
     "output_type": "display_data"
    },
    {
     "data": {
      "application/mercury+json": "{\n    \"widget\": \"Text\",\n    \"value\": \"Question 2 Answer\",\n    \"sanitize\": true,\n    \"rows\": 5,\n    \"label\": \"What if d and h are not equal each other? (5 pts)\",\n    \"model_id\": \"bb766f93ff514fd1aef4d3fd14e835b6\",\n    \"code_uid\": \"Text.0.50.78.52-rand2ff4360a\",\n    \"url_key\": \"\",\n    \"disabled\": false,\n    \"hidden\": false\n}",
      "application/vnd.jupyter.widget-view+json": {
       "model_id": "bb766f93ff514fd1aef4d3fd14e835b6",
       "version_major": 2,
       "version_minor": 0
      },
      "text/plain": [
       "mercury.Text"
      ]
     },
     "metadata": {},
     "output_type": "display_data"
    },
    {
     "data": {
      "application/mercury+json": "{\n    \"widget\": \"Text\",\n    \"value\": \"$M_b\\\\; (g)$\",\n    \"sanitize\": true,\n    \"rows\": 1,\n    \"label\": \"X-axis label\",\n    \"model_id\": \"9b1bcba8366149d88084a08f42ebb09c\",\n    \"code_uid\": \"Text.0.50.78.53-rand725ebb97\",\n    \"url_key\": \"\",\n    \"disabled\": false,\n    \"hidden\": false\n}",
      "application/vnd.jupyter.widget-view+json": {
       "model_id": "9b1bcba8366149d88084a08f42ebb09c",
       "version_major": 2,
       "version_minor": 0
      },
      "text/plain": [
       "mercury.Text"
      ]
     },
     "metadata": {},
     "output_type": "display_data"
    },
    {
     "data": {
      "application/mercury+json": "{\n    \"widget\": \"Text\",\n    \"value\": \"$M_H\\\\; (g)$\",\n    \"sanitize\": true,\n    \"rows\": 1,\n    \"label\": \"Y-axis label\",\n    \"model_id\": \"bb950ea3042345f893932fb1aaf7c71f\",\n    \"code_uid\": \"Text.0.50.78.54-rand7cfbb126\",\n    \"url_key\": \"\",\n    \"disabled\": false,\n    \"hidden\": false\n}",
      "application/vnd.jupyter.widget-view+json": {
       "model_id": "bb950ea3042345f893932fb1aaf7c71f",
       "version_major": 2,
       "version_minor": 0
      },
      "text/plain": [
       "mercury.Text"
      ]
     },
     "metadata": {},
     "output_type": "display_data"
    },
    {
     "data": {
      "application/mercury+json": "{\n    \"widget\": \"Text\",\n    \"value\": \"$\\\\mu_k$ as mass of block $M_b$ vs mass of hanging weight $M_H$\",\n    \"sanitize\": true,\n    \"rows\": 1,\n    \"label\": \"Graph title\",\n    \"model_id\": \"14d2a56bd6af4829a8d9481ce5086a2b\",\n    \"code_uid\": \"Text.0.50.78.55-randbc8708e0\",\n    \"url_key\": \"\",\n    \"disabled\": false,\n    \"hidden\": false\n}",
      "application/vnd.jupyter.widget-view+json": {
       "model_id": "14d2a56bd6af4829a8d9481ce5086a2b",
       "version_major": 2,
       "version_minor": 0
      },
      "text/plain": [
       "mercury.Text"
      ]
     },
     "metadata": {},
     "output_type": "display_data"
    },
    {
     "data": {
      "application/mercury+json": "{\n    \"widget\": \"Text\",\n    \"value\": \"Discussion\",\n    \"sanitize\": true,\n    \"rows\": 5,\n    \"label\": \"Discuss\",\n    \"model_id\": \"8494f50b0f9241ccbd5b09987b86c658\",\n    \"code_uid\": \"Text.0.50.78.56-rand6c4359d5\",\n    \"url_key\": \"\",\n    \"disabled\": false,\n    \"hidden\": false\n}",
      "application/vnd.jupyter.widget-view+json": {
       "model_id": "8494f50b0f9241ccbd5b09987b86c658",
       "version_major": 2,
       "version_minor": 0
      },
      "text/plain": [
       "mercury.Text"
      ]
     },
     "metadata": {},
     "output_type": "display_data"
    },
    {
     "data": {
      "application/mercury+json": "{\n    \"widget\": \"File\",\n    \"max_file_size\": \"10MB\",\n    \"label\": \"Data file upload\",\n    \"model_id\": \"43598ab5adce4bf5b2b5c4a639cce495\",\n    \"code_uid\": \"File.0.50.74.57-randb98f7620\",\n    \"disabled\": false,\n    \"hidden\": false\n}",
      "application/vnd.jupyter.widget-view+json": {
       "model_id": "43598ab5adce4bf5b2b5c4a639cce495",
       "version_major": 2,
       "version_minor": 0
      },
      "text/plain": [
       "mercury.File"
      ]
     },
     "metadata": {},
     "output_type": "display_data"
    }
   ],
   "source": [
    "# Import libraries\n",
    "%reload_ext autoreload\n",
    "%autoreload 2\n",
    "\n",
    "import math\n",
    "import matplotlib.pyplot as plt\n",
    "import numpy as np\n",
    "import pandas as pd\n",
    "import re\n",
    "from IPython.display import display, HTML, Latex, Image, Video\n",
    "from IPython.display import Markdown as md\n",
    "from IPython.core.magic import register_cell_magic\n",
    "from tabulate import tabulate\n",
    "from sklearn.linear_model import LinearRegression\n",
    "import mercury as mr\n",
    "import datetime\n",
    "\n",
    "# Allow for markdown code cells\n",
    "@register_cell_magic\n",
    "def markdown(line, cell):\n",
    "    return md(cell.format(**globals()))\n",
    "\n",
    "# When was last Friday?\n",
    "last_friday = datetime.date.today() - pd.offsets.Week(weekday=4)\n",
    "\n",
    "# Lab Information\n",
    "defName   = \"Your Name\"\n",
    "defCourse = \"PHYS 2125 (15921)\"\n",
    "defSem    = \"Spring 2025\"\n",
    "defDate   = last_friday.strftime(\"%Y-%m-%d\")\n",
    "defNum    = \"7\"\n",
    "defName   = \"Work-Engergy Theorem\"\n",
    "defObj    = \"To Determine the Coefficient of Kinetic Friction $\\mu_k$ between the track and the block using the Work-Energy Theorem.\"\n",
    "defQ1     = \"What is/are reason/s to keep acceleration zero? (5 pts)\"\n",
    "defQ2     = \"What if d and h are not equal each other? (5 pts)\"\n",
    "defG_X    = '$M_b\\; (g)$'\n",
    "defG_Y    = '$M_H\\; (g)$'\n",
    "defG_T    = '$\\mu_k$ as mass of block $M_b$ vs mass of hanging weight $M_H$'\n",
    "columns   = [\"$M^{\\prime}$ (g)\", \"$M_a$ (g)\", \"$t$ (s)\", \"$M$ (g)\", \"$M_H$ (g)\", \"$d$ (cm)\", \"$V_f$ (cm/s)\", \"$\\mu_k$\"];\n",
    "colIdx    = 0\n",
    "fileName  = 'lab7.csv'\n",
    "\n",
    "# Mercury App\n",
    "app       = mr.App(title=\"Lab \" + defNum + \" - \" + defName, description=\"Lab report for \" + defCourse + \" \" + defSem + \" Lab \" + defNum + \".\")\n",
    "name      = mr.Text(label=\"What is your name?\",     value=defName, rows=1)\n",
    "course    = mr.Text(label=\"What class are you in?\", value=defCourse, rows=1)\n",
    "date      = mr.Text(label=\"Lab Date\",               value=defDate, rows=1)\n",
    "labNum    = mr.Text(label=\"Lab Number\",             value=defNum, rows=1)\n",
    "labName   = mr.Text(label=\"Lab Name\",               value=defName, rows=1)\n",
    "labObj    = mr.Text(label=\"Objective\",              value=defObj, rows=3)\n",
    "q1        = mr.Text(value=\"Question 1 Answer\",      label=defQ1, rows=5)\n",
    "q2        = mr.Text(value=\"Question 2 Answer\",      label=defQ2, rows=5)\n",
    "g_xaxis   = mr.Text(label=\"X-axis label\",           value=defG_X, rows=1)\n",
    "g_yaxis   = mr.Text(label=\"Y-axis label\",           value=defG_Y, rows=1)\n",
    "g_title   = mr.Text(label=\"Graph title\",            value=defG_T, rows=1)\n",
    "discuss   = mr.Text(value=\"Discussion\",             label=\"Discuss\", rows=5)\n",
    "file      = mr.File(label=\"Data file upload\",       max_file_size=\"10MB\")"
   ]
  },
  {
   "cell_type": "code",
   "execution_count": 2,
   "id": "646a93e2-9575-41f7-8a9e-4e4307dced61",
   "metadata": {},
   "outputs": [],
   "source": [
    "%autoreload 2\n",
    "\n",
    "if file.filepath is not None:\n",
    "    df = pd.read_csv(file.filepath, names=columns, header=0).set_index(columns[colIdx])\n",
    "else:\n",
    "    df = pd.read_csv(fileName, names=columns, header=0).set_index(columns[colIdx])\n",
    "\n",
    "# Constants\n",
    "g_earth = 9.8;\n",
    "m_block = 114;\n",
    "m_hook  = 5;\n",
    "\n",
    "# Calculations\n",
    "df[columns[3]] = df.apply(lambda row: m_block + row.name, axis=1)\n",
    "df[columns[4]] = df.apply(lambda row: m_hook  + row[columns[1]], axis=1)\n",
    "df[columns[6]] = df.apply(lambda row: row[columns[5]] / row[columns[2]], axis=1)\n",
    "df[columns[7]] = df.apply(lambda row: (\n",
    "    ( row[columns[4]] * g_earth * row[columns[5]] ) \n",
    "    - ( 0.5 * (\n",
    "        row[columns[3]] + row[columns[4]]\n",
    "    ))) / (\n",
    "        row[columns[3]] * g_earth * row[columns[5]]\n",
    "    ),\n",
    "                          axis=1)\n",
    "\n",
    "# Mean and StdDev across the board\n",
    "mean = df.mean()\n",
    "deviation = df.std(ddof=0)\n",
    "u_k_t = mean[columns[7]];\n",
    "u_k_t_dev = deviation[columns[7]];\n",
    "\n",
    "# Add the average value of u_k\n",
    "df.loc['Average'] = {\n",
    "    columns[1]: np.nan,\n",
    "    columns[2]: np.nan,\n",
    "    columns[3]: np.nan,\n",
    "    columns[4]: np.nan,\n",
    "    columns[5]: np.nan,\n",
    "    columns[6]: np.nan,\n",
    "    columns[7]: u_k_t\n",
    "};\n",
    "# Add the standard devation value of u_k\n",
    "df.loc['StdDev'] = {\n",
    "    columns[1]: np.nan,\n",
    "    columns[2]: np.nan,\n",
    "    columns[3]: np.nan,\n",
    "    columns[4]: np.nan,\n",
    "    columns[5]: np.nan,\n",
    "    columns[6]: np.nan,\n",
    "    columns[7]: u_k_t_dev\n",
    "};\n",
    "\n",
    "# Save this for the table\n",
    "df_table = df.fillna('');\n",
    "\n",
    "# Let's make some stings\n",
    "u_k_t_str = str(\"%.3f\" % round(u_k_t, 3))\n",
    "u_k_t_dev_str = str(\"%.3f\" % round(u_k_t_dev, 3))"
   ]
  },
  {
   "cell_type": "code",
   "execution_count": 3,
   "id": "3da618d7-974a-467a-ab8c-86773d8ccd5a",
   "metadata": {
    "editable": true,
    "slideshow": {
     "slide_type": ""
    },
    "tags": [
     "remove-cell"
    ]
   },
   "outputs": [
    {
     "data": {
      "text/markdown": [
       "\n",
       "# Lab 7: Work-Engergy Theorem\n",
       "Name: **Work-Engergy Theorem** \\\n",
       "Class: **PHYS 2125 (15921)** \\\n",
       "Date: **2025-02-28**\n",
       "\n",
       "<p style=\"page-break-after:always;\"></p>\n",
       "\n",
       "## Objective\n",
       "\n",
       "To Determine the Coefficient of Kinetic Friction $\\mu_k$ between the track and the block using the Work-Energy Theorem.\n"
      ],
      "text/plain": [
       "<IPython.core.display.Markdown object>"
      ]
     },
     "execution_count": 3,
     "metadata": {},
     "output_type": "execute_result"
    }
   ],
   "source": [
    "%%markdown\n",
    "\n",
    "# Lab {labNum.value}: {labName.value}\n",
    "Name: **{name.value}** \\\n",
    "Class: **{course.value}** \\\n",
    "Date: **{date.value}**\n",
    "\n",
    "<p style=\"page-break-after:always;\"></p>\n",
    "\n",
    "## Objective\n",
    "\n",
    "{labObj.value}"
   ]
  },
  {
   "cell_type": "markdown",
   "id": "09294620-7f56-4ab3-b5e1-ab29092e2152",
   "metadata": {},
   "source": [
    "## Equipment\n",
    "\n",
    "- (1) small A-base\n",
    "- (1) set of weights with known masses\n",
    "- (1) 50cm \"PASTrack\" track with four legs\n",
    "- (1) 114g friction block\n",
    "- (1) 5g hook\n",
    "- (1) ~70cm length of string\n",
    "- (1) pulley\n",
    "- (1) stopwatch\n",
    "\n",
    "<p style=\"page-break-after:always;\"></p>\n",
    "\n",
    "## Theory\n",
    "\n",
    "$d = h$\n",
    "\n",
    "$M = M_b + M'$\n",
    "\n",
    "$-(\\mu_kn) \\cdot d = \\frac{1}{2} mv_f^2 - mgh_f$\n",
    "\n",
    "$-(\\mu_k \\cdot mg) = \\frac{1}{2} (M + M_H) F_f^2 - (M_H g h)$\n",
    "\n",
    "where\n",
    "\n",
    "$M_b$ is the mass of the block\n",
    "\n",
    "$m'$ is the mass added to the block\n",
    "\n",
    "$M_h$ is the mass of the hook ($5g$)\n",
    "\n",
    "$M_a$ is the hanging mass added with each  trial\n",
    "\n",
    "$M_H$ is the total mass of hanging block including the hook and added weight ($M_H = M_h + M_a$)\n",
    "\n",
    "$f_k$ is the friction force\n",
    "\n",
    "$n$ is the normal force\n",
    "\n",
    "$g_{earth}$ is the gravitatational constant ($9.8 \\frac{m}{s^2}$ on Earth)\n",
    "\n",
    "$T$ is the tension"
   ]
  },
  {
   "cell_type": "code",
   "execution_count": 4,
   "id": "f395bf80-6d20-45ce-b696-34d8daffd136",
   "metadata": {},
   "outputs": [
    {
     "data": {
      "text/html": [
       "<img src=\"https://raw.githubusercontent.com/dundonite/Physics-Lab-2125-15921/refs/heads/main/lab7.png\" width=\"500\"/>"
      ],
      "text/plain": [
       "<IPython.core.display.Image object>"
      ]
     },
     "metadata": {},
     "output_type": "display_data"
    }
   ],
   "source": [
    "display(Image(url='https://raw.githubusercontent.com/dundonite/Physics-Lab-2125-15921/refs/heads/main/lab7.png', width=500))"
   ]
  },
  {
   "cell_type": "markdown",
   "id": "d6319ba7-cc77-4222-9003-6178f43d6a06",
   "metadata": {},
   "source": [
    "<p style=\"page-break-after:always;\"></p>\n",
    "\n",
    "## Procedure\n",
    "\n",
    "### Initial Setup\n",
    "\n",
    "A track and pulley system were constructed.\n",
    "\n",
    "1. A $50cm$ piece of PASTrack was placed on a table, ensuring the PASTrack end is near the table end to allow for the weight to hang over.\n",
    "1. A pully was connected to the track, on the end near the end of the table.\n",
    "1. A friction block was tied to a 5g hook using a length of string.\n",
    "1. The friction block was placed on the track, furthest from the edge near the pulley.\n",
    "1. The string was laid over the pulley and the hook was left hanging.\n",
    "\n",
    "### Trial (completed for each $M_b$)\n",
    "\n",
    "1. As needed the weight of the block $M_b$ was increased by placing a weight in the center.\n",
    "1. The block was moved to the end of the track opposite the pulley.\n",
    "1. Weight was slowly added to the hook $M_a$ until the following occurred:\n",
    "   1. The block was lightly tapped in the direction of the pulley to overcome the static friction.\n",
    "   1. The block steadily advanced down the track until reaching the pulley.\n",
    "1. The amount of time required for the block to reach the end of the track was recorded."
   ]
  },
  {
   "cell_type": "markdown",
   "id": "f32971de-4eef-48b2-8260-e665b350127e",
   "metadata": {},
   "source": [
    "<video width=\"500px\" muted loop autoplay src=\"./lab5.mp4\" />"
   ]
  },
  {
   "cell_type": "markdown",
   "id": "0b7dec1f-09ab-4b62-94f0-cb71b15ef156",
   "metadata": {},
   "source": [
    "<p style=\"page-break-after:always;\"></p>\n",
    "\n",
    "## Data"
   ]
  },
  {
   "cell_type": "code",
   "execution_count": 5,
   "id": "88de4dc9-a29b-4652-9a4c-c8bb9c17a1a7",
   "metadata": {
    "editable": true,
    "slideshow": {
     "slide_type": ""
    },
    "tags": []
   },
   "outputs": [
    {
     "data": {
      "text/html": [
       "<table id=\"itables_1b7eeaa5_d669_4581_9b6e_43c86eb2948b\" class=\"display cell-border\" data-quarto-disable-processing=\"true\" style=\"table-layout:auto;width:auto;margin:auto;caption-side:bottom\">\n",
       "<thead>\n",
       "    <tr style=\"text-align: right;\">\n",
       "      <th></th>\n",
       "      <th>$M_a$ (g)</th>\n",
       "      <th>$t$ (s)</th>\n",
       "      <th>$M$ (g)</th>\n",
       "      <th>$M_H$ (g)</th>\n",
       "      <th>$d$ (cm)</th>\n",
       "      <th>$V_f$ (cm/s)</th>\n",
       "      <th>$\\mu_k$</th>\n",
       "    </tr>\n",
       "    <tr>\n",
       "      <th>$M^{\\prime}$ (g)</th>\n",
       "      <th></th>\n",
       "      <th></th>\n",
       "      <th></th>\n",
       "      <th></th>\n",
       "      <th></th>\n",
       "      <th></th>\n",
       "      <th></th>\n",
       "    </tr>\n",
       "  </thead><tbody><tr>\n",
       "<td style=\"vertical-align:middle; text-align:left\">\n",
       "<a href=https://mwouts.github.io/itables/><svg class=\"main-svg\" xmlns=\"http://www.w3.org/2000/svg\" xmlns:xlink=\"http://www.w3.org/1999/xlink\"\n",
       "width=\"64\" viewBox=\"0 0 500 400\" style=\"font-family: 'Droid Sans', sans-serif;\">\n",
       "    <g style=\"fill:#d9d7fc\">\n",
       "        <path d=\"M100,400H500V357H100Z\" />\n",
       "        <path d=\"M100,300H400V257H100Z\" />\n",
       "        <path d=\"M0,200H400V157H0Z\" />\n",
       "        <path d=\"M100,100H500V57H100Z\" />\n",
       "        <path d=\"M100,350H500V307H100Z\" />\n",
       "        <path d=\"M100,250H400V207H100Z\" />\n",
       "        <path d=\"M0,150H400V107H0Z\" />\n",
       "        <path d=\"M100,50H500V7H100Z\" />\n",
       "    </g>\n",
       "    <g style=\"fill:#1a1366;stroke:#1a1366;\">\n",
       "   <rect x=\"100\" y=\"7\" width=\"400\" height=\"43\">\n",
       "    <animate\n",
       "      attributeName=\"width\"\n",
       "      values=\"0;400;0\"\n",
       "      dur=\"5s\"\n",
       "      repeatCount=\"indefinite\" />\n",
       "      <animate\n",
       "      attributeName=\"x\"\n",
       "      values=\"100;100;500\"\n",
       "      dur=\"5s\"\n",
       "      repeatCount=\"indefinite\" />\n",
       "  </rect>\n",
       "        <rect x=\"0\" y=\"107\" width=\"400\" height=\"43\">\n",
       "    <animate\n",
       "      attributeName=\"width\"\n",
       "      values=\"0;400;0\"\n",
       "      dur=\"3.5s\"\n",
       "      repeatCount=\"indefinite\" />\n",
       "    <animate\n",
       "      attributeName=\"x\"\n",
       "      values=\"0;0;400\"\n",
       "      dur=\"3.5s\"\n",
       "      repeatCount=\"indefinite\" />\n",
       "  </rect>\n",
       "        <rect x=\"100\" y=\"207\" width=\"300\" height=\"43\">\n",
       "    <animate\n",
       "      attributeName=\"width\"\n",
       "      values=\"0;300;0\"\n",
       "      dur=\"3s\"\n",
       "      repeatCount=\"indefinite\" />\n",
       "    <animate\n",
       "      attributeName=\"x\"\n",
       "      values=\"100;100;400\"\n",
       "      dur=\"3s\"\n",
       "      repeatCount=\"indefinite\" />\n",
       "  </rect>\n",
       "        <rect x=\"100\" y=\"307\" width=\"400\" height=\"43\">\n",
       "    <animate\n",
       "      attributeName=\"width\"\n",
       "      values=\"0;400;0\"\n",
       "      dur=\"4s\"\n",
       "      repeatCount=\"indefinite\" />\n",
       "      <animate\n",
       "      attributeName=\"x\"\n",
       "      values=\"100;100;500\"\n",
       "      dur=\"4s\"\n",
       "      repeatCount=\"indefinite\" />\n",
       "  </rect>\n",
       "        <g style=\"fill:transparent;stroke-width:8; stroke-linejoin:round\" rx=\"5\">\n",
       "            <g transform=\"translate(45 50) rotate(-45)\">\n",
       "                <circle r=\"33\" cx=\"0\" cy=\"0\" />\n",
       "                <rect x=\"-8\" y=\"32\" width=\"16\" height=\"30\" />\n",
       "            </g>\n",
       "\n",
       "            <g transform=\"translate(450 152)\">\n",
       "                <polyline points=\"-15,-20 -35,-20 -35,40 25,40 25,20\" />\n",
       "                <rect x=\"-15\" y=\"-40\" width=\"60\" height=\"60\" />\n",
       "            </g>\n",
       "\n",
       "            <g transform=\"translate(50 352)\">\n",
       "                <polygon points=\"-35,-5 0,-40 35,-5\" />\n",
       "                <polygon points=\"-35,10 0,45 35,10\" />\n",
       "            </g>\n",
       "\n",
       "            <g transform=\"translate(75 250)\">\n",
       "                <polyline points=\"-30,30 -60,0 -30,-30\" />\n",
       "                <polyline points=\"0,30 -30,0 0,-30\" />\n",
       "            </g>\n",
       "\n",
       "            <g transform=\"translate(425 250) rotate(180)\">\n",
       "                <polyline points=\"-30,30 -60,0 -30,-30\" />\n",
       "                <polyline points=\"0,30 -30,0 0,-30\" />\n",
       "            </g>\n",
       "        </g>\n",
       "    </g>\n",
       "</svg>\n",
       "</a>\n",
       "Loading ITables v2.2.4 from the internet...\n",
       "(need <a href=https://mwouts.github.io/itables/troubleshooting.html>help</a>?)</td>\n",
       "</tr></tbody>\n",
       "</table>\n",
       "<link href=\"https://www.unpkg.com/dt_for_itables@2.0.13/dt_bundle.css\" rel=\"stylesheet\">\n",
       "<script type=\"module\">\n",
       "    import {DataTable, jQuery as $} from 'https://www.unpkg.com/dt_for_itables@2.0.13/dt_bundle.js';\n",
       "\n",
       "    document.querySelectorAll(\"#itables_1b7eeaa5_d669_4581_9b6e_43c86eb2948b:not(.dataTable)\").forEach(table => {\n",
       "        if (!(table instanceof HTMLTableElement))\n",
       "            return;\n",
       "\n",
       "        // Define the table data\n",
       "        const data = [[\"0\", \" 20.0\", \" 6.5\", \" 114.0\", \" 25.0\", \" 34.75\", \" 5.346154\", 0.217508], [\"20\", \" 23.0\", \" 6.5\", \" 134.0\", \" 28.0\", \" 34.75\", \" 5.346154\", 0.20718], [\"30\", \" 26.0\", \" 6.5\", \" 144.0\", \" 31.0\", \" 34.75\", \" 5.346154\", 0.213493], [\"40\", \" 29.0\", \" 6.5\", \" 154.0\", \" 34.0\", \" 34.75\", \" 5.346154\", 0.218987], [\"50\", \" 33.0\", \" 6.5\", \" 164.0\", \" 38.0\", \" 34.75\", \" 5.346154\", 0.229899], [\"60\", \" 36.0\", \" 6.5\", \" 174.0\", \" 41.0\", \" 34.75\", \" 5.346154\", 0.233818], [\"Average\", \"\", \"\", \"\", \"\", \"\", \"\", 0.220148], [\"StdDev\", \"\", \"\", \"\", \"\", \"\", \"\", 0.009153]];\n",
       "\n",
       "        // Define the dt_args\n",
       "        let dt_args = {\"columnDefs\": [{\"className\": \"dt-center\", \"width\": \"25px\", \"targets\": \"_all\"}], \"layout\": {\"topStart\": null, \"topEnd\": null, \"bottomStart\": null, \"bottomEnd\": null}, \"order\": [], \"warn_on_selected_rows_not_rendered\": true};\n",
       "        dt_args[\"data\"] = data;\n",
       "\n",
       "        \n",
       "        new DataTable(table, dt_args);\n",
       "    });\n",
       "</script>\n"
      ],
      "text/plain": [
       "<IPython.core.display.HTML object>"
      ]
     },
     "metadata": {},
     "output_type": "display_data"
    }
   ],
   "source": [
    "\n",
    "%autoreload 2\n",
    "# Print the data table\n",
    "mr.Table(data=df_table, width=\"25px\")\n",
    "#HTML(df_table.to_html(notebook=True,col_space=10))"
   ]
  },
  {
   "cell_type": "code",
   "execution_count": 6,
   "id": "e20910cd-594a-472c-93b2-e32d9554fdec",
   "metadata": {},
   "outputs": [],
   "source": [
    "#if skip1.value:\n",
    "#    display(md(\"_Note: the first trial was excluded from the calculations as a likely error._\"))"
   ]
  },
  {
   "cell_type": "markdown",
   "id": "1e4a45dd-a4c8-42c3-b85a-6a5bbf49dc45",
   "metadata": {
    "editable": true,
    "slideshow": {
     "slide_type": ""
    },
    "tags": []
   },
   "source": [
    "<p style=\"page-break-after:always;\"></p>\n",
    "\n",
    "## Calculations"
   ]
  },
  {
   "cell_type": "code",
   "execution_count": 7,
   "id": "a3040632-03f7-4c39-a2da-5972a0d54937",
   "metadata": {
    "editable": true,
    "slideshow": {
     "slide_type": ""
    },
    "tags": []
   },
   "outputs": [],
   "source": [
    "# Show the math? (LaTeX)"
   ]
  },
  {
   "cell_type": "code",
   "execution_count": 8,
   "id": "0646b9f4-6874-43f7-9553-534c66bcf881",
   "metadata": {},
   "outputs": [],
   "source": [
    "None"
   ]
  },
  {
   "cell_type": "code",
   "execution_count": 9,
   "id": "884a7dc7-45d3-4505-9232-696564f88dc2",
   "metadata": {
    "editable": true,
    "slideshow": {
     "slide_type": ""
    },
    "tags": []
   },
   "outputs": [
    {
     "data": {
      "text/markdown": [
       "\n",
       "<p style=\"page-break-after:always;\"></p>\n",
       "\n",
       "## Results\n",
       "\n",
       "The value of $μ$ was determined using the mean, $μ_t$. \n",
       "\n",
       "$μ_t = 0.220 $ with $σ$ of $0.009$\n",
       "\n",
       "## Discussion\n",
       "\n",
       "Discussion\n",
       "\n",
       "## Questions\n",
       "\n",
       "__Why do you try to maintain the constant speed motion of the block?__\n",
       "\n",
       "Question 1 Answer\n",
       "\n",
       "__What is the most important part of the experiment?__\n",
       "\n",
       "Question 2 Answer\n"
      ],
      "text/plain": [
       "<IPython.core.display.Markdown object>"
      ]
     },
     "execution_count": 9,
     "metadata": {},
     "output_type": "execute_result"
    }
   ],
   "source": [
    "%%markdown\n",
    "\n",
    "<p style=\"page-break-after:always;\"></p>\n",
    "\n",
    "## Results\n",
    "\n",
    "The value of $μ$ was determined using the mean, $μ_t$. \n",
    "\n",
    "$μ_t = {u_k_t_str} $ with $σ$ of ${u_k_t_dev_str}$\n",
    "\n",
    "## Discussion\n",
    "\n",
    "{discuss.value}\n",
    "\n",
    "## Questions\n",
    "\n",
    "__Why do you try to maintain the constant speed motion of the block?__\n",
    "\n",
    "{q1.value}\n",
    "\n",
    "__What is the most important part of the experiment?__\n",
    "\n",
    "{q2.value}"
   ]
  }
 ],
 "metadata": {
  "kernelspec": {
   "display_name": "Python 3 (ipykernel)",
   "language": "python",
   "name": "python3"
  },
  "language_info": {
   "codemirror_mode": {
    "name": "ipython",
    "version": 3
   },
   "file_extension": ".py",
   "mimetype": "text/x-python",
   "name": "python",
   "nbconvert_exporter": "python",
   "pygments_lexer": "ipython3",
   "version": "3.11.2"
  }
 },
 "nbformat": 4,
 "nbformat_minor": 5
}

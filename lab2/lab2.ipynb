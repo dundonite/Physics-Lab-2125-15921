{
 "cells": [
  {
   "cell_type": "code",
   "execution_count": 1,
   "id": "7823e550-cb35-4870-af86-7f2dd13e3fbc",
   "metadata": {
    "editable": true,
    "slideshow": {
     "slide_type": ""
    },
    "tags": [
     "remove-cell"
    ]
   },
   "outputs": [],
   "source": [
    "# Import libraries\n",
    "%load_ext autoreload\n",
    "%autoreload 2\n",
    "\n",
    "import math\n",
    "import matplotlib.pyplot as plt\n",
    "import numpy as np\n",
    "import pandas as pd\n",
    "from IPython.display import display, HTML, Latex, Image\n",
    "from IPython.display import Markdown as md\n",
    "from IPython.core.magic import register_cell_magic\n",
    "from tabulate import tabulate\n",
    "from sklearn.linear_model import LinearRegression\n",
    "import mercury as mr\n",
    "\n",
    "# Allow for markdown code cells\n",
    "@register_cell_magic\n",
    "def markdown(line, cell):\n",
    "    return md(cell.format(**globals()))"
   ]
  },
  {
   "cell_type": "code",
   "execution_count": 2,
   "id": "09fa635c-88a9-4dbb-8bcd-3a09d6ab66a3",
   "metadata": {},
   "outputs": [
    {
     "data": {
      "application/mercury+json": "{\n    \"widget\": \"App\",\n    \"title\": \"Lab 2\",\n    \"description\": \"Lab report for PHYS 2125 (15921) Spring 2025 Lab 2.\",\n    \"show_code\": false,\n    \"show_prompt\": false,\n    \"output\": \"app\",\n    \"schedule\": \"\",\n    \"notify\": \"{}\",\n    \"continuous_update\": true,\n    \"static_notebook\": false,\n    \"show_sidebar\": true,\n    \"full_screen\": true,\n    \"allow_download\": true,\n    \"allow_share\": true,\n    \"stop_on_error\": false,\n    \"model_id\": \"mercury-app\",\n    \"code_uid\": \"App.0.50.110.1-rand79a78f6e\"\n}",
      "text/html": [
       "<h3>Mercury Application</h3><small>This output won't appear in the web app.</small>"
      ],
      "text/plain": [
       "mercury.App"
      ]
     },
     "metadata": {},
     "output_type": "display_data"
    }
   ],
   "source": [
    "app = mr.App(title=\"Lab 2\", description=\"Lab report for PHYS 2125 (15921) Spring 2025 Lab 2.\")"
   ]
  },
  {
   "cell_type": "code",
   "execution_count": 3,
   "id": "3f8c7851-a8b2-4291-aae0-f55f005aacdb",
   "metadata": {
    "editable": true,
    "slideshow": {
     "slide_type": ""
    },
    "tags": [
     "remove-cell"
    ]
   },
   "outputs": [
    {
     "data": {
      "application/mercury+json": "{\n    \"widget\": \"Text\",\n    \"value\": \"Your Name\",\n    \"sanitize\": true,\n    \"rows\": 1,\n    \"label\": \"What is your name?\",\n    \"model_id\": \"e03364fa57954f5db37d9d4df36fe629\",\n    \"code_uid\": \"Text.0.50.78.2-randdcd794c4\",\n    \"url_key\": \"\",\n    \"disabled\": false,\n    \"hidden\": false\n}",
      "application/vnd.jupyter.widget-view+json": {
       "model_id": "e03364fa57954f5db37d9d4df36fe629",
       "version_major": 2,
       "version_minor": 0
      },
      "text/plain": [
       "mercury.Text"
      ]
     },
     "metadata": {},
     "output_type": "display_data"
    },
    {
     "data": {
      "application/mercury+json": "{\n    \"widget\": \"Text\",\n    \"value\": \"PHYS 2125 (15921)\",\n    \"sanitize\": true,\n    \"rows\": 1,\n    \"label\": \"What class are you in?\",\n    \"model_id\": \"c2d03c4250164a8abc1bcdf7735acedf\",\n    \"code_uid\": \"Text.0.50.78.3-rande5a0ff54\",\n    \"url_key\": \"\",\n    \"disabled\": false,\n    \"hidden\": false\n}",
      "application/vnd.jupyter.widget-view+json": {
       "model_id": "c2d03c4250164a8abc1bcdf7735acedf",
       "version_major": 2,
       "version_minor": 0
      },
      "text/plain": [
       "mercury.Text"
      ]
     },
     "metadata": {},
     "output_type": "display_data"
    },
    {
     "data": {
      "application/mercury+json": "{\n    \"widget\": \"Text\",\n    \"value\": \"2025-01-24\",\n    \"sanitize\": true,\n    \"rows\": 1,\n    \"label\": \"Lab Date\",\n    \"model_id\": \"69c2c0354eab4399a1409f1a64c09c74\",\n    \"code_uid\": \"Text.0.50.78.4-randcdb5cdac\",\n    \"url_key\": \"\",\n    \"disabled\": false,\n    \"hidden\": false\n}",
      "application/vnd.jupyter.widget-view+json": {
       "model_id": "69c2c0354eab4399a1409f1a64c09c74",
       "version_major": 2,
       "version_minor": 0
      },
      "text/plain": [
       "mercury.Text"
      ]
     },
     "metadata": {},
     "output_type": "display_data"
    },
    {
     "data": {
      "application/mercury+json": "{\n    \"widget\": \"Text\",\n    \"value\": \"2\",\n    \"sanitize\": true,\n    \"rows\": 1,\n    \"label\": \"Lab Number\",\n    \"model_id\": \"d9141bf86fde4bc2b69c5f04111aea39\",\n    \"code_uid\": \"Text.0.50.78.5-randc70c3afe\",\n    \"url_key\": \"\",\n    \"disabled\": false,\n    \"hidden\": false\n}",
      "application/vnd.jupyter.widget-view+json": {
       "model_id": "d9141bf86fde4bc2b69c5f04111aea39",
       "version_major": 2,
       "version_minor": 0
      },
      "text/plain": [
       "mercury.Text"
      ]
     },
     "metadata": {},
     "output_type": "display_data"
    },
    {
     "data": {
      "application/mercury+json": "{\n    \"widget\": \"Text\",\n    \"value\": \"Simple Pendulum\",\n    \"sanitize\": true,\n    \"rows\": 1,\n    \"label\": \"Lab Name\",\n    \"model_id\": \"78b5ef37e2ce48ab83b4da23ca84797d\",\n    \"code_uid\": \"Text.0.50.78.6-randd3352202\",\n    \"url_key\": \"\",\n    \"disabled\": false,\n    \"hidden\": false\n}",
      "application/vnd.jupyter.widget-view+json": {
       "model_id": "78b5ef37e2ce48ab83b4da23ca84797d",
       "version_major": 2,
       "version_minor": 0
      },
      "text/plain": [
       "mercury.Text"
      ]
     },
     "metadata": {},
     "output_type": "display_data"
    },
    {
     "data": {
      "application/mercury+json": "{\n    \"widget\": \"File\",\n    \"max_file_size\": \"10MB\",\n    \"label\": \"Data file upload\",\n    \"model_id\": \"a15a6af8f94b408397a373fcaa7ab0dc\",\n    \"code_uid\": \"File.0.50.74.7-rand4223eb48\",\n    \"disabled\": false,\n    \"hidden\": false\n}",
      "application/vnd.jupyter.widget-view+json": {
       "model_id": "a15a6af8f94b408397a373fcaa7ab0dc",
       "version_major": 2,
       "version_minor": 0
      },
      "text/plain": [
       "mercury.File"
      ]
     },
     "metadata": {},
     "output_type": "display_data"
    },
    {
     "data": {
      "application/mercury+json": "{\n    \"widget\": \"Text\",\n    \"value\": \"Your Answer to Question 1\",\n    \"sanitize\": true,\n    \"rows\": 5,\n    \"label\": \"What is the most challenging measurements during data collection and explain why? (4 pts)\",\n    \"model_id\": \"1a9c6d5d7da54f6985797dd46e2ef015\",\n    \"code_uid\": \"Text.0.50.78.8-rand5bfb015f\",\n    \"url_key\": \"\",\n    \"disabled\": false,\n    \"hidden\": false\n}",
      "application/vnd.jupyter.widget-view+json": {
       "model_id": "1a9c6d5d7da54f6985797dd46e2ef015",
       "version_major": 2,
       "version_minor": 0
      },
      "text/plain": [
       "mercury.Text"
      ]
     },
     "metadata": {},
     "output_type": "display_data"
    },
    {
     "data": {
      "application/mercury+json": "{\n    \"widget\": \"Text\",\n    \"value\": \"Your Answer to Question 2\",\n    \"sanitize\": true,\n    \"rows\": 5,\n    \"label\": \"Why do you include half of the height of the cylinder for the length of the pendulum? (3 pts)\",\n    \"model_id\": \"5ed9f01e1738438fafa81bc2ac793553\",\n    \"code_uid\": \"Text.0.50.78.9-rand528be554\",\n    \"url_key\": \"\",\n    \"disabled\": false,\n    \"hidden\": false\n}",
      "application/vnd.jupyter.widget-view+json": {
       "model_id": "5ed9f01e1738438fafa81bc2ac793553",
       "version_major": 2,
       "version_minor": 0
      },
      "text/plain": [
       "mercury.Text"
      ]
     },
     "metadata": {},
     "output_type": "display_data"
    },
    {
     "data": {
      "application/mercury+json": "{\n    \"widget\": \"Text\",\n    \"value\": \"Your Answer to Question 3\",\n    \"sanitize\": true,\n    \"rows\": 5,\n    \"label\": \"What changes of the period of the pendulum you would expect, if you changed the mass of the pendulum? (3 pts)\",\n    \"model_id\": \"c174cb3b3fe6444aafdd13bd906d5833\",\n    \"code_uid\": \"Text.0.50.78.10-randc851450b\",\n    \"url_key\": \"\",\n    \"disabled\": false,\n    \"hidden\": false\n}",
      "application/vnd.jupyter.widget-view+json": {
       "model_id": "c174cb3b3fe6444aafdd13bd906d5833",
       "version_major": 2,
       "version_minor": 0
      },
      "text/plain": [
       "mercury.Text"
      ]
     },
     "metadata": {},
     "output_type": "display_data"
    }
   ],
   "source": [
    "# Request Data\n",
    "name = mr.Text(value=\"Your Name\", label=\"What is your name?\", rows=1)\n",
    "course = mr.Text(value=\"PHYS 2125 (15921)\", label=\"What class are you in?\", rows=1)\n",
    "date = mr.Text(value=\"2025-01-24\", label=\"Lab Date\", rows=1)\n",
    "labNum = mr.Text(value=\"2\", label=\"Lab Number\", rows=1)\n",
    "labName = mr.Text(value=\"Simple Pendulum\", label=\"Lab Name\", rows=1)\n",
    "file = mr.File(label=\"Data file upload\", max_file_size=\"10MB\")\n",
    "dq1 = mr.Text(value=\"Your Answer to Question 1\", label=\"What is the most challenging measurements during data collection and explain why? (4 pts)\", rows=5)\n",
    "dq2 = mr.Text(value=\"Your Answer to Question 2\", label=\"Why do you include half of the height of the cylinder for the length of the pendulum? (3 pts)\", rows=5)\n",
    "dq3 = mr.Text(value=\"Your Answer to Question 3\", label=\"What changes of the period of the pendulum you would expect, if you changed the mass of the pendulum? (3 pts)\", rows=5)"
   ]
  },
  {
   "cell_type": "code",
   "execution_count": 4,
   "id": "3dac4cf0-8875-4990-b588-855f410f8be7",
   "metadata": {},
   "outputs": [],
   "source": [
    "# Parse Data\n",
    "%autoreload 2\n",
    "\n",
    "dataColumnNames = [\"l (m)\", \"h (m)\",\"L (m)\",\"5T₁ (s)\",\"5T₂ (s)\",\"T₁ (s)\",\"T₂ (s)\",\"T (s)\",\"T² (s²)\",\"g (m/s²)\"];\n",
    "\n",
    "if file.filepath is not None:\n",
    "    df = pd.read_csv(file.filepath, names=dataColumnNames, header=0).set_index(dataColumnNames[2])\n",
    "else:\n",
    "    df = pd.read_csv('lab2.csv', names=dataColumnNames, header=0).set_index(dataColumnNames[2])"
   ]
  },
  {
   "cell_type": "code",
   "execution_count": 5,
   "id": "3da618d7-974a-467a-ab8c-86773d8ccd5a",
   "metadata": {
    "editable": true,
    "slideshow": {
     "slide_type": ""
    },
    "tags": [
     "remove-cell"
    ]
   },
   "outputs": [
    {
     "data": {
      "text/markdown": [
       "\n",
       "# Lab 2: Simple Pendulum\n",
       "Name: **Your Name** \\\n",
       "Class: **PHYS 2125 (15921)** \\\n",
       "Date: **2025-01-24**\n",
       "\n",
       "<p style=\"page-break-after:always;\"></p>\n"
      ],
      "text/plain": [
       "<IPython.core.display.Markdown object>"
      ]
     },
     "execution_count": 5,
     "metadata": {},
     "output_type": "execute_result"
    }
   ],
   "source": [
    "%%markdown\n",
    "\n",
    "# Lab {labNum.value}: {labName.value}\n",
    "Name: **{name.value}** \\\n",
    "Class: **{course.value}** \\\n",
    "Date: **{date.value}**\n",
    "\n",
    "<p style=\"page-break-after:always;\"></p>"
   ]
  },
  {
   "cell_type": "code",
   "execution_count": 6,
   "id": "646a93e2-9575-41f7-8a9e-4e4307dced61",
   "metadata": {},
   "outputs": [],
   "source": [
    "# Do Calculations (Python)\n",
    "\n",
    "# Constants\n",
    "g_earth = 9.8;\n",
    "\n",
    "# In theory the data we uploaded already has lots of these values, but just in case the Excel wasn't perfect we're going to do it here.\n",
    "\n",
    "# Recalculate L\n",
    "df.rename(columns={dataColumnNames[2]: \"oldL\"})\n",
    "df[dataColumnNames[2]] = df.apply(lambda row: row[dataColumnNames[0]] + ( 0.5 * row[dataColumnNames[1]] ), axis=1)\n",
    "df.set_index(dataColumnNames[2], inplace=True)\n",
    "\n",
    "# Recalculate T1, T2, T, T^2, and g\n",
    "df[dataColumnNames[5]] = df.apply(lambda row: 0.2 * row[dataColumnNames[3]], axis=1)\n",
    "df[dataColumnNames[6]] = df.apply(lambda row: 0.2 * row[dataColumnNames[4]], axis=1)\n",
    "df[dataColumnNames[7]] = df.apply(lambda row: 0.5 * ( row[dataColumnNames[5]] + row[dataColumnNames[6]] ), axis=1)\n",
    "df[dataColumnNames[8]] = df.apply(lambda row: row[dataColumnNames[7]] * row[dataColumnNames[7]], axis=1)\n",
    "df[dataColumnNames[8]] = df.apply(lambda row: row[dataColumnNames[7]] * row[dataColumnNames[7]], axis=1)\n",
    "df[dataColumnNames[9]] = df.apply(lambda row: 4 * pow(math.pi,2) / ( row[dataColumnNames[8]] / row.name ), axis=1)\n",
    "\n",
    "# Just get the mean and deviation for everything, pull out what we need\n",
    "mean = df.mean()\n",
    "deviation = df.std(ddof=0)\n",
    "\n",
    "# Calculate average g from measured relationship between L and T.\n",
    "g_avg = mean[dataColumnNames[9]]\n",
    "g_avg_σ = deviation[dataColumnNames[9]]\n",
    "g_avg_err = (g_avg - g_earth) / g_earth * 100\n",
    "g_avg_err_abs = np.absolute(g_avg_err)\n",
    "\n",
    "# Calculate g from trendline (least squares)\n",
    "trend = np.polyfit(df.index, df[dataColumnNames[8]], 1)  # 1 for linear trendline\n",
    "trend_slope, trend_intercept = trend\n",
    "g_graph = ( 4 * pow(math.pi, 2) ) / trend_slope\n",
    "g_graph_err = (g_graph - g_earth) / g_earth * 100\n",
    "g_graph_err_abs = np.absolute(g_graph_err)\n",
    "\n",
    "# Strings for printing. (How do we actually handle significant digits? How many significant digits in squinting at a ruler next to a pendulum?)\n",
    "g_avg_str = str(\"%.2f\" % round(g_avg, 2))\n",
    "g_avg_σ_str = str(\"%.2f\" % round(g_avg_σ, 2))\n",
    "g_avg_err_str = str(\"%.2f\" % round(g_avg_err, 2))\n",
    "g_avg_err_abs_str = str(\"%.2f\" % round(g_avg_err_abs, 2))\n",
    "g_graph_str = str(\"%.2f\" % round(g_graph, 2))\n",
    "g_graph_err_str = str(\"%.2f\" % round(g_graph_err, 2))\n",
    "g_graph_err_abs_str = str(\"%.2f\" % round(g_graph_err_abs, 2))\n",
    "trend_slope_str = str(\"%.2f\" % round(trend_slope,2))\n",
    "trend_intercept_str = str(\"%.2f\" % round(trend_intercept,2))"
   ]
  },
  {
   "cell_type": "markdown",
   "id": "13c4809b-2bf1-432f-93e8-734fd53e9dd6",
   "metadata": {
    "editable": true,
    "slideshow": {
     "slide_type": ""
    },
    "tags": []
   },
   "source": [
    "## Objective\n",
    "\n",
    "To determine the gravitational constant of Earth.\n",
    "\n",
    "*Hint*: $g_{Earth} = 9.8 m/s^2$."
   ]
  },
  {
   "cell_type": "markdown",
   "id": "629f1546-5604-44b2-b736-16627c9c5130",
   "metadata": {},
   "source": [
    "## Equipment\n",
    "\n",
    "- (1) small A-base\n",
    "- (1) long metal rod\n",
    "- (1) short rod\n",
    "- (1) 80cm length of string\n",
    "- (1) calipers\n",
    "- (1) clamp\n",
    "- (1) 0.0635 meter aluminum cyliner as pendulum weight\n",
    "- (1) 1 meter ruler\n",
    "- (1) stopwatch"
   ]
  },
  {
   "cell_type": "markdown",
   "id": "09294620-7f56-4ab3-b5e1-ab29092e2152",
   "metadata": {},
   "source": [
    "<p style=\"page-break-after:always;\"></p>\n",
    "\n",
    "## Theory\n",
    "\n",
    "The **period of oscilation** of a pendulum ($T$) is the amount of time required to complete a full cycle (*oscilation*). It is related to the **gravitational constant** ($g$) per the equation:\n",
    "\n",
    "$$ T = 2\\pi \\sqrt{\\frac{L}{g}} $$\n",
    "\n",
    "where:\n",
    "\n",
    "$ T $ is the period of oscilation in $ seconds $, \\\n",
    "$ L $ is the length of pendulum in $ meters $, and \\\n",
    "$ g $ gravitational constant in $ \\frac{meters}{seconds^2} $\n",
    "\n",
    "The value of $ L $ is the sum of the distance from the pivot point to the weight ($l$) plus half the height of the weight ($h$).\n",
    "\n",
    "$ L = l + \\frac{1}{2}h $ \\\n",
    "$ l = $ length from the pivot point to the center of the swinging weight in $ meters $ \\\n",
    "$ h = $ height of the cylinder in $ meters $ \n",
    "\n",
    "$ \\begin{align*}\n",
    "T &= 2\\pi \\sqrt{\\frac{L}{g}} \\\\\n",
    "T^2 &= 4\\pi^2 - \\frac{L}{g} \\\\\n",
    "T^2 &= \\frac{4\\pi^2}{g}L \\\\\n",
    "\\frac{T^2}{L} &= \\frac{4\\pi^2}{g} \\\\\n",
    "g &= \\frac{4\\pi^2}{\\frac{T^2}{L}}\n",
    "\\end{align*}$\n",
    "\n",
    "By varying the length of the pendulum ($L$) ($x$-axis) and then measuring the effect on $T^2$ ($y$-axis) we can determine the relationship between the two, and use that value to calculate $g$."
   ]
  },
  {
   "cell_type": "code",
   "execution_count": 7,
   "id": "f395bf80-6d20-45ce-b696-34d8daffd136",
   "metadata": {},
   "outputs": [
    {
     "data": {
      "text/html": [
       "<img src=\"https://raw.githubusercontent.com/dundonite/Physics-Lab-2125-15921/refs/heads/main/lab2setup.png\" width=\"300\"/>"
      ],
      "text/plain": [
       "<IPython.core.display.Image object>"
      ]
     },
     "metadata": {},
     "output_type": "display_data"
    }
   ],
   "source": [
    "display(Image(url='https://raw.githubusercontent.com/dundonite/Physics-Lab-2125-15921/refs/heads/main/lab2setup.png', width=300))"
   ]
  },
  {
   "cell_type": "markdown",
   "id": "d6319ba7-cc77-4222-9003-6178f43d6a06",
   "metadata": {},
   "source": [
    "<p style=\"page-break-after:always;\"></p>\n",
    "\n",
    "## Procedure\n",
    "\n",
    "The following procedure was followed.\n",
    "\n",
    "### Initial Setup\n",
    "\n",
    "The pendulum was constructed as follows.\n",
    "\n",
    "1. A small cast iron A-base was placed on the table.\n",
    "1. A 45cm steel rod was secured into the A-frame, raised up as much as possible to maximize the height.\n",
    "1. The vertical mounting side of a steel clamp was secured at the very top of the rod.\n",
    "1. A 15cm rod was attached to the horizontal side of the same steel clamp, to the far end of the smaller rod in order to maximize space for the swinging pendulum.\n",
    "1. 6.35cm aluminum mass was secured with a string, ensuring minimal distance from the knot to the top surface of weight, and a symmetric placement of the knot in the center of that face.\n",
    "1. The other end of the string was then secured to the small rod, opposite the clamp, by tightly wrapping the string beginning with the loose end.\n",
    "\n",
    "### Trial (completed for each $l$)\n",
    "\n",
    "Each measurement was taken twice for each value of $l$.\n",
    "\n",
    "1. The clamp securing the smaller rod was loosened and the smaller rod was rotated until the desired length ($l$) of the string was reached, at which point the clamp was resecured.\n",
    "1. The pendulum was set swinging\n",
    "1. A stopwatch was used to measure the time required to complete 5 oscilations (starting from one extreme and then back, 5 times). This is noted in the data as ($5T_1$). While the pendulum continued to swing a second measurement was taken in the same manner and noted as ($5T_2$)."
   ]
  },
  {
   "cell_type": "markdown",
   "id": "0b7dec1f-09ab-4b62-94f0-cb71b15ef156",
   "metadata": {},
   "source": [
    "<p style=\"page-break-after:always;\"></p>\n",
    "\n",
    "## Data"
   ]
  },
  {
   "cell_type": "code",
   "execution_count": 8,
   "id": "88de4dc9-a29b-4652-9a4c-c8bb9c17a1a7",
   "metadata": {
    "editable": true,
    "slideshow": {
     "slide_type": ""
    },
    "tags": []
   },
   "outputs": [
    {
     "data": {
      "text/html": [
       "<table border=\"1\" class=\"dataframe\">\n",
       "  <thead>\n",
       "    <tr style=\"text-align: right;\">\n",
       "      <th></th>\n",
       "      <th>l (m)</th>\n",
       "      <th>h (m)</th>\n",
       "      <th>5T₁ (s)</th>\n",
       "      <th>5T₂ (s)</th>\n",
       "      <th>T₁ (s)</th>\n",
       "      <th>T₂ (s)</th>\n",
       "      <th>T (s)</th>\n",
       "      <th>T² (s²)</th>\n",
       "      <th>g (m/s²)</th>\n",
       "    </tr>\n",
       "    <tr>\n",
       "      <th>L (m)</th>\n",
       "      <th></th>\n",
       "      <th></th>\n",
       "      <th></th>\n",
       "      <th></th>\n",
       "      <th></th>\n",
       "      <th></th>\n",
       "      <th></th>\n",
       "      <th></th>\n",
       "      <th></th>\n",
       "    </tr>\n",
       "  </thead>\n",
       "  <tbody>\n",
       "    <tr>\n",
       "      <th>0.18175</th>\n",
       "      <td>0.15</td>\n",
       "      <td>0.0635</td>\n",
       "      <td>4.5</td>\n",
       "      <td>4.5</td>\n",
       "      <td>0.9</td>\n",
       "      <td>0.9</td>\n",
       "      <td>0.9</td>\n",
       "      <td>0.81</td>\n",
       "      <td>8.858275</td>\n",
       "    </tr>\n",
       "    <tr>\n",
       "      <th>0.23175</th>\n",
       "      <td>0.2</td>\n",
       "      <td>0.0635</td>\n",
       "      <td>5.0</td>\n",
       "      <td>5.0</td>\n",
       "      <td>1.0</td>\n",
       "      <td>1.0</td>\n",
       "      <td>1.0</td>\n",
       "      <td>1.0</td>\n",
       "      <td>9.149123</td>\n",
       "    </tr>\n",
       "    <tr>\n",
       "      <th>0.28175</th>\n",
       "      <td>0.25</td>\n",
       "      <td>0.0635</td>\n",
       "      <td>5.5</td>\n",
       "      <td>5.5</td>\n",
       "      <td>1.1</td>\n",
       "      <td>1.1</td>\n",
       "      <td>1.1</td>\n",
       "      <td>1.21</td>\n",
       "      <td>9.192598</td>\n",
       "    </tr>\n",
       "    <tr>\n",
       "      <th>0.33175</th>\n",
       "      <td>0.3</td>\n",
       "      <td>0.0635</td>\n",
       "      <td>6.0</td>\n",
       "      <td>6.0</td>\n",
       "      <td>1.2</td>\n",
       "      <td>1.2</td>\n",
       "      <td>1.2</td>\n",
       "      <td>1.44</td>\n",
       "      <td>9.095115</td>\n",
       "    </tr>\n",
       "    <tr>\n",
       "      <th>0.38175</th>\n",
       "      <td>0.35</td>\n",
       "      <td>0.0635</td>\n",
       "      <td>6.5</td>\n",
       "      <td>6.5</td>\n",
       "      <td>1.3</td>\n",
       "      <td>1.3</td>\n",
       "      <td>1.3</td>\n",
       "      <td>1.69</td>\n",
       "      <td>8.917684</td>\n",
       "    </tr>\n",
       "    <tr>\n",
       "      <th>0.43175</th>\n",
       "      <td>0.4</td>\n",
       "      <td>0.0635</td>\n",
       "      <td>7.0</td>\n",
       "      <td>7.0</td>\n",
       "      <td>1.4</td>\n",
       "      <td>1.4</td>\n",
       "      <td>1.4</td>\n",
       "      <td>1.96</td>\n",
       "      <td>8.69633</td>\n",
       "    </tr>\n",
       "    <tr>\n",
       "      <th>Average</th>\n",
       "      <td></td>\n",
       "      <td></td>\n",
       "      <td></td>\n",
       "      <td></td>\n",
       "      <td></td>\n",
       "      <td></td>\n",
       "      <td></td>\n",
       "      <td></td>\n",
       "      <td>8.984854</td>\n",
       "    </tr>\n",
       "  </tbody>\n",
       "</table>"
      ],
      "text/plain": [
       "<IPython.core.display.HTML object>"
      ]
     },
     "execution_count": 8,
     "metadata": {},
     "output_type": "execute_result"
    }
   ],
   "source": [
    "# Print the data table\n",
    "\n",
    "df.loc['Average'] = \"\"\n",
    "df.loc[['Average'], [dataColumnNames[9]]] = g_avg\n",
    "\n",
    "HTML(df.to_html())"
   ]
  },
  {
   "cell_type": "code",
   "execution_count": 9,
   "id": "c6a8ac7d-6227-4179-a082-6f2621a183fd",
   "metadata": {},
   "outputs": [],
   "source": [
    "df.drop(['Average'], inplace=True);"
   ]
  },
  {
   "cell_type": "markdown",
   "id": "1e4a45dd-a4c8-42c3-b85a-6a5bbf49dc45",
   "metadata": {
    "editable": true,
    "slideshow": {
     "slide_type": ""
    },
    "tags": []
   },
   "source": [
    "<p style=\"page-break-after:always;\"></p>\n",
    "\n",
    "## Calculations"
   ]
  },
  {
   "cell_type": "code",
   "execution_count": 10,
   "id": "a3040632-03f7-4c39-a2da-5972a0d54937",
   "metadata": {
    "editable": true,
    "slideshow": {
     "slide_type": ""
    },
    "tags": []
   },
   "outputs": [],
   "source": [
    "# Show the math? (LaTeX)"
   ]
  },
  {
   "cell_type": "code",
   "execution_count": 11,
   "id": "0646b9f4-6874-43f7-9553-534c66bcf881",
   "metadata": {},
   "outputs": [
    {
     "data": {
      "image/png": "[encoded data removed]",
      "text/plain": [
       "<Figure size 640x480 with 1 Axes>"
      ]
     },
     "metadata": {},
     "output_type": "display_data"
    }
   ],
   "source": [
    "# Print the Graph\n",
    "\n",
    "# Plot the graph of T^2 (y-axis) vs L (x-axis)\n",
    "plt.scatter(df.index, df[dataColumnNames[8]])\n",
    "\n",
    "# Plot the trendline\n",
    "p = np.poly1d(trend)\n",
    "plt.plot(df.index, p(df.index), \"r--\")\n",
    "\n",
    "# Set some nice labels\n",
    "plt.xlabel('Length of pendulum (L) in meters')\n",
    "plt.ylabel('Period of oscilation (T) in seconds')\n",
    "plt.title('Period of Oscilation vs Pendulum Length')\n",
    "\n",
    "plt.show();\n",
    "\n",
    "# Show all of the data points\n",
    "# Label the axes, including units\n",
    "# Draw the trendline (don't do connectng points). Use least squares method.\n",
    "# Show the equation of the line on the page of the graph\n",
    "# use the equation of the line to determine the slope\n",
    "# Use this slop to determine g as given in the theory."
   ]
  },
  {
   "cell_type": "code",
   "execution_count": 12,
   "id": "a12e09d2-dbb1-4a89-a3cd-da579e15fc3b",
   "metadata": {},
   "outputs": [
    {
     "data": {
      "text/markdown": [
       "\n",
       "Using the least squares method a trend line is fit to the data with *slope* 4.60 and *$y$-index* -0.06, resulting in the equation $ y = 4.60 x + -0.06 $.\n"
      ],
      "text/plain": [
       "<IPython.core.display.Markdown object>"
      ]
     },
     "execution_count": 12,
     "metadata": {},
     "output_type": "execute_result"
    }
   ],
   "source": [
    "%%markdown\n",
    "\n",
    "Using the least squares method a trend line is fit to the data with *slope* {trend_slope_str} and *$y$-index* {trend_intercept_str}, resulting in the equation $ y = {trend_slope_str} x + {trend_intercept_str} $."
   ]
  },
  {
   "cell_type": "code",
   "execution_count": 13,
   "id": "884a7dc7-45d3-4505-9232-696564f88dc2",
   "metadata": {
    "editable": true,
    "slideshow": {
     "slide_type": ""
    },
    "tags": []
   },
   "outputs": [
    {
     "data": {
      "text/markdown": [
       "\n",
       "<p style=\"page-break-after:always;\"></p>\n",
       "\n",
       "## Results\n",
       "\n",
       "$ \\begin{align*}\n",
       "g_{avg} &= 8.98\\; m/s^2 \\\\\n",
       "g_{avg}\\; σ &= 0.18 \\\\\n",
       "g_{avg}\\; error &= -8.32\\; \\% \\\\\n",
       "g_{graph} &= 8.58\\; m/s^2 \\\\\n",
       "g_{graph}\\; error &= -12.43\\; \\% \\\\\n",
       "g &= g_{avg} \\pm g_{avg}\\; error &&= 8.98\\pm8.32\\% \\\\\n",
       "  &= g_{avg} \\pm g_{avg}\\; σ &&= 8.98\\pm0.18 \\\\\n",
       "  &= g_{graph} \\pm g_{graph}\\; error &&= 8.58\\pm12.43 \\%\n",
       "\\end{align*}$\n"
      ],
      "text/plain": [
       "<IPython.core.display.Markdown object>"
      ]
     },
     "execution_count": 13,
     "metadata": {},
     "output_type": "execute_result"
    }
   ],
   "source": [
    "%%markdown\n",
    "\n",
    "<p style=\"page-break-after:always;\"></p>\n",
    "\n",
    "## Results\n",
    "\n",
    "$ \\begin{{align*}}\n",
    "g_{{avg}} &= {g_avg_str}\\; m/s^2 \\\\\n",
    "g_{{avg}}\\; σ &= {g_avg_σ_str} \\\\\n",
    "g_{{avg}}\\; error &= {g_avg_err_str}\\; \\% \\\\\n",
    "g_{{graph}} &= {g_graph_str}\\; m/s^2 \\\\\n",
    "g_{{graph}}\\; error &= {g_graph_err_str}\\; \\% \\\\\n",
    "g &= g_{{avg}} \\pm g_{{avg}}\\; error &&= {g_avg_str}\\pm{g_avg_err_abs_str}\\% \\\\\n",
    "  &= g_{{avg}} \\pm g_{{avg}}\\; σ &&= {g_avg_str}\\pm{g_avg_σ_str} \\\\\n",
    "  &= g_{{graph}} \\pm g_{{graph}}\\; error &&= {g_graph_str}\\pm{g_graph_err_abs_str} \\%\n",
    "\\end{{align*}}$"
   ]
  },
  {
   "cell_type": "code",
   "execution_count": 14,
   "id": "f16294f4-2f34-4efa-b431-71ddef429599",
   "metadata": {},
   "outputs": [
    {
     "data": {
      "text/markdown": [
       "\n",
       "<p style=\"page-break-after:always;\"></p>\n",
       "\n",
       "## Discussion\n",
       "\n",
       "__What is the most challenging measurements during data collection and explain why? (4 pts)__\n",
       "\n",
       "Your Answer to Question 1\n",
       "\n",
       "__Why do you include half of the height of the cylinder for the length of the pendulum? (3 pts)__\n",
       "\n",
       "Your Answer to Question 2\n",
       "\n",
       "__What changes of the period of the pendulum you would expect, if you changed the mass of the pendulum? (3 pts)__\n",
       "\n",
       "Your Answer to Question 3\n"
      ],
      "text/plain": [
       "<IPython.core.display.Markdown object>"
      ]
     },
     "execution_count": 14,
     "metadata": {},
     "output_type": "execute_result"
    }
   ],
   "source": [
    "%%markdown\n",
    "\n",
    "<p style=\"page-break-after:always;\"></p>\n",
    "\n",
    "## Discussion\n",
    "\n",
    "__What is the most challenging measurements during data collection and explain why? (4 pts)__\n",
    "\n",
    "{dq1.value}\n",
    "\n",
    "__Why do you include half of the height of the cylinder for the length of the pendulum? (3 pts)__\n",
    "\n",
    "{dq2.value}\n",
    "\n",
    "__What changes of the period of the pendulum you would expect, if you changed the mass of the pendulum? (3 pts)__\n",
    "\n",
    "{dq3.value}"
   ]
  }
 ],
 "metadata": {
  "kernelspec": {
   "display_name": "Python 3 (ipykernel)",
   "language": "python",
   "name": "python3"
  },
  "language_info": {
   "codemirror_mode": {
    "name": "ipython",
    "version": 3
   },
   "file_extension": ".py",
   "mimetype": "text/x-python",
   "name": "python",
   "nbconvert_exporter": "python",
   "pygments_lexer": "ipython3",
   "version": "3.11.2"
  }
 },
 "nbformat": 4,
 "nbformat_minor": 5
}

{
 "cells": [
  {
   "cell_type": "code",
   "execution_count": 1,
   "id": "7823e550-cb35-4870-af86-7f2dd13e3fbc",
   "metadata": {
    "editable": true,
    "slideshow": {
     "slide_type": ""
    },
    "tags": [
     "remove-cell"
    ]
   },
   "outputs": [],
   "source": [
    "# Import libraries\n",
    "%load_ext autoreload\n",
    "%autoreload 2\n",
    "\n",
    "import math\n",
    "import matplotlib.pyplot as plt\n",
    "import numpy as np\n",
    "import pandas as pd\n",
    "from IPython.display import display, HTML, Latex, Image\n",
    "from IPython.display import Markdown as md\n",
    "from IPython.core.magic import register_cell_magic\n",
    "from tabulate import tabulate\n",
    "from sklearn.linear_model import LinearRegression\n",
    "import mercury as mr\n",
    "\n",
    "# Allow for markdown code cells\n",
    "@register_cell_magic\n",
    "def markdown(line, cell):\n",
    "    return md(cell.format(**globals()))"
   ]
  },
  {
   "cell_type": "code",
   "execution_count": 12,
   "id": "09fa635c-88a9-4dbb-8bcd-3a09d6ab66a3",
   "metadata": {},
   "outputs": [
    {
     "data": {
      "application/mercury+json": "{\n    \"widget\": \"App\",\n    \"title\": \"Lab 3\",\n    \"description\": \"Lab report for PHYS 2125 (15921) Spring 2025 Lab 3.\",\n    \"show_code\": false,\n    \"show_prompt\": false,\n    \"output\": \"app\",\n    \"schedule\": \"\",\n    \"notify\": \"{}\",\n    \"continuous_update\": true,\n    \"static_notebook\": false,\n    \"show_sidebar\": true,\n    \"full_screen\": true,\n    \"allow_download\": true,\n    \"allow_share\": true,\n    \"stop_on_error\": false,\n    \"model_id\": \"mercury-app\",\n    \"code_uid\": \"App.0.50.110.1-rand9f5506e2\"\n}",
      "text/html": [
       "<h3>Mercury Application</h3><small>This output won't appear in the web app.</small>"
      ],
      "text/plain": [
       "mercury.App"
      ]
     },
     "metadata": {},
     "output_type": "display_data"
    }
   ],
   "source": [
    "app = mr.App(title=\"Lab 3\", description=\"Lab report for PHYS 2125 (15921) Spring 2025 Lab 3.\")"
   ]
  },
  {
   "cell_type": "code",
   "execution_count": 3,
   "id": "3f8c7851-a8b2-4291-aae0-f55f005aacdb",
   "metadata": {
    "editable": true,
    "slideshow": {
     "slide_type": ""
    },
    "tags": [
     "remove-cell"
    ]
   },
   "outputs": [
    {
     "data": {
      "application/mercury+json": "{\n    \"widget\": \"Text\",\n    \"value\": \"Your Name\",\n    \"sanitize\": true,\n    \"rows\": 1,\n    \"label\": \"What is your name?\",\n    \"model_id\": \"197b075bc5ea4c1c99302bdade0537fa\",\n    \"code_uid\": \"Text.0.50.78.2-rand91924c04\",\n    \"url_key\": \"\",\n    \"disabled\": false,\n    \"hidden\": false\n}",
      "application/vnd.jupyter.widget-view+json": {
       "model_id": "197b075bc5ea4c1c99302bdade0537fa",
       "version_major": 2,
       "version_minor": 0
      },
      "text/plain": [
       "mercury.Text"
      ]
     },
     "metadata": {},
     "output_type": "display_data"
    },
    {
     "data": {
      "application/mercury+json": "{\n    \"widget\": \"Text\",\n    \"value\": \"PHYS 2125 (15921)\",\n    \"sanitize\": true,\n    \"rows\": 1,\n    \"label\": \"What class are you in?\",\n    \"model_id\": \"42b6b94fc8614f0d8e25f65498318fc2\",\n    \"code_uid\": \"Text.0.50.78.3-rand00314382\",\n    \"url_key\": \"\",\n    \"disabled\": false,\n    \"hidden\": false\n}",
      "application/vnd.jupyter.widget-view+json": {
       "model_id": "42b6b94fc8614f0d8e25f65498318fc2",
       "version_major": 2,
       "version_minor": 0
      },
      "text/plain": [
       "mercury.Text"
      ]
     },
     "metadata": {},
     "output_type": "display_data"
    },
    {
     "data": {
      "application/mercury+json": "{\n    \"widget\": \"Text\",\n    \"value\": \"2025-01-31\",\n    \"sanitize\": true,\n    \"rows\": 1,\n    \"label\": \"Lab Date\",\n    \"model_id\": \"a4700a9e27a84092a28d05cdc5cbeb78\",\n    \"code_uid\": \"Text.0.50.78.4-rand21b7350b\",\n    \"url_key\": \"\",\n    \"disabled\": false,\n    \"hidden\": false\n}",
      "application/vnd.jupyter.widget-view+json": {
       "model_id": "a4700a9e27a84092a28d05cdc5cbeb78",
       "version_major": 2,
       "version_minor": 0
      },
      "text/plain": [
       "mercury.Text"
      ]
     },
     "metadata": {},
     "output_type": "display_data"
    },
    {
     "data": {
      "application/mercury+json": "{\n    \"widget\": \"Text\",\n    \"value\": \"3\",\n    \"sanitize\": true,\n    \"rows\": 1,\n    \"label\": \"Lab Number\",\n    \"model_id\": \"74976c1fb13441678bc25fc097c77d0a\",\n    \"code_uid\": \"Text.0.50.78.5-rand98a778cc\",\n    \"url_key\": \"\",\n    \"disabled\": false,\n    \"hidden\": false\n}",
      "application/vnd.jupyter.widget-view+json": {
       "model_id": "74976c1fb13441678bc25fc097c77d0a",
       "version_major": 2,
       "version_minor": 0
      },
      "text/plain": [
       "mercury.Text"
      ]
     },
     "metadata": {},
     "output_type": "display_data"
    },
    {
     "data": {
      "application/mercury+json": "{\n    \"widget\": \"Text\",\n    \"value\": \"Density\",\n    \"sanitize\": true,\n    \"rows\": 1,\n    \"label\": \"Lab Name\",\n    \"model_id\": \"302cb3dc37ca4736ac69f75b81f7489b\",\n    \"code_uid\": \"Text.0.50.78.6-rand2c6c680a\",\n    \"url_key\": \"\",\n    \"disabled\": false,\n    \"hidden\": false\n}",
      "application/vnd.jupyter.widget-view+json": {
       "model_id": "302cb3dc37ca4736ac69f75b81f7489b",
       "version_major": 2,
       "version_minor": 0
      },
      "text/plain": [
       "mercury.Text"
      ]
     },
     "metadata": {},
     "output_type": "display_data"
    },
    {
     "data": {
      "application/mercury+json": "{\n    \"widget\": \"File\",\n    \"max_file_size\": \"10MB\",\n    \"label\": \"Data file upload\",\n    \"model_id\": \"dec8d12f37c240b78025778e51dd9bd6\",\n    \"code_uid\": \"File.0.50.74.7-rand04825a06\",\n    \"disabled\": false,\n    \"hidden\": false\n}",
      "application/vnd.jupyter.widget-view+json": {
       "model_id": "dec8d12f37c240b78025778e51dd9bd6",
       "version_major": 2,
       "version_minor": 0
      },
      "text/plain": [
       "mercury.File"
      ]
     },
     "metadata": {},
     "output_type": "display_data"
    },
    {
     "data": {
      "application/mercury+json": "{\n    \"widget\": \"Text\",\n    \"value\": \"Your Answer to Question 1\",\n    \"sanitize\": true,\n    \"rows\": 5,\n    \"label\": \"A solid object is made of two materials, one material having density of 2 000 kg/m3 and the other having density of 6 000 kg/m3. If the object contains equal volumes of the materials, what is its average density?\",\n    \"model_id\": \"8da4f94ef7c543cebd477fab819fd093\",\n    \"code_uid\": \"Text.0.50.78.8-rand8eebe3a7\",\n    \"url_key\": \"\",\n    \"disabled\": false,\n    \"hidden\": false\n}",
      "application/vnd.jupyter.widget-view+json": {
       "model_id": "8da4f94ef7c543cebd477fab819fd093",
       "version_major": 2,
       "version_minor": 0
      },
      "text/plain": [
       "mercury.Text"
      ]
     },
     "metadata": {},
     "output_type": "display_data"
    },
    {
     "data": {
      "application/mercury+json": "{\n    \"widget\": \"Text\",\n    \"value\": \"Your Answer to Question 2\",\n    \"sanitize\": true,\n    \"rows\": 5,\n    \"label\": \"The standard kilogram is a platinum-iridium cylinder 39.0 mm in height and 39.0 mm in diameter. What is the density of the material in SI units?\",\n    \"model_id\": \"2f2e571d6ad344f8acee629d2a996cb1\",\n    \"code_uid\": \"Text.0.50.78.9-randdf2da570\",\n    \"url_key\": \"\",\n    \"disabled\": false,\n    \"hidden\": false\n}",
      "application/vnd.jupyter.widget-view+json": {
       "model_id": "2f2e571d6ad344f8acee629d2a996cb1",
       "version_major": 2,
       "version_minor": 0
      },
      "text/plain": [
       "mercury.Text"
      ]
     },
     "metadata": {},
     "output_type": "display_data"
    }
   ],
   "source": [
    "# Request Data\n",
    "name = mr.Text(value=\"Your Name\", label=\"What is your name?\", rows=1)\n",
    "course = mr.Text(value=\"PHYS 2125 (15921)\", label=\"What class are you in?\", rows=1)\n",
    "date = mr.Text(value=\"2025-01-31\", label=\"Lab Date\", rows=1)\n",
    "labNum = mr.Text(value=\"3\", label=\"Lab Number\", rows=1)\n",
    "labName = mr.Text(value=\"Density\", label=\"Lab Name\", rows=1)\n",
    "file = mr.File(label=\"Data file upload\", max_file_size=\"10MB\")\n",
    "dq1 = mr.Text(value=\"Your Answer to Question 1\", label=\"A solid object is made of two materials, one material having density of 2 000 kg/m3 and the other having density of 6 000 kg/m3. If the object contains equal volumes of the materials, what is its average density?\", rows=5)\n",
    "dq2 = mr.Text(value=\"Your Answer to Question 2\", label=\"The standard kilogram is a platinum-iridium cylinder 39.0 mm in height and 39.0 mm in diameter. What is the density of the material in SI units?\", rows=5)"
   ]
  },
  {
   "cell_type": "code",
   "execution_count": 14,
   "id": "3dac4cf0-8875-4990-b588-855f410f8be7",
   "metadata": {},
   "outputs": [],
   "source": [
    "# Parse Data\n",
    "%autoreload 2\n",
    "\n",
    "dfCylinderNames = [\"Object\", \"Diameter (meters)\",\"Radius (meters)\", \"Height (meters)\", \"Volume (cubic meters)\", \"Mass (kilograms)\"];\n",
    "dfBlockNames = [\"Object\", \"Length (meters)\",\"Width (meters)\", \"Height (meters)\", \"Volume (cubit meters)\", \"Mass (kilograms)\"];\n",
    "\n",
    "if file.filepath is not None:\n",
    "    dfCylinder = pd.read_csv(file.filepath, names=dfCylinderNames, header=0, nrows=2).set_index(dfCylinderNames[0])\n",
    "    dfBlock = pd.read_csv(file.filepath, names=dfBlockNames, header=0, nrows=2, skiprows=3).set_index(dfBlockNames[0])\n",
    "else:\n",
    "    dfCylinder = pd.read_csv('lab3.csv', names=dfCylinderNames, header=0, nrows=2).set_index(dfCylinderNames[0])\n",
    "    dfBlock = pd.read_csv('lab3.csv', names=dfBlockNames, header=0, nrows=2, skiprows=3).set_index(dfBlockNames[0])\n",
    "\n",
    "dfDensity = pd.DataFrame(data={'Density (kilogram per cubic meter)': [2700, 8730]}, index=[\"Aluminum\", \"Brass\"])"
   ]
  },
  {
   "cell_type": "code",
   "execution_count": 5,
   "id": "3da618d7-974a-467a-ab8c-86773d8ccd5a",
   "metadata": {
    "editable": true,
    "slideshow": {
     "slide_type": ""
    },
    "tags": [
     "remove-cell"
    ]
   },
   "outputs": [
    {
     "data": {
      "text/markdown": [
       "\n",
       "# Lab 3: Density\n",
       "Name: **Your Name** \\\n",
       "Class: **PHYS 2125 (15921)** \\\n",
       "Date: **2025-01-31**\n",
       "\n",
       "<p style=\"page-break-after:always;\"></p>\n"
      ],
      "text/plain": [
       "<IPython.core.display.Markdown object>"
      ]
     },
     "execution_count": 5,
     "metadata": {},
     "output_type": "execute_result"
    }
   ],
   "source": [
    "%%markdown\n",
    "\n",
    "# Lab {labNum.value}: {labName.value}\n",
    "Name: **{name.value}** \\\n",
    "Class: **{course.value}** \\\n",
    "Date: **{date.value}**\n",
    "\n",
    "<p style=\"page-break-after:always;\"></p>"
   ]
  },
  {
   "cell_type": "code",
   "execution_count": 6,
   "id": "646a93e2-9575-41f7-8a9e-4e4307dced61",
   "metadata": {},
   "outputs": [],
   "source": [
    "# Do Calculations (Python)\n",
    "\n",
    "# I would need to do string matching to figure out the density value, frankly just seems easier to do this in the data template. So I guess no calculations this time!"
   ]
  },
  {
   "cell_type": "markdown",
   "id": "13c4809b-2bf1-432f-93e8-734fd53e9dd6",
   "metadata": {
    "editable": true,
    "slideshow": {
     "slide_type": ""
    },
    "tags": []
   },
   "source": [
    "## Objective\n",
    "\n",
    "To determine the masses of different objects using density method."
   ]
  },
  {
   "cell_type": "markdown",
   "id": "629f1546-5604-44b2-b736-16627c9c5130",
   "metadata": {},
   "source": [
    "## Equipment\n",
    "\n",
    "- (1) aluminum cylinder\n",
    "- (1) brass cylinder\n",
    "- (1) aluminum block (rectangular cuboid)\n",
    "- (1) brass block (rectangular cuboid)\n",
    "- (1) vernier calipers"
   ]
  },
  {
   "cell_type": "markdown",
   "id": "09294620-7f56-4ab3-b5e1-ab29092e2152",
   "metadata": {},
   "source": [
    "<p style=\"page-break-after:always;\"></p>\n",
    "\n",
    "## Theory\n",
    "\n",
    "The density, $d$, mass, $m$, and volume, $V$, of an object are related per the following equation:\n",
    "\n",
    "$ \\begin{align*}\n",
    "Density\\; (ρ) &= \\frac{mass\\; (m)}{volume\\; (V)} \\\\\n",
    "ρ             &= \\frac{m}{V} \\\\\n",
    "m             &= ρ \\times V\n",
    "\\end{align*}$\n",
    "\n",
    "The volume, $V$, of a cylinder can be calculated as $V = \\pi \\times r^2 \\times h $\n",
    "\n",
    "The volume, $V$, of a rectangular cuboid can be calculated as $ V = l \\times w \\times h $"
   ]
  },
  {
   "cell_type": "code",
   "execution_count": 13,
   "id": "f395bf80-6d20-45ce-b696-34d8daffd136",
   "metadata": {},
   "outputs": [
    {
     "data": {
      "text/html": [
       "<img src=\"https://raw.githubusercontent.com/dundonite/Physics-Lab-2125-15921/refs/heads/main/lab3.png\" width=\"400\"/>"
      ],
      "text/plain": [
       "<IPython.core.display.Image object>"
      ]
     },
     "metadata": {},
     "output_type": "display_data"
    }
   ],
   "source": [
    "display(Image(url='https://raw.githubusercontent.com/dundonite/Physics-Lab-2125-15921/refs/heads/main/lab3.png', width=400))"
   ]
  },
  {
   "cell_type": "markdown",
   "id": "d6319ba7-cc77-4222-9003-6178f43d6a06",
   "metadata": {},
   "source": [
    "<p style=\"page-break-after:always;\"></p>\n",
    "\n",
    "## Procedure\n",
    "\n",
    "1. For each object critical dimensions were taken.\n",
    "   1. For the cylinder the diameter, $d$, and height, $h$, were measured.\n",
    "   1. For the blocks the length, $l$, width, $w$, and height, $h$, were measured.\n",
    "1. The volume, $V$, was calulcated using the measurements taken and the formulas above.\n",
    "1. With the volume, $V$, and the known density, $ρ$, of the materials in question (aluminum and brass), the mass, $m$ was calculated."
   ]
  },
  {
   "cell_type": "markdown",
   "id": "0b7dec1f-09ab-4b62-94f0-cb71b15ef156",
   "metadata": {},
   "source": [
    "<p style=\"page-break-after:always;\"></p>\n",
    "\n",
    "## Data"
   ]
  },
  {
   "cell_type": "code",
   "execution_count": 15,
   "id": "88de4dc9-a29b-4652-9a4c-c8bb9c17a1a7",
   "metadata": {
    "editable": true,
    "slideshow": {
     "slide_type": ""
    },
    "tags": []
   },
   "outputs": [
    {
     "data": {
      "text/html": [
       "<table border=\"1\" class=\"dataframe\">\n",
       "  <thead>\n",
       "    <tr style=\"text-align: right;\">\n",
       "      <th></th>\n",
       "      <th>Diameter (meters)</th>\n",
       "      <th>Radius (meters)</th>\n",
       "      <th>Height (meters)</th>\n",
       "      <th>Volume (cubic meters)</th>\n",
       "      <th>Mass (kilograms)</th>\n",
       "    </tr>\n",
       "    <tr>\n",
       "      <th>Object</th>\n",
       "      <th></th>\n",
       "      <th></th>\n",
       "      <th></th>\n",
       "      <th></th>\n",
       "      <th></th>\n",
       "    </tr>\n",
       "  </thead>\n",
       "  <tbody>\n",
       "    <tr>\n",
       "      <th>Aluninum Cylinder</th>\n",
       "      <td>0.2</td>\n",
       "      <td>0.1</td>\n",
       "      <td>0.5</td>\n",
       "      <td>0.015708</td>\n",
       "      <td>42.4115</td>\n",
       "    </tr>\n",
       "    <tr>\n",
       "      <th>Brass Cylinder</th>\n",
       "      <td>0.2</td>\n",
       "      <td>0.1</td>\n",
       "      <td>0.5</td>\n",
       "      <td>0.015708</td>\n",
       "      <td>137.1305</td>\n",
       "    </tr>\n",
       "  </tbody>\n",
       "</table><table border=\"1\" class=\"dataframe\">\n",
       "  <thead>\n",
       "    <tr style=\"text-align: right;\">\n",
       "      <th></th>\n",
       "      <th>Length (meters)</th>\n",
       "      <th>Width (meters)</th>\n",
       "      <th>Height (meters)</th>\n",
       "      <th>Volume (cubit meters)</th>\n",
       "      <th>Mass (kilograms)</th>\n",
       "    </tr>\n",
       "    <tr>\n",
       "      <th>Object</th>\n",
       "      <th></th>\n",
       "      <th></th>\n",
       "      <th></th>\n",
       "      <th></th>\n",
       "      <th></th>\n",
       "    </tr>\n",
       "  </thead>\n",
       "  <tbody>\n",
       "    <tr>\n",
       "      <th>Aluminum Block</th>\n",
       "      <td>0.2</td>\n",
       "      <td>0.4</td>\n",
       "      <td>0.3</td>\n",
       "      <td>0.024</td>\n",
       "      <td>64.80</td>\n",
       "    </tr>\n",
       "    <tr>\n",
       "      <th>Brass Block</th>\n",
       "      <td>0.2</td>\n",
       "      <td>0.4</td>\n",
       "      <td>0.3</td>\n",
       "      <td>0.024</td>\n",
       "      <td>209.52</td>\n",
       "    </tr>\n",
       "  </tbody>\n",
       "</table><table border=\"1\" class=\"dataframe\">\n",
       "  <thead>\n",
       "    <tr style=\"text-align: right;\">\n",
       "      <th></th>\n",
       "      <th>Density (kilogram per cubic meter)</th>\n",
       "    </tr>\n",
       "  </thead>\n",
       "  <tbody>\n",
       "    <tr>\n",
       "      <th>Aluminum</th>\n",
       "      <td>2700</td>\n",
       "    </tr>\n",
       "    <tr>\n",
       "      <th>Brass</th>\n",
       "      <td>8730</td>\n",
       "    </tr>\n",
       "  </tbody>\n",
       "</table>"
      ],
      "text/plain": [
       "<IPython.core.display.HTML object>"
      ]
     },
     "execution_count": 15,
     "metadata": {},
     "output_type": "execute_result"
    }
   ],
   "source": [
    "# Print the data table\n",
    "\n",
    "HTML(dfCylinder.to_html() + dfBlock.to_html() + dfDensity.to_html())"
   ]
  },
  {
   "cell_type": "code",
   "execution_count": 9,
   "id": "f16294f4-2f34-4efa-b431-71ddef429599",
   "metadata": {},
   "outputs": [
    {
     "data": {
      "text/markdown": [
       "\n",
       "<p style=\"page-break-after:always;\"></p>\n",
       "\n",
       "## Discussion\n",
       "\n",
       "__A solid object is made of two materials, one material having density of 2 000 kg/m3 and the other having density of 6 000 kg/m3. If the object contains equal volumes of the materials, what is its average density?__\n",
       "\n",
       "Your Answer to Question 1\n",
       "\n",
       "__The standard kilogram is a platinum-iridium cylinder 39.0 mm in height and 39.0 mm in diameter. What is the density of the material in SI units?__\n",
       "\n",
       "Your Answer to Question 2\n"
      ],
      "text/plain": [
       "<IPython.core.display.Markdown object>"
      ]
     },
     "execution_count": 9,
     "metadata": {},
     "output_type": "execute_result"
    }
   ],
   "source": [
    "%%markdown\n",
    "\n",
    "<p style=\"page-break-after:always;\"></p>\n",
    "\n",
    "## Discussion\n",
    "\n",
    "__A solid object is made of two materials, one material having density of 2 000 kg/m3 and the other having density of 6 000 kg/m3. If the object contains equal volumes of the materials, what is its average density?__\n",
    "\n",
    "{dq1.value}\n",
    "\n",
    "__The standard kilogram is a platinum-iridium cylinder 39.0 mm in height and 39.0 mm in diameter. What is the density of the material in SI units?__\n",
    "\n",
    "{dq2.value}"
   ]
  },
  {
   "cell_type": "code",
   "execution_count": null,
   "id": "c362ae9c-a524-4ef2-bb4d-1bfc304c0a32",
   "metadata": {},
   "outputs": [],
   "source": []
  }
 ],
 "metadata": {
  "kernelspec": {
   "display_name": "Python 3 (ipykernel)",
   "language": "python",
   "name": "python3"
  },
  "language_info": {
   "codemirror_mode": {
    "name": "ipython",
    "version": 3
   },
   "file_extension": ".py",
   "mimetype": "text/x-python",
   "name": "python",
   "nbconvert_exporter": "python",
   "pygments_lexer": "ipython3",
   "version": "3.11.2"
  }
 },
 "nbformat": 4,
 "nbformat_minor": 5
}

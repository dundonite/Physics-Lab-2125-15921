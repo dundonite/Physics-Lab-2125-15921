{
 "cells": [
  {
   "cell_type": "code",
   "execution_count": 1,
   "id": "7823e550-cb35-4870-af86-7f2dd13e3fbc",
   "metadata": {
    "editable": true,
    "slideshow": {
     "slide_type": ""
    },
    "tags": [
     "remove-cell"
    ]
   },
   "outputs": [],
   "source": [
    "# Import libraries\n",
    "%load_ext autoreload\n",
    "%autoreload 2\n",
    "import matplotlib.pyplot as plt\n",
    "import numpy as np\n",
    "import pandas as pd\n",
    "import yaml\n",
    "from IPython.display import Markdown as md\n",
    "from IPython.core.magic import register_cell_magic\n",
    "from tabulate import tabulate\n",
    "from sklearn.linear_model import LinearRegression\n",
    "from IPython.display import Latex\n",
    "import mercury as mr\n",
    "\n",
    "# Allow for markdown code cells\n",
    "@register_cell_magic\n",
    "def markdown(line, cell):\n",
    "    return md(cell.format(**globals()))"
   ]
  },
  {
   "cell_type": "code",
   "execution_count": 2,
   "id": "3f8c7851-a8b2-4291-aae0-f55f005aacdb",
   "metadata": {
    "editable": true,
    "slideshow": {
     "slide_type": ""
    },
    "tags": [
     "remove-cell"
    ]
   },
   "outputs": [
    {
     "data": {
      "application/mercury+json": "{\n    \"widget\": \"Text\",\n    \"value\": \"Your Name\",\n    \"sanitize\": true,\n    \"rows\": 1,\n    \"label\": \"What is your name?\",\n    \"model_id\": \"fb2be0dc1b394e7faeec9c88e803e700\",\n    \"code_uid\": \"Text.0.50.78.2-randb9c177f2\",\n    \"url_key\": \"\",\n    \"disabled\": false,\n    \"hidden\": false\n}",
      "application/vnd.jupyter.widget-view+json": {
       "model_id": "fb2be0dc1b394e7faeec9c88e803e700",
       "version_major": 2,
       "version_minor": 0
      },
      "text/plain": [
       "mercury.Text"
      ]
     },
     "metadata": {},
     "output_type": "display_data"
    },
    {
     "data": {
      "application/mercury+json": "{\n    \"widget\": \"Text\",\n    \"value\": \"2125 (15921)\",\n    \"sanitize\": true,\n    \"rows\": 1,\n    \"label\": \"What class are you in?\",\n    \"model_id\": \"ddc28c3c92fb4284a42b298b9db52b4c\",\n    \"code_uid\": \"Text.0.50.78.3-rand01a7fe95\",\n    \"url_key\": \"\",\n    \"disabled\": false,\n    \"hidden\": false\n}",
      "application/vnd.jupyter.widget-view+json": {
       "model_id": "ddc28c3c92fb4284a42b298b9db52b4c",
       "version_major": 2,
       "version_minor": 0
      },
      "text/plain": [
       "mercury.Text"
      ]
     },
     "metadata": {},
     "output_type": "display_data"
    },
    {
     "data": {
      "application/mercury+json": "{\n    \"widget\": \"Text\",\n    \"value\": \"2025-01-17\",\n    \"sanitize\": true,\n    \"rows\": 1,\n    \"label\": \"Lab Date\",\n    \"model_id\": \"88067665c3f54711820b46f56c5bc53e\",\n    \"code_uid\": \"Text.0.50.78.4-rand971216e3\",\n    \"url_key\": \"\",\n    \"disabled\": false,\n    \"hidden\": false\n}",
      "application/vnd.jupyter.widget-view+json": {
       "model_id": "88067665c3f54711820b46f56c5bc53e",
       "version_major": 2,
       "version_minor": 0
      },
      "text/plain": [
       "mercury.Text"
      ]
     },
     "metadata": {},
     "output_type": "display_data"
    },
    {
     "data": {
      "application/mercury+json": "{\n    \"widget\": \"Text\",\n    \"value\": \"1\",\n    \"sanitize\": true,\n    \"rows\": 1,\n    \"label\": \"Lab Number\",\n    \"model_id\": \"d2741378425c4dfd8e794ab8ecfb68b0\",\n    \"code_uid\": \"Text.0.50.78.5-randd84a648d\",\n    \"url_key\": \"\",\n    \"disabled\": false,\n    \"hidden\": false\n}",
      "application/vnd.jupyter.widget-view+json": {
       "model_id": "d2741378425c4dfd8e794ab8ecfb68b0",
       "version_major": 2,
       "version_minor": 0
      },
      "text/plain": [
       "mercury.Text"
      ]
     },
     "metadata": {},
     "output_type": "display_data"
    },
    {
     "data": {
      "application/mercury+json": "{\n    \"widget\": \"Text\",\n    \"value\": \"Plotting a Straight Line Graph\",\n    \"sanitize\": true,\n    \"rows\": 1,\n    \"label\": \"Lab Name\",\n    \"model_id\": \"1f66fd554e0a4526a5be0f3c441cf734\",\n    \"code_uid\": \"Text.0.50.78.6-rand16dc2faf\",\n    \"url_key\": \"\",\n    \"disabled\": false,\n    \"hidden\": false\n}",
      "application/vnd.jupyter.widget-view+json": {
       "model_id": "1f66fd554e0a4526a5be0f3c441cf734",
       "version_major": 2,
       "version_minor": 0
      },
      "text/plain": [
       "mercury.Text"
      ]
     },
     "metadata": {},
     "output_type": "display_data"
    },
    {
     "data": {
      "application/mercury+json": "{\n    \"widget\": \"File\",\n    \"max_file_size\": \"10MB\",\n    \"label\": \"Data file upload\",\n    \"model_id\": \"69b4d9409f90448793225ce979f4a9f2\",\n    \"code_uid\": \"File.0.50.74.7-rand3f92ef60\",\n    \"disabled\": false,\n    \"hidden\": false\n}",
      "application/vnd.jupyter.widget-view+json": {
       "model_id": "69b4d9409f90448793225ce979f4a9f2",
       "version_major": 2,
       "version_minor": 0
      },
      "text/plain": [
       "mercury.File"
      ]
     },
     "metadata": {},
     "output_type": "display_data"
    }
   ],
   "source": [
    "# Request Data\n",
    "name = mr.Text(value=\"Your Name\", label=\"What is your name?\", rows=1)\n",
    "course = mr.Text(value=\"2125 (15921)\", label=\"What class are you in?\", rows=1)\n",
    "date = mr.Text(value=\"2025-01-17\", label=\"Lab Date\", rows=1)\n",
    "labNum = mr.Text(value=\"1\", label=\"Lab Number\", rows=1)\n",
    "labName = mr.Text(value=\"Plotting a Straight Line Graph\", label=\"Lab Name\", rows=1)\n",
    "file = mr.File(label=\"Data file upload\", max_file_size=\"10MB\")\n",
    "if file.filepath is not None:\n",
    "    df = pd.read_csv(file.filepath).set_index('x (meters)')\n"
   ]
  },
  {
   "cell_type": "code",
   "execution_count": 3,
   "id": "3da618d7-974a-467a-ab8c-86773d8ccd5a",
   "metadata": {
    "editable": true,
    "slideshow": {
     "slide_type": ""
    },
    "tags": [
     "remove-cell"
    ]
   },
   "outputs": [
    {
     "data": {
      "text/markdown": [
       "\n",
       "# Lab 1: Plotting a Straight Line Graph\n",
       "Name: **Your Name** \\\n",
       "Class: **2125 (15921)** \\\n",
       "Date: **2025-01-17**\n"
      ],
      "text/plain": [
       "<IPython.core.display.Markdown object>"
      ]
     },
     "execution_count": 3,
     "metadata": {},
     "output_type": "execute_result"
    }
   ],
   "source": [
    "%%markdown\n",
    "\n",
    "# Lab {labNum.value}: {labName.value}\n",
    "Name: **{name.value}** \\\n",
    "Class: **{course.value}** \\\n",
    "Date: **{date.value}**"
   ]
  },
  {
   "cell_type": "markdown",
   "id": "13c4809b-2bf1-432f-93e8-734fd53e9dd6",
   "metadata": {
    "editable": true,
    "slideshow": {
     "slide_type": ""
    },
    "tags": []
   },
   "source": [
    "<p style=\"page-break-after:always;\"></p>\n",
    "\n",
    "## Objective\n",
    "\n",
    "To learn to plot a straight line graph and determine the slope and the y-intercept.\n",
    "\n",
    "## Equipment\n",
    "\n",
    "None\n",
    "\n",
    "## Theory\n",
    "\n",
    "As shown in the \"Scatterplot with Trendline\" section below, a two-dimensional set of data can be visualized on a coordinate plane, using the equation $y=mx+b$ where $m$ is the slope and $b$ is the $y$-intercept.\n",
    "\n",
    "## Procedure:\n",
    "\n",
    "1. Data (see below) was provided by the professor.\n",
    "1. A linear trendline was fit to the data.\n",
    "1. Using the linear trendline we calculated the slope ($m$) and $y$-intercept ($b$).\n",
    "\n",
    "# Data"
   ]
  },
  {
   "cell_type": "code",
   "execution_count": 4,
   "id": "88de4dc9-a29b-4652-9a4c-c8bb9c17a1a7",
   "metadata": {
    "editable": true,
    "slideshow": {
     "slide_type": ""
    },
    "tags": []
   },
   "outputs": [
    {
     "ename": "NameError",
     "evalue": "name 'df' is not defined",
     "output_type": "error",
     "traceback": [
      "\u001b[0;31m---------------------------------------------------------------------------\u001b[0m",
      "\u001b[0;31mNameError\u001b[0m                                 Traceback (most recent call last)",
      "Cell \u001b[0;32mIn[4], line 3\u001b[0m\n\u001b[1;32m      1\u001b[0m \u001b[38;5;28;01mfrom\u001b[39;00m\u001b[38;5;250m \u001b[39m\u001b[38;5;21;01mIPython\u001b[39;00m\u001b[38;5;21;01m.\u001b[39;00m\u001b[38;5;21;01mdisplay\u001b[39;00m\u001b[38;5;250m \u001b[39m\u001b[38;5;28;01mimport\u001b[39;00m display, HTML\n\u001b[0;32m----> 3\u001b[0m HTML(\u001b[43mdf\u001b[49m\u001b[38;5;241m.\u001b[39mto_html())\n",
      "\u001b[0;31mNameError\u001b[0m: name 'df' is not defined"
     ]
    }
   ],
   "source": [
    "from IPython.display import display, HTML\n",
    "\n",
    "HTML(df.to_html())"
   ]
  },
  {
   "cell_type": "markdown",
   "id": "1e4a45dd-a4c8-42c3-b85a-6a5bbf49dc45",
   "metadata": {
    "editable": true,
    "slideshow": {
     "slide_type": ""
    },
    "tags": []
   },
   "source": [
    "# Calculations"
   ]
  },
  {
   "cell_type": "code",
   "execution_count": null,
   "id": "a3040632-03f7-4c39-a2da-5972a0d54937",
   "metadata": {
    "editable": true,
    "slideshow": {
     "slide_type": ""
    },
    "tags": []
   },
   "outputs": [],
   "source": [
    "# Calculate the standard deviation\n",
    "deviation = df.std(ddof=0)\n",
    "deviation_y = deviation['y (meters)'];\n",
    "deviation_str = str(\"%.2f\" % round(deviation_y, 2))\n",
    "\n",
    "# Calculate the mean\n",
    "mean = df.mean(axis=0)\n",
    "mean_y = mean['y (meters)']\n",
    "mean_y_str = str(\"%.2f\" % round(mean_y, 2))\n",
    "\n",
    "\n",
    "plt.scatter(df.index, df['y (meters)'])\n",
    "\n",
    "# Calculate trendline using NumPy's polyfit\n",
    "z = np.polyfit(df.index, df['y (meters)'], 1)  # 1 for linear trendline\n",
    "trend_slope, trend_intercept = z\n",
    "trend_slope_str = str(\"%.2f\" % round(trend_slope,2))\n",
    "trend_intercept_str = str(\"%.2f\" % round(trend_intercept,2))\n",
    "\n",
    "p = np.poly1d(z)\n",
    "\n",
    "# Plot the trendline\n",
    "plt.plot(df.index, p(df.index), \"r--\")\n",
    "\n",
    "# Set some nice labels\n",
    "plt.xlabel('x (meters)')\n",
    "plt.ylabel('y (meters)')\n",
    "plt.title('Scatter Plot with Trendline')\n",
    "plt.text(4, 8, f'slope: {trend_slope_str}', fontsize=12)\n",
    "plt.text(4, 6, f'intercept: {trend_intercept_str}', fontsize=12)\n",
    "plt.text(4, 4, f'y = {trend_slope_str} x + {trend_intercept_str}', fontsize=12)\n",
    "\n",
    "# Render the plot\n",
    "plt.show()\n",
    "\n",
    "# Show the math on standard deviation\n",
    "display(Latex(f'$\\\n",
    "σ=\\sqrt{{ \\\n",
    "  \\\\frac{{ \\\n",
    "    \\sum_{{i=1}}^n{{ \\\n",
    "      (x_i - x̄)^2 \\\n",
    "    }} \\\n",
    "  }} \\\n",
    "  {{n}} \\\n",
    "}} \\\n",
    "$'))\n",
    "\n",
    "display(Latex(f'$\\\n",
    "σ=\\sqrt{{ \\\n",
    "  \\\\frac{{ \\\n",
    "    \\sum_{{i=1}}^n{{ \\\n",
    "      (x_i - {mean_y_str})^2 \\\n",
    "    }} \\\n",
    "  }} \\\n",
    "  {{{df.shape[0]}}} \\\n",
    "}} \\\n",
    "$'))\n",
    "\n",
    "display(Latex(f'$\\\n",
    "σ= {deviation_str} \\\n",
    "$'))"
   ]
  },
  {
   "cell_type": "markdown",
   "id": "577c014b-3a02-4044-8d03-a95bcaae1422",
   "metadata": {
    "editable": true,
    "slideshow": {
     "slide_type": ""
    },
    "tags": []
   },
   "source": [
    "# Results"
   ]
  },
  {
   "cell_type": "code",
   "execution_count": null,
   "id": "884a7dc7-45d3-4505-9232-696564f88dc2",
   "metadata": {
    "editable": true,
    "slideshow": {
     "slide_type": ""
    },
    "tags": []
   },
   "outputs": [],
   "source": [
    "%%markdown\n",
    "\n",
    "The slope of the trendline is **{trend_slope_str}**\n",
    "\n",
    "The y-intercept of the trendline is **{trend_intercept_str}**\n",
    "\n",
    "The standard deviation (σ) of the population is **{deviation_str}**"
   ]
  }
 ],
 "metadata": {
  "kernelspec": {
   "display_name": "Python 3 (ipykernel)",
   "language": "python",
   "name": "python3"
  },
  "language_info": {
   "codemirror_mode": {
    "name": "ipython",
    "version": 3
   },
   "file_extension": ".py",
   "mimetype": "text/x-python",
   "name": "python",
   "nbconvert_exporter": "python",
   "pygments_lexer": "ipython3",
   "version": "3.11.2"
  }
 },
 "nbformat": 4,
 "nbformat_minor": 5
}

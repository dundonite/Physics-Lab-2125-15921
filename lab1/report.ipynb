{
 "cells": [
  {
   "cell_type": "code",
   "execution_count": 1,
   "id": "7823e550-cb35-4870-af86-7f2dd13e3fbc",
   "metadata": {
    "editable": true,
    "slideshow": {
     "slide_type": ""
    },
    "tags": [
     "remove-cell"
    ]
   },
   "outputs": [],
   "source": [
    "# Import libraries\n",
    "%load_ext autoreload\n",
    "%autoreload 2\n",
    "import matplotlib.pyplot as plt\n",
    "import numpy as np\n",
    "import pandas as pd\n",
    "import yaml\n",
    "from IPython.display import Markdown as md\n",
    "from IPython.core.magic import register_cell_magic\n",
    "from tabulate import tabulate\n",
    "from sklearn.linear_model import LinearRegression\n",
    "from IPython.display import Latex\n",
    "import mercury as mr\n",
    "\n",
    "# Allow for markdown code cells\n",
    "@register_cell_magic\n",
    "def markdown(line, cell):\n",
    "    return md(cell.format(**globals()))"
   ]
  },
  {
   "cell_type": "code",
   "execution_count": 2,
   "id": "3f8c7851-a8b2-4291-aae0-f55f005aacdb",
   "metadata": {
    "editable": true,
    "slideshow": {
     "slide_type": ""
    },
    "tags": [
     "remove-cell"
    ]
   },
   "outputs": [
    {
     "data": {
      "application/mercury+json": "{\n    \"widget\": \"Text\",\n    \"value\": \"Your Name\",\n    \"sanitize\": true,\n    \"rows\": 1,\n    \"label\": \"What is your name?\",\n    \"model_id\": \"028cd61b6c46459c8304e7377417a75f\",\n    \"code_uid\": \"Text.0.50.78.2-randb481f083\",\n    \"url_key\": \"\",\n    \"disabled\": false,\n    \"hidden\": false\n}",
      "application/vnd.jupyter.widget-view+json": {
       "model_id": "028cd61b6c46459c8304e7377417a75f",
       "version_major": 2,
       "version_minor": 0
      },
      "text/plain": [
       "mercury.Text"
      ]
     },
     "metadata": {},
     "output_type": "display_data"
    },
    {
     "data": {
      "application/mercury+json": "{\n    \"widget\": \"Text\",\n    \"value\": \"2125 (15921)\",\n    \"sanitize\": true,\n    \"rows\": 1,\n    \"label\": \"What class are you in?\",\n    \"model_id\": \"ca95122b7183484b9106995f6f73365b\",\n    \"code_uid\": \"Text.0.50.78.3-rand0a4f1916\",\n    \"url_key\": \"\",\n    \"disabled\": false,\n    \"hidden\": false\n}",
      "application/vnd.jupyter.widget-view+json": {
       "model_id": "ca95122b7183484b9106995f6f73365b",
       "version_major": 2,
       "version_minor": 0
      },
      "text/plain": [
       "mercury.Text"
      ]
     },
     "metadata": {},
     "output_type": "display_data"
    },
    {
     "data": {
      "application/mercury+json": "{\n    \"widget\": \"Text\",\n    \"value\": \"2025-01-17\",\n    \"sanitize\": true,\n    \"rows\": 1,\n    \"label\": \"Lab Date\",\n    \"model_id\": \"972947d5cc344499b5541b0e71759a87\",\n    \"code_uid\": \"Text.0.50.78.4-randffd5a1f4\",\n    \"url_key\": \"\",\n    \"disabled\": false,\n    \"hidden\": false\n}",
      "application/vnd.jupyter.widget-view+json": {
       "model_id": "972947d5cc344499b5541b0e71759a87",
       "version_major": 2,
       "version_minor": 0
      },
      "text/plain": [
       "mercury.Text"
      ]
     },
     "metadata": {},
     "output_type": "display_data"
    },
    {
     "data": {
      "application/mercury+json": "{\n    \"widget\": \"Text\",\n    \"value\": \"1\",\n    \"sanitize\": true,\n    \"rows\": 1,\n    \"label\": \"Lab Number\",\n    \"model_id\": \"1d1d2664abdd43fa957ca5f33e03639d\",\n    \"code_uid\": \"Text.0.50.78.5-randf01c52fd\",\n    \"url_key\": \"\",\n    \"disabled\": false,\n    \"hidden\": false\n}",
      "application/vnd.jupyter.widget-view+json": {
       "model_id": "1d1d2664abdd43fa957ca5f33e03639d",
       "version_major": 2,
       "version_minor": 0
      },
      "text/plain": [
       "mercury.Text"
      ]
     },
     "metadata": {},
     "output_type": "display_data"
    },
    {
     "data": {
      "application/mercury+json": "{\n    \"widget\": \"Text\",\n    \"value\": \"Plotting a Straight Line Graph\",\n    \"sanitize\": true,\n    \"rows\": 1,\n    \"label\": \"Lab Name\",\n    \"model_id\": \"884aec1d63444958b528a4626c07820e\",\n    \"code_uid\": \"Text.0.50.78.6-rand7ec04fb2\",\n    \"url_key\": \"\",\n    \"disabled\": false,\n    \"hidden\": false\n}",
      "application/vnd.jupyter.widget-view+json": {
       "model_id": "884aec1d63444958b528a4626c07820e",
       "version_major": 2,
       "version_minor": 0
      },
      "text/plain": [
       "mercury.Text"
      ]
     },
     "metadata": {},
     "output_type": "display_data"
    }
   ],
   "source": [
    "# Request Data\n",
    "name = mr.Text(value=\"Your Name\", label=\"What is your name?\", rows=1)\n",
    "course = mr.Text(value=\"2125 (15921)\", label=\"What class are you in?\", rows=1)\n",
    "date = mr.Text(value=\"2025-01-17\", label=\"Lab Date\", rows=1)\n",
    "labNum = mr.Text(value=\"1\", label=\"Lab Number\", rows=1)\n",
    "labName = mr.Text(value=\"Plotting a Straight Line Graph\", label=\"Lab Name\", rows=1)\n",
    "\n",
    "# Load data\n",
    "df = pd.read_csv('./data.csv').set_index('x (meters)')"
   ]
  },
  {
   "cell_type": "code",
   "execution_count": 3,
   "id": "3da618d7-974a-467a-ab8c-86773d8ccd5a",
   "metadata": {
    "editable": true,
    "slideshow": {
     "slide_type": ""
    },
    "tags": [
     "remove-cell"
    ]
   },
   "outputs": [
    {
     "data": {
      "text/markdown": [
       "\n",
       "# Lab 1: Plotting a Straight Line Graph\n",
       "Name: **Your Name** \\\n",
       "Class: **2125 (15921)** \\\n",
       "Date: **2025-01-17**\n"
      ],
      "text/plain": [
       "<IPython.core.display.Markdown object>"
      ]
     },
     "execution_count": 3,
     "metadata": {},
     "output_type": "execute_result"
    }
   ],
   "source": [
    "%%markdown\n",
    "\n",
    "# Lab {labNum.value}: {labName.value}\n",
    "Name: **{name.value}** \\\n",
    "Class: **{course.value}** \\\n",
    "Date: **{date.value}**"
   ]
  },
  {
   "cell_type": "markdown",
   "id": "13c4809b-2bf1-432f-93e8-734fd53e9dd6",
   "metadata": {
    "editable": true,
    "slideshow": {
     "slide_type": ""
    },
    "tags": []
   },
   "source": [
    "<p style=\"page-break-after:always;\"></p>\n",
    "\n",
    "## Objective\n",
    "\n",
    "To learn to plot a straight line graph and determine the slope and the y-intercept.\n",
    "\n",
    "## Equipment\n",
    "\n",
    "None\n",
    "\n",
    "## Theory\n",
    "\n",
    "As shown in the \"Scatterplot with Trendline\" section below, a two-dimensional set of data can be visualized on a coordinate plane, using the equation $y=mx+b$ where $m$ is the slope and $b$ is the $y$-intercept.\n",
    "\n",
    "## Procedure:\n",
    "\n",
    "1. Data (see below) was provided by the professor.\n",
    "1. A linear trendline was fit to the data.\n",
    "1. Using the linear trendline we calculated the slope ($m$) and $y$-intercept ($b$).\n",
    "\n",
    "# Data"
   ]
  },
  {
   "cell_type": "code",
   "execution_count": 4,
   "id": "88de4dc9-a29b-4652-9a4c-c8bb9c17a1a7",
   "metadata": {
    "editable": true,
    "slideshow": {
     "slide_type": ""
    },
    "tags": []
   },
   "outputs": [
    {
     "data": {
      "text/html": [
       "<table border=\"1\" class=\"dataframe\">\n",
       "  <thead>\n",
       "    <tr style=\"text-align: right;\">\n",
       "      <th></th>\n",
       "      <th>y (meters)</th>\n",
       "    </tr>\n",
       "    <tr>\n",
       "      <th>x (meters)</th>\n",
       "      <th></th>\n",
       "    </tr>\n",
       "  </thead>\n",
       "  <tbody>\n",
       "    <tr>\n",
       "      <th>0</th>\n",
       "      <td>-2.00</td>\n",
       "    </tr>\n",
       "    <tr>\n",
       "      <th>1</th>\n",
       "      <td>1.95</td>\n",
       "    </tr>\n",
       "    <tr>\n",
       "      <th>2</th>\n",
       "      <td>6.10</td>\n",
       "    </tr>\n",
       "    <tr>\n",
       "      <th>3</th>\n",
       "      <td>9.80</td>\n",
       "    </tr>\n",
       "    <tr>\n",
       "      <th>4</th>\n",
       "      <td>14.00</td>\n",
       "    </tr>\n",
       "    <tr>\n",
       "      <th>5</th>\n",
       "      <td>18.20</td>\n",
       "    </tr>\n",
       "    <tr>\n",
       "      <th>6</th>\n",
       "      <td>22.10</td>\n",
       "    </tr>\n",
       "  </tbody>\n",
       "</table>"
      ],
      "text/plain": [
       "<IPython.core.display.HTML object>"
      ]
     },
     "execution_count": 4,
     "metadata": {},
     "output_type": "execute_result"
    }
   ],
   "source": [
    "from IPython.display import display, HTML\n",
    "\n",
    "HTML(df.to_html())"
   ]
  },
  {
   "cell_type": "markdown",
   "id": "1e4a45dd-a4c8-42c3-b85a-6a5bbf49dc45",
   "metadata": {
    "editable": true,
    "slideshow": {
     "slide_type": ""
    },
    "tags": []
   },
   "source": [
    "# Calculations"
   ]
  },
  {
   "cell_type": "code",
   "execution_count": 5,
   "id": "a3040632-03f7-4c39-a2da-5972a0d54937",
   "metadata": {
    "editable": true,
    "slideshow": {
     "slide_type": ""
    },
    "tags": []
   },
   "outputs": [
    {
     "data": {
      "image/png": "[encoded data removed]",
      "text/plain": [
       "<Figure size 640x480 with 1 Axes>"
      ]
     },
     "metadata": {},
     "output_type": "display_data"
    },
    {
     "data": {
      "text/latex": [
       "$σ=\\sqrt{   \\frac{     \\sum_{i=1}^n{       (x_i - x̄)^2     }   }   {n} } $"
      ],
      "text/plain": [
       "<IPython.core.display.Latex object>"
      ]
     },
     "metadata": {},
     "output_type": "display_data"
    },
    {
     "data": {
      "text/latex": [
       "$σ=\\sqrt{   \\frac{     \\sum_{i=1}^n{       (x_i - 10.02)^2     }   }   {7} } $"
      ],
      "text/plain": [
       "<IPython.core.display.Latex object>"
      ]
     },
     "metadata": {},
     "output_type": "display_data"
    },
    {
     "data": {
      "text/latex": [
       "$σ= 8.05 $"
      ],
      "text/plain": [
       "<IPython.core.display.Latex object>"
      ]
     },
     "metadata": {},
     "output_type": "display_data"
    }
   ],
   "source": [
    "# Calculate the standard deviation\n",
    "deviation = df.std(ddof=0)\n",
    "deviation_y = deviation['y (meters)'];\n",
    "deviation_str = str(\"%.2f\" % round(deviation_y, 2))\n",
    "\n",
    "# Calculate the mean\n",
    "mean = df.mean(axis=0)\n",
    "mean_y = mean['y (meters)']\n",
    "mean_y_str = str(\"%.2f\" % round(mean_y, 2))\n",
    "\n",
    "\n",
    "plt.scatter(df.index, df['y (meters)'])\n",
    "\n",
    "# Calculate trendline using NumPy's polyfit\n",
    "z = np.polyfit(df.index, df['y (meters)'], 1)  # 1 for linear trendline\n",
    "trend_slope, trend_intercept = z\n",
    "trend_slope_str = str(\"%.2f\" % round(trend_slope,2))\n",
    "trend_intercept_str = str(\"%.2f\" % round(trend_intercept,2))\n",
    "\n",
    "p = np.poly1d(z)\n",
    "\n",
    "# Plot the trendline\n",
    "plt.plot(df.index, p(df.index), \"r--\")\n",
    "\n",
    "# Set some nice labels\n",
    "plt.xlabel('x (meters)')\n",
    "plt.ylabel('y (meters)')\n",
    "plt.title('Scatter Plot with Trendline')\n",
    "plt.text(4, 8, f'slope: {trend_slope_str}', fontsize=12)\n",
    "plt.text(4, 6, f'intercept: {trend_intercept_str}', fontsize=12)\n",
    "plt.text(4, 4, f'y = {trend_slope_str} x + {trend_intercept_str}', fontsize=12)\n",
    "\n",
    "# Render the plot\n",
    "plt.show()\n",
    "\n",
    "# Show the math on standard deviation\n",
    "display(Latex(f'$\\\n",
    "σ=\\sqrt{{ \\\n",
    "  \\\\frac{{ \\\n",
    "    \\sum_{{i=1}}^n{{ \\\n",
    "      (x_i - x̄)^2 \\\n",
    "    }} \\\n",
    "  }} \\\n",
    "  {{n}} \\\n",
    "}} \\\n",
    "$'))\n",
    "\n",
    "display(Latex(f'$\\\n",
    "σ=\\sqrt{{ \\\n",
    "  \\\\frac{{ \\\n",
    "    \\sum_{{i=1}}^n{{ \\\n",
    "      (x_i - {mean_y_str})^2 \\\n",
    "    }} \\\n",
    "  }} \\\n",
    "  {{{df.shape[0]}}} \\\n",
    "}} \\\n",
    "$'))\n",
    "\n",
    "display(Latex(f'$\\\n",
    "σ= {deviation_str} \\\n",
    "$'))"
   ]
  },
  {
   "cell_type": "markdown",
   "id": "577c014b-3a02-4044-8d03-a95bcaae1422",
   "metadata": {
    "editable": true,
    "slideshow": {
     "slide_type": ""
    },
    "tags": []
   },
   "source": [
    "# Results"
   ]
  },
  {
   "cell_type": "code",
   "execution_count": 6,
   "id": "884a7dc7-45d3-4505-9232-696564f88dc2",
   "metadata": {
    "editable": true,
    "slideshow": {
     "slide_type": ""
    },
    "tags": []
   },
   "outputs": [
    {
     "data": {
      "text/markdown": [
       "\n",
       "The slope of the trendline is **4.03**\n",
       "\n",
       "The y-intercept of the trendline is **-2.05**\n",
       "\n",
       "The standard deviation (σ) of the population is **8.05**\n"
      ],
      "text/plain": [
       "<IPython.core.display.Markdown object>"
      ]
     },
     "execution_count": 6,
     "metadata": {},
     "output_type": "execute_result"
    }
   ],
   "source": [
    "%%markdown\n",
    "\n",
    "The slope of the trendline is **{trend_slope_str}**\n",
    "\n",
    "The y-intercept of the trendline is **{trend_intercept_str}**\n",
    "\n",
    "The standard deviation (σ) of the population is **{deviation_str}**"
   ]
  }
 ],
 "metadata": {
  "kernelspec": {
   "display_name": "Python 3 (ipykernel)",
   "language": "python",
   "name": "python3"
  },
  "language_info": {
   "codemirror_mode": {
    "name": "ipython",
    "version": 3
   },
   "file_extension": ".py",
   "mimetype": "text/x-python",
   "name": "python",
   "nbconvert_exporter": "python",
   "pygments_lexer": "ipython3",
   "version": "3.11.2"
  }
 },
 "nbformat": 4,
 "nbformat_minor": 5
}
